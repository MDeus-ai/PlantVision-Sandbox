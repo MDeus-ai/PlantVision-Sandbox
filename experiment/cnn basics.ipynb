{
 "cells": [
  {
   "cell_type": "markdown",
   "id": "01eb73b5-d7b3-44a0-ba98-d8eb48a11300",
   "metadata": {},
   "source": [
    "<div style='background: cyan; font-size: 74px; font-weight: bold'>CNN BASICS</div>"
   ]
  },
  {
   "cell_type": "code",
   "execution_count": 1,
   "id": "1105e12e-53a6-4e17-bc70-f45e1a70950c",
   "metadata": {},
   "outputs": [],
   "source": [
    "import torch\n",
    "from tqdm.auto import tqdm\n",
    "import torch.nn as nn\n",
    "from torch.utils.data import DataLoader\n",
    "from torchvision import transforms\n",
    "import torchvision.datasets as datasets"
   ]
  },
  {
   "cell_type": "markdown",
   "id": "d2b15898-4be5-4f55-a9e1-fd87ba9cddfe",
   "metadata": {},
   "source": [
    "<div style='background: cyan; font-size: 74px; font-weight: bold'>DATA INGESTION</div>"
   ]
  },
  {
   "cell_type": "code",
   "execution_count": 2,
   "id": "0df81244-149c-48d1-acc3-9f74e9838370",
   "metadata": {},
   "outputs": [],
   "source": [
    "transforms = transforms.Compose([\n",
    "    transforms.Resize((24, 24)),\n",
    "    transforms.Grayscale(), # Convert an RGB to a grey channel (blank and white)\n",
    "    transforms.ToTensor()\n",
    "])"
   ]
  },
  {
   "cell_type": "code",
   "execution_count": 3,
   "id": "e8347579-008f-4dbc-ab4a-a4c72a348b60",
   "metadata": {},
   "outputs": [],
   "source": [
    "img_dataset = datasets.ImageFolder(root='../datasets/processed/', transform=transforms)\n",
    "loader = DataLoader(dataset=img_dataset, batch_size=32, shuffle=True)"
   ]
  },
  {
   "cell_type": "markdown",
   "id": "6222ac38-1d6b-471f-82b5-d5e10b0df6d9",
   "metadata": {},
   "source": [
    "<div style='background: cyan; font-size: 74px; font-weight: bold'>MODEL DEFINITION</div>"
   ]
  },
  {
   "cell_type": "code",
   "execution_count": 4,
   "id": "7dd0c0a4-77ec-42b0-b66e-7b04ed21bc43",
   "metadata": {},
   "outputs": [],
   "source": [
    "class Mlp(nn.Module):\n",
    "    def __init__(self, input_size=24*24, hidden_size=128, output_size=38):\n",
    "        super().__init__()\n",
    "        self.layer_1 = nn.Linear(in_features=input_size, out_features=hidden_size)\n",
    "        self.relu_1 = nn.ReLU()\n",
    "        self.layer_2 = nn.Linear(in_features=hidden_size, out_features=output_size) # Output -> [batch_size, num_classes]\n",
    "        # self.softmax = nn.Softmax(dim=1)\n",
    "    def forward(self, x):\n",
    "        x = x.view(x.size(0), -1) # Flatten the inputs\n",
    "        x = self.relu_1(self.layer_1(x))\n",
    "        # x = self.softmax(self.layer_2(x)) ⚠️don't apply softmax manually\n",
    "        return x"
   ]
  },
  {
   "cell_type": "markdown",
   "id": "c627cc57-87bd-49bc-b448-740ad7a978d0",
   "metadata": {},
   "source": [
    "<div style='background: cyan; font-size: 74px; font-weight: bold'>TRAINING LOOP</div>"
   ]
  },
  {
   "cell_type": "code",
   "execution_count": 5,
   "id": "2b09718d-b977-45ac-8a3a-4edacfdb6187",
   "metadata": {},
   "outputs": [],
   "source": [
    "simple_mlp = Mlp()\n",
    "criterion = nn.CrossEntropyLoss() # Also handles softmax internally\n",
    "optimizer = torch.optim.Adam(simple_mlp.parameters(), lr=0.001) # Update model params"
   ]
  },
  {
   "cell_type": "code",
   "execution_count": 6,
   "id": "e1e2c3c2-ef9b-46a0-98be-569c847ae565",
   "metadata": {
    "scrolled": true
   },
   "outputs": [
    {
     "data": {
      "application/vnd.jupyter.widget-view+json": {
       "model_id": "04f4326bf8e64049ab641131fa8846cb",
       "version_major": 2,
       "version_minor": 0
      },
      "text/plain": [
       "Epoch 1/20:   0%|                                                                                             …"
      ]
     },
     "metadata": {},
     "output_type": "display_data"
    },
    {
     "name": "stdout",
     "output_type": "stream",
     "text": [
      "   Epoch 1, - Avg Loss: 4.3414\n"
     ]
    },
    {
     "data": {
      "application/vnd.jupyter.widget-view+json": {
       "model_id": "ac9571202b7f4fefabba3feb46719492",
       "version_major": 2,
       "version_minor": 0
      },
      "text/plain": [
       "Epoch 2/20:   0%|                                                                                             …"
      ]
     },
     "metadata": {},
     "output_type": "display_data"
    },
    {
     "name": "stdout",
     "output_type": "stream",
     "text": [
      "   Epoch 2, - Avg Loss: 4.2330\n"
     ]
    },
    {
     "data": {
      "application/vnd.jupyter.widget-view+json": {
       "model_id": "c758a0aaa34d4e29afcfacd3bb2ef89a",
       "version_major": 2,
       "version_minor": 0
      },
      "text/plain": [
       "Epoch 3/20:   0%|                                                                                             …"
      ]
     },
     "metadata": {},
     "output_type": "display_data"
    },
    {
     "name": "stdout",
     "output_type": "stream",
     "text": [
      "   Epoch 3, - Avg Loss: 4.1911\n"
     ]
    },
    {
     "data": {
      "application/vnd.jupyter.widget-view+json": {
       "model_id": "9496d18761f440569cb5bb42b7c8abed",
       "version_major": 2,
       "version_minor": 0
      },
      "text/plain": [
       "Epoch 4/20:   0%|                                                                                             …"
      ]
     },
     "metadata": {},
     "output_type": "display_data"
    },
    {
     "name": "stdout",
     "output_type": "stream",
     "text": [
      "   Epoch 4, - Avg Loss: 4.1649\n"
     ]
    },
    {
     "data": {
      "application/vnd.jupyter.widget-view+json": {
       "model_id": "eda1793a14e1456bb15775956d41849c",
       "version_major": 2,
       "version_minor": 0
      },
      "text/plain": [
       "Epoch 5/20:   0%|                                                                                             …"
      ]
     },
     "metadata": {},
     "output_type": "display_data"
    },
    {
     "name": "stdout",
     "output_type": "stream",
     "text": [
      "   Epoch 5, - Avg Loss: 4.1477\n"
     ]
    },
    {
     "data": {
      "application/vnd.jupyter.widget-view+json": {
       "model_id": "d895f6e51786498ab9404fc302c2cc65",
       "version_major": 2,
       "version_minor": 0
      },
      "text/plain": [
       "Epoch 6/20:   0%|                                                                                             …"
      ]
     },
     "metadata": {},
     "output_type": "display_data"
    },
    {
     "name": "stdout",
     "output_type": "stream",
     "text": [
      "   Epoch 6, - Avg Loss: 4.1221\n"
     ]
    },
    {
     "data": {
      "application/vnd.jupyter.widget-view+json": {
       "model_id": "f9cfab8c27844c97910e12f218434020",
       "version_major": 2,
       "version_minor": 0
      },
      "text/plain": [
       "Epoch 7/20:   0%|                                                                                             …"
      ]
     },
     "metadata": {},
     "output_type": "display_data"
    },
    {
     "name": "stdout",
     "output_type": "stream",
     "text": [
      "   Epoch 7, - Avg Loss: 4.1072\n"
     ]
    },
    {
     "data": {
      "application/vnd.jupyter.widget-view+json": {
       "model_id": "09b407d66f6f425eaa38b75389ec8a94",
       "version_major": 2,
       "version_minor": 0
      },
      "text/plain": [
       "Epoch 8/20:   0%|                                                                                             …"
      ]
     },
     "metadata": {},
     "output_type": "display_data"
    },
    {
     "name": "stdout",
     "output_type": "stream",
     "text": [
      "   Epoch 8, - Avg Loss: 4.1036\n"
     ]
    },
    {
     "data": {
      "application/vnd.jupyter.widget-view+json": {
       "model_id": "06323c57982e45eabe02a256dcece1d2",
       "version_major": 2,
       "version_minor": 0
      },
      "text/plain": [
       "Epoch 9/20:   0%|                                                                                             …"
      ]
     },
     "metadata": {},
     "output_type": "display_data"
    },
    {
     "name": "stdout",
     "output_type": "stream",
     "text": [
      "   Epoch 9, - Avg Loss: 4.0779\n"
     ]
    },
    {
     "data": {
      "application/vnd.jupyter.widget-view+json": {
       "model_id": "5408e9ed8e6e4034896633adc3c7ac32",
       "version_major": 2,
       "version_minor": 0
      },
      "text/plain": [
       "Epoch 10/20:   0%|                                                                                            …"
      ]
     },
     "metadata": {},
     "output_type": "display_data"
    },
    {
     "name": "stdout",
     "output_type": "stream",
     "text": [
      "   Epoch 10, - Avg Loss: 4.0827\n"
     ]
    },
    {
     "data": {
      "application/vnd.jupyter.widget-view+json": {
       "model_id": "3184dbb7be23456bb74b31a2b5a353de",
       "version_major": 2,
       "version_minor": 0
      },
      "text/plain": [
       "Epoch 11/20:   0%|                                                                                            …"
      ]
     },
     "metadata": {},
     "output_type": "display_data"
    },
    {
     "name": "stdout",
     "output_type": "stream",
     "text": [
      "   Epoch 11, - Avg Loss: 4.0672\n"
     ]
    },
    {
     "data": {
      "application/vnd.jupyter.widget-view+json": {
       "model_id": "cda04686c44948c99688f5a89973f867",
       "version_major": 2,
       "version_minor": 0
      },
      "text/plain": [
       "Epoch 12/20:   0%|                                                                                            …"
      ]
     },
     "metadata": {},
     "output_type": "display_data"
    },
    {
     "name": "stdout",
     "output_type": "stream",
     "text": [
      "   Epoch 12, - Avg Loss: 4.0666\n"
     ]
    },
    {
     "data": {
      "application/vnd.jupyter.widget-view+json": {
       "model_id": "1d426fd9d7a04ea2adebd84bd810cfb9",
       "version_major": 2,
       "version_minor": 0
      },
      "text/plain": [
       "Epoch 13/20:   0%|                                                                                            …"
      ]
     },
     "metadata": {},
     "output_type": "display_data"
    },
    {
     "name": "stdout",
     "output_type": "stream",
     "text": [
      "   Epoch 13, - Avg Loss: 4.0635\n"
     ]
    },
    {
     "data": {
      "application/vnd.jupyter.widget-view+json": {
       "model_id": "360776d1dbdc4056afae6f6fb02dcc3c",
       "version_major": 2,
       "version_minor": 0
      },
      "text/plain": [
       "Epoch 14/20:   0%|                                                                                            …"
      ]
     },
     "metadata": {},
     "output_type": "display_data"
    },
    {
     "name": "stdout",
     "output_type": "stream",
     "text": [
      "   Epoch 14, - Avg Loss: 4.0566\n"
     ]
    },
    {
     "data": {
      "application/vnd.jupyter.widget-view+json": {
       "model_id": "57a32fb2a1e5478d9a6e967e6319c6ec",
       "version_major": 2,
       "version_minor": 0
      },
      "text/plain": [
       "Epoch 15/20:   0%|                                                                                            …"
      ]
     },
     "metadata": {},
     "output_type": "display_data"
    },
    {
     "name": "stdout",
     "output_type": "stream",
     "text": [
      "   Epoch 15, - Avg Loss: 4.0420\n"
     ]
    },
    {
     "data": {
      "application/vnd.jupyter.widget-view+json": {
       "model_id": "7e1067886ea04b05980ebee503ad50cc",
       "version_major": 2,
       "version_minor": 0
      },
      "text/plain": [
       "Epoch 16/20:   0%|                                                                                            …"
      ]
     },
     "metadata": {},
     "output_type": "display_data"
    },
    {
     "name": "stdout",
     "output_type": "stream",
     "text": [
      "   Epoch 16, - Avg Loss: 4.0488\n"
     ]
    },
    {
     "data": {
      "application/vnd.jupyter.widget-view+json": {
       "model_id": "1c5b9b861ea64dae9c52e27515622712",
       "version_major": 2,
       "version_minor": 0
      },
      "text/plain": [
       "Epoch 17/20:   0%|                                                                                            …"
      ]
     },
     "metadata": {},
     "output_type": "display_data"
    },
    {
     "name": "stdout",
     "output_type": "stream",
     "text": [
      "   Epoch 17, - Avg Loss: 4.0422\n"
     ]
    },
    {
     "data": {
      "application/vnd.jupyter.widget-view+json": {
       "model_id": "2852fc5428244e79b1bcf831ddde54c7",
       "version_major": 2,
       "version_minor": 0
      },
      "text/plain": [
       "Epoch 18/20:   0%|                                                                                            …"
      ]
     },
     "metadata": {},
     "output_type": "display_data"
    },
    {
     "name": "stdout",
     "output_type": "stream",
     "text": [
      "   Epoch 18, - Avg Loss: 4.0351\n"
     ]
    },
    {
     "data": {
      "application/vnd.jupyter.widget-view+json": {
       "model_id": "26e628f18f5d4d8595d316830482938e",
       "version_major": 2,
       "version_minor": 0
      },
      "text/plain": [
       "Epoch 19/20:   0%|                                                                                            …"
      ]
     },
     "metadata": {},
     "output_type": "display_data"
    },
    {
     "name": "stdout",
     "output_type": "stream",
     "text": [
      "   Epoch 19, - Avg Loss: 4.0311\n"
     ]
    },
    {
     "data": {
      "application/vnd.jupyter.widget-view+json": {
       "model_id": "ce05f5c94df1482f981050d6dab17b09",
       "version_major": 2,
       "version_minor": 0
      },
      "text/plain": [
       "Epoch 20/20:   0%|                                                                                            …"
      ]
     },
     "metadata": {},
     "output_type": "display_data"
    },
    {
     "name": "stdout",
     "output_type": "stream",
     "text": [
      "   Epoch 20, - Avg Loss: 4.0293\n"
     ]
    }
   ],
   "source": [
    "# Training Loop\n",
    "num_epochs = 20\n",
    "\n",
    "for epoch in range(num_epochs):\n",
    "    simple_mlp.train() # Mostly for models with batch-norm\n",
    "    running_loss = 0.0\n",
    "\n",
    "    progress_bar = tqdm(loader, ncols=1000, desc=f\"Epoch {epoch+1}/{num_epochs}\") # For showing progress bars\n",
    "    for imgs, labels in progress_bar:\n",
    "        outputs = simple_mlp(imgs) # Forward pass, data ingestion\n",
    "        loss = criterion(outputs, labels) # Loss calculation\n",
    "\n",
    "        optimizer.zero_grad() # Set gradients to zero, cause grads from the previous epoch are retained by default\n",
    "        loss.backward() # perform backpropagation\n",
    "        optimizer.step() # Update weights\n",
    "\n",
    "        progress_bar.set_postfix(loss=loss.item())\n",
    "\n",
    "        running_loss += loss.item()\n",
    "    epoch_loss = running_loss / len(loader)\n",
    "    print(f\"   Epoch {epoch+1}, - Avg Loss: {epoch_loss:.4f}\") # Track loss for each epoch"
   ]
  },
  {
   "cell_type": "code",
   "execution_count": null,
   "id": "7394500f-39a4-41aa-afbf-37d38a5dda38",
   "metadata": {},
   "outputs": [],
   "source": [
    "# logit = torch.tensor([[0.9, 1.2, 3.5, 2.6],\n",
    "#                       [0.01, 0.78, 2.3, 8.1],\n",
    "#                       [1.9, 2.81, 5.5, 3.01]]\n",
    "#                       )\n",
    "# #apply softmax\n",
    "# softmax = nn.Softmax(dim=1)\n",
    "# logit_proba = softmax(logit)\n",
    "# pred_args = torch.argmax(logit, dim=1)\n",
    "# ground_truth_labels = torch.tensor([[2, 1, 2]])\n",
    "# pred = (ground_truth_labels==pred_args)\n",
    "# pred"
   ]
  }
 ],
 "metadata": {
  "kernelspec": {
   "display_name": "Python 3 (ipykernel)",
   "language": "python",
   "name": "python3"
  },
  "language_info": {
   "codemirror_mode": {
    "name": "ipython",
    "version": 3
   },
   "file_extension": ".py",
   "mimetype": "text/x-python",
   "name": "python",
   "nbconvert_exporter": "python",
   "pygments_lexer": "ipython3",
   "version": "3.12.6"
  },
  "widgets": {
   "application/vnd.jupyter.widget-state+json": {
    "state": {
     "0000dd9e4ec94954b86c01e81c950269": {
      "model_module": "@jupyter-widgets/base",
      "model_module_version": "2.0.0",
      "model_name": "LayoutModel",
      "state": {
       "display": "inline-flex",
       "flex_flow": "row wrap",
       "width": "1000px"
      }
     },
     "03a76519e09f4b70b1edb2a6ee5e0135": {
      "model_module": "@jupyter-widgets/controls",
      "model_module_version": "2.0.0",
      "model_name": "FloatProgressModel",
      "state": {
       "bar_style": "success",
       "layout": "IPY_MODEL_f9ce9bd210714d78a4b6a8ab0732df07",
       "max": 340,
       "style": "IPY_MODEL_34eaf51bd5944eeda13e173e015f600e",
       "value": 340
      }
     },
     "04721fb296eb417ea9be7171ebc1bc5d": {
      "model_module": "@jupyter-widgets/base",
      "model_module_version": "2.0.0",
      "model_name": "LayoutModel",
      "state": {
       "display": "inline-flex",
       "flex_flow": "row wrap",
       "width": "1000px"
      }
     },
     "04f4326bf8e64049ab641131fa8846cb": {
      "model_module": "@jupyter-widgets/controls",
      "model_module_version": "2.0.0",
      "model_name": "HBoxModel",
      "state": {
       "children": [
        "IPY_MODEL_ab3fc40ef00f4a0885aff17d2d4a79b3",
        "IPY_MODEL_938c7ee5a29947e386f7cdae8cb4cc74",
        "IPY_MODEL_071cb658202b4e1aad679b77c2553e47"
       ],
       "layout": "IPY_MODEL_a0aa55d3f1a44d2eb5fd7aa425a1b13b"
      }
     },
     "05ec2aeefb4541dba229364eddb6c432": {
      "model_module": "@jupyter-widgets/controls",
      "model_module_version": "2.0.0",
      "model_name": "ProgressStyleModel",
      "state": {
       "description_width": ""
      }
     },
     "06323c57982e45eabe02a256dcece1d2": {
      "model_module": "@jupyter-widgets/controls",
      "model_module_version": "2.0.0",
      "model_name": "HBoxModel",
      "state": {
       "children": [
        "IPY_MODEL_b879e32992bb4743aeb3366b9339f8a6",
        "IPY_MODEL_77a5ee56c870474b8d32ef7b574bb933",
        "IPY_MODEL_2e1e3f6c32b6400a8e0ef1b42334a0df"
       ],
       "layout": "IPY_MODEL_e34ae160a2b045e2b5aa9d475a8d9c1d"
      }
     },
     "071cb658202b4e1aad679b77c2553e47": {
      "model_module": "@jupyter-widgets/controls",
      "model_module_version": "2.0.0",
      "model_name": "HTMLModel",
      "state": {
       "layout": "IPY_MODEL_5f2741d825f44594891a06d01869584b",
       "style": "IPY_MODEL_41c8f8a5eb544dc8a173495f207de6b8",
       "value": " 340/340 [00:21&lt;00:00, 13.86it/s, loss=3.24]"
      }
     },
     "08ced3bd37c84128bbce2e78a7a5f76b": {
      "model_module": "@jupyter-widgets/base",
      "model_module_version": "2.0.0",
      "model_name": "LayoutModel",
      "state": {}
     },
     "09556297c1584754a4968e5feaea0172": {
      "model_module": "@jupyter-widgets/base",
      "model_module_version": "2.0.0",
      "model_name": "LayoutModel",
      "state": {}
     },
     "09b407d66f6f425eaa38b75389ec8a94": {
      "model_module": "@jupyter-widgets/controls",
      "model_module_version": "2.0.0",
      "model_name": "HBoxModel",
      "state": {
       "children": [
        "IPY_MODEL_6e0d3b8074ee453fa5ff7b271be3ad48",
        "IPY_MODEL_59defa204d5d45c58cc723210267cbfb",
        "IPY_MODEL_179e23424a04431ca1d0b464048416a5"
       ],
       "layout": "IPY_MODEL_66106ad6be7b467b8c440062f2ec9f71"
      }
     },
     "09d32b3565cf47c4999c6dc0bfd05867": {
      "model_module": "@jupyter-widgets/controls",
      "model_module_version": "2.0.0",
      "model_name": "ProgressStyleModel",
      "state": {
       "description_width": ""
      }
     },
     "0ac37ef4a80f4f9cbaee6ac9ce57b6a3": {
      "model_module": "@jupyter-widgets/controls",
      "model_module_version": "2.0.0",
      "model_name": "HTMLStyleModel",
      "state": {
       "description_width": "",
       "font_size": null,
       "text_color": null
      }
     },
     "0e35decd1f2c480fbe0b36568e4e0bdb": {
      "model_module": "@jupyter-widgets/controls",
      "model_module_version": "2.0.0",
      "model_name": "HTMLStyleModel",
      "state": {
       "description_width": "",
       "font_size": null,
       "text_color": null
      }
     },
     "0ecafa60c70a4021b4d99c34b7ca54de": {
      "model_module": "@jupyter-widgets/controls",
      "model_module_version": "2.0.0",
      "model_name": "FloatProgressModel",
      "state": {
       "bar_style": "success",
       "layout": "IPY_MODEL_37d76e165d364b13a5d4d9a06ae25628",
       "max": 340,
       "style": "IPY_MODEL_62203a0f0a2a4d1780a8df0a4248226b",
       "value": 340
      }
     },
     "0f164d0195d642a0afbe3744f37d9344": {
      "model_module": "@jupyter-widgets/controls",
      "model_module_version": "2.0.0",
      "model_name": "HTMLStyleModel",
      "state": {
       "description_width": "",
       "font_size": null,
       "text_color": null
      }
     },
     "0f277b3362034c4da1374107771fdaa9": {
      "model_module": "@jupyter-widgets/controls",
      "model_module_version": "2.0.0",
      "model_name": "HTMLModel",
      "state": {
       "layout": "IPY_MODEL_502585c088bb4cc1b14e82a7aa159b44",
       "style": "IPY_MODEL_a2cf653c256440f19e2ba3b5431ed23f",
       "value": "Epoch 13/20: 100%"
      }
     },
     "0f7d8589ac5f4922bc2b4b9b449686de": {
      "model_module": "@jupyter-widgets/controls",
      "model_module_version": "2.0.0",
      "model_name": "ProgressStyleModel",
      "state": {
       "description_width": ""
      }
     },
     "1288585eb22749eabf628dddb60921a0": {
      "model_module": "@jupyter-widgets/base",
      "model_module_version": "2.0.0",
      "model_name": "LayoutModel",
      "state": {}
     },
     "134753dae6b24abb9371b98d41855387": {
      "model_module": "@jupyter-widgets/base",
      "model_module_version": "2.0.0",
      "model_name": "LayoutModel",
      "state": {}
     },
     "13f8083d9442471fa20be21d82c6bc38": {
      "model_module": "@jupyter-widgets/controls",
      "model_module_version": "2.0.0",
      "model_name": "HTMLModel",
      "state": {
       "layout": "IPY_MODEL_8dc5309805704d58a54919e3d37aba84",
       "style": "IPY_MODEL_525f42fb4e7e4fc4b92e7e7957db0dff",
       "value": " 340/340 [00:18&lt;00:00, 18.50it/s, loss=2.96]"
      }
     },
     "1769005e1d0f469f93fd3098f4f766b4": {
      "model_module": "@jupyter-widgets/base",
      "model_module_version": "2.0.0",
      "model_name": "LayoutModel",
      "state": {}
     },
     "179e23424a04431ca1d0b464048416a5": {
      "model_module": "@jupyter-widgets/controls",
      "model_module_version": "2.0.0",
      "model_name": "HTMLModel",
      "state": {
       "layout": "IPY_MODEL_4694fdcfabac4c5384abe0fd9745f8e7",
       "style": "IPY_MODEL_dfb917253eb1409aaf7e8c79bc01009e",
       "value": " 340/340 [00:19&lt;00:00, 18.32it/s, loss=5.09]"
      }
     },
     "18a7bbc64f7343a799a2b088535e8618": {
      "model_module": "@jupyter-widgets/controls",
      "model_module_version": "2.0.0",
      "model_name": "HTMLModel",
      "state": {
       "layout": "IPY_MODEL_75a0ad54f5e246f5a819de3cc960b64f",
       "style": "IPY_MODEL_7d4a0405cdab4afa952a60000eae6c41",
       "value": " 340/340 [00:17&lt;00:00, 17.32it/s, loss=1.53]"
      }
     },
     "19c6988de15c4da2a9a5ee298936e729": {
      "model_module": "@jupyter-widgets/controls",
      "model_module_version": "2.0.0",
      "model_name": "HTMLModel",
      "state": {
       "layout": "IPY_MODEL_3b5245d5b834453180e5d8c5a57f16a3",
       "style": "IPY_MODEL_43c33f1aeec84375bac967e6d8cf01b2",
       "value": " 340/340 [00:17&lt;00:00, 19.74it/s, loss=5.74]"
      }
     },
     "1c5b9b861ea64dae9c52e27515622712": {
      "model_module": "@jupyter-widgets/controls",
      "model_module_version": "2.0.0",
      "model_name": "HBoxModel",
      "state": {
       "children": [
        "IPY_MODEL_29d4e04b8e6f4ad1bcce4b40f0baa22f",
        "IPY_MODEL_ada2c78ca7774121b0840a3bf7a18421",
        "IPY_MODEL_d870ea37dd864daeac542808c3d08013"
       ],
       "layout": "IPY_MODEL_4b8d5809144c49d29f6a9bd0be67de02"
      }
     },
     "1d426fd9d7a04ea2adebd84bd810cfb9": {
      "model_module": "@jupyter-widgets/controls",
      "model_module_version": "2.0.0",
      "model_name": "HBoxModel",
      "state": {
       "children": [
        "IPY_MODEL_0f277b3362034c4da1374107771fdaa9",
        "IPY_MODEL_41c3be4c781c423cb609c094ed2b7306",
        "IPY_MODEL_9946e370af84498488929b1608016c48"
       ],
       "layout": "IPY_MODEL_27e359c1ccbc4b368c4d86fb3ef340e4"
      }
     },
     "2180cfb5bbb34661bdbbcf563842582a": {
      "model_module": "@jupyter-widgets/base",
      "model_module_version": "2.0.0",
      "model_name": "LayoutModel",
      "state": {}
     },
     "249ee74d9fcd4225ab3a3e7ed720b700": {
      "model_module": "@jupyter-widgets/base",
      "model_module_version": "2.0.0",
      "model_name": "LayoutModel",
      "state": {}
     },
     "24e7869ffb734b0d8137e7751bcaa60c": {
      "model_module": "@jupyter-widgets/base",
      "model_module_version": "2.0.0",
      "model_name": "LayoutModel",
      "state": {
       "flex": "2"
      }
     },
     "26e628f18f5d4d8595d316830482938e": {
      "model_module": "@jupyter-widgets/controls",
      "model_module_version": "2.0.0",
      "model_name": "HBoxModel",
      "state": {
       "children": [
        "IPY_MODEL_8a987d2752ab4ef988b0a909b552df05",
        "IPY_MODEL_f7d5c50f335d41dab8a0c39c75501bf8",
        "IPY_MODEL_e904d15162b14759b5e905cacab001b1"
       ],
       "layout": "IPY_MODEL_0000dd9e4ec94954b86c01e81c950269"
      }
     },
     "27e359c1ccbc4b368c4d86fb3ef340e4": {
      "model_module": "@jupyter-widgets/base",
      "model_module_version": "2.0.0",
      "model_name": "LayoutModel",
      "state": {
       "display": "inline-flex",
       "flex_flow": "row wrap",
       "width": "1000px"
      }
     },
     "2852fc5428244e79b1bcf831ddde54c7": {
      "model_module": "@jupyter-widgets/controls",
      "model_module_version": "2.0.0",
      "model_name": "HBoxModel",
      "state": {
       "children": [
        "IPY_MODEL_7500d7bc344446618b86211582033a1e",
        "IPY_MODEL_0ecafa60c70a4021b4d99c34b7ca54de",
        "IPY_MODEL_f097e9553f2c4fc6a79b7b6238661906"
       ],
       "layout": "IPY_MODEL_a0e339619a944be194f8130697911383"
      }
     },
     "29d4e04b8e6f4ad1bcce4b40f0baa22f": {
      "model_module": "@jupyter-widgets/controls",
      "model_module_version": "2.0.0",
      "model_name": "HTMLModel",
      "state": {
       "layout": "IPY_MODEL_89abfa6dfbe04493b833afb6fca798df",
       "style": "IPY_MODEL_76635bfdbd6945539fac9820d1d33dd0",
       "value": "Epoch 17/20: 100%"
      }
     },
     "2d9b89ee47b048f2b2a4a387f3357514": {
      "model_module": "@jupyter-widgets/controls",
      "model_module_version": "2.0.0",
      "model_name": "FloatProgressModel",
      "state": {
       "bar_style": "success",
       "layout": "IPY_MODEL_fcf6ef5d539b47e79ff2247e975f9b21",
       "max": 340,
       "style": "IPY_MODEL_e358df70557c46788ab25b9ed6e350de",
       "value": 340
      }
     },
     "2dd38eecf6a94b7185bde45287b0aa5d": {
      "model_module": "@jupyter-widgets/controls",
      "model_module_version": "2.0.0",
      "model_name": "HTMLStyleModel",
      "state": {
       "description_width": "",
       "font_size": null,
       "text_color": null
      }
     },
     "2e020cba604a47ca9308e00b31ec28f4": {
      "model_module": "@jupyter-widgets/base",
      "model_module_version": "2.0.0",
      "model_name": "LayoutModel",
      "state": {}
     },
     "2e1e3f6c32b6400a8e0ef1b42334a0df": {
      "model_module": "@jupyter-widgets/controls",
      "model_module_version": "2.0.0",
      "model_name": "HTMLModel",
      "state": {
       "layout": "IPY_MODEL_249ee74d9fcd4225ab3a3e7ed720b700",
       "style": "IPY_MODEL_be39bb5ec8644bd2ae86fb0042f10240",
       "value": " 340/340 [00:18&lt;00:00, 17.79it/s, loss=0.0245]"
      }
     },
     "2ec6570f4ec542b9bf3ed88275d7d6aa": {
      "model_module": "@jupyter-widgets/base",
      "model_module_version": "2.0.0",
      "model_name": "LayoutModel",
      "state": {
       "display": "inline-flex",
       "flex_flow": "row wrap",
       "width": "1000px"
      }
     },
     "2f5d5e0c78cd4e6d8473f72633face08": {
      "model_module": "@jupyter-widgets/controls",
      "model_module_version": "2.0.0",
      "model_name": "HTMLModel",
      "state": {
       "layout": "IPY_MODEL_ce2cefbb54474d50b96cf85a6ea32744",
       "style": "IPY_MODEL_af54a4be683e4cf09217e2087941a56a",
       "value": " 340/340 [00:20&lt;00:00, 17.32it/s, loss=5.12]"
      }
     },
     "2f9828252c94490c8560f5c4b36f0171": {
      "model_module": "@jupyter-widgets/controls",
      "model_module_version": "2.0.0",
      "model_name": "FloatProgressModel",
      "state": {
       "bar_style": "success",
       "layout": "IPY_MODEL_967fd2e8abb945378654f979c1e6b431",
       "max": 340,
       "style": "IPY_MODEL_09d32b3565cf47c4999c6dc0bfd05867",
       "value": 340
      }
     },
     "2fcafc50892149b99330a1a2feff5074": {
      "model_module": "@jupyter-widgets/controls",
      "model_module_version": "2.0.0",
      "model_name": "ProgressStyleModel",
      "state": {
       "description_width": ""
      }
     },
     "3184dbb7be23456bb74b31a2b5a353de": {
      "model_module": "@jupyter-widgets/controls",
      "model_module_version": "2.0.0",
      "model_name": "HBoxModel",
      "state": {
       "children": [
        "IPY_MODEL_c4869219f9c44af3b73395cc7df377ba",
        "IPY_MODEL_dec1f2161bb44009ad636629e887dbf1",
        "IPY_MODEL_d7be83a91c95486b8b3cf03d3589271f"
       ],
       "layout": "IPY_MODEL_d8ccb6d77e6742159a8c165e0e89bbd1"
      }
     },
     "34eaf51bd5944eeda13e173e015f600e": {
      "model_module": "@jupyter-widgets/controls",
      "model_module_version": "2.0.0",
      "model_name": "ProgressStyleModel",
      "state": {
       "description_width": ""
      }
     },
     "35394006a8984e899fa9423c7d28c34b": {
      "model_module": "@jupyter-widgets/controls",
      "model_module_version": "2.0.0",
      "model_name": "FloatProgressModel",
      "state": {
       "bar_style": "success",
       "layout": "IPY_MODEL_3c6bcd5885f144a5ab2ec6259fac39a2",
       "max": 340,
       "style": "IPY_MODEL_b04ae4f42b8744df9a486ce8ff990cc9",
       "value": 340
      }
     },
     "35f253536532405e9b4674705c574486": {
      "model_module": "@jupyter-widgets/controls",
      "model_module_version": "2.0.0",
      "model_name": "HTMLStyleModel",
      "state": {
       "description_width": "",
       "font_size": null,
       "text_color": null
      }
     },
     "360776d1dbdc4056afae6f6fb02dcc3c": {
      "model_module": "@jupyter-widgets/controls",
      "model_module_version": "2.0.0",
      "model_name": "HBoxModel",
      "state": {
       "children": [
        "IPY_MODEL_4d822e383d90416ba679f186ceb1a2ef",
        "IPY_MODEL_6b00b5ac7b844651a679db9baf8349ff",
        "IPY_MODEL_a76e1572dd1e4b24b8636d70632f73fc"
       ],
       "layout": "IPY_MODEL_8a6b3ad61dbe49068a9fd7117ba2de9d"
      }
     },
     "37d76e165d364b13a5d4d9a06ae25628": {
      "model_module": "@jupyter-widgets/base",
      "model_module_version": "2.0.0",
      "model_name": "LayoutModel",
      "state": {
       "flex": "2"
      }
     },
     "38d6a8ce5c8149299e642f7b0a5d4c75": {
      "model_module": "@jupyter-widgets/controls",
      "model_module_version": "2.0.0",
      "model_name": "ProgressStyleModel",
      "state": {
       "description_width": ""
      }
     },
     "3ab5d86c46b54e188b53c2e1c651ee87": {
      "model_module": "@jupyter-widgets/controls",
      "model_module_version": "2.0.0",
      "model_name": "HTMLStyleModel",
      "state": {
       "description_width": "",
       "font_size": null,
       "text_color": null
      }
     },
     "3af3c0a61c1d43d9aad4619207492f22": {
      "model_module": "@jupyter-widgets/base",
      "model_module_version": "2.0.0",
      "model_name": "LayoutModel",
      "state": {}
     },
     "3b2d119ebccd4cbca56df497cf7118cc": {
      "model_module": "@jupyter-widgets/base",
      "model_module_version": "2.0.0",
      "model_name": "LayoutModel",
      "state": {}
     },
     "3b5245d5b834453180e5d8c5a57f16a3": {
      "model_module": "@jupyter-widgets/base",
      "model_module_version": "2.0.0",
      "model_name": "LayoutModel",
      "state": {}
     },
     "3c6bcd5885f144a5ab2ec6259fac39a2": {
      "model_module": "@jupyter-widgets/base",
      "model_module_version": "2.0.0",
      "model_name": "LayoutModel",
      "state": {
       "flex": "2"
      }
     },
     "3ca4943fbada4c2e828c00e02734dacd": {
      "model_module": "@jupyter-widgets/controls",
      "model_module_version": "2.0.0",
      "model_name": "HTMLStyleModel",
      "state": {
       "description_width": "",
       "font_size": null,
       "text_color": null
      }
     },
     "406311ea9094493d9e8ac59b45a407f3": {
      "model_module": "@jupyter-widgets/base",
      "model_module_version": "2.0.0",
      "model_name": "LayoutModel",
      "state": {}
     },
     "412748c967d14d12a747225c127e421e": {
      "model_module": "@jupyter-widgets/controls",
      "model_module_version": "2.0.0",
      "model_name": "HTMLStyleModel",
      "state": {
       "description_width": "",
       "font_size": null,
       "text_color": null
      }
     },
     "41c3be4c781c423cb609c094ed2b7306": {
      "model_module": "@jupyter-widgets/controls",
      "model_module_version": "2.0.0",
      "model_name": "FloatProgressModel",
      "state": {
       "bar_style": "success",
       "layout": "IPY_MODEL_c87cdf21342e46f1a1b39979f0f4b5cd",
       "max": 340,
       "style": "IPY_MODEL_ad5d455b3fb948dfb0b312e7f8567448",
       "value": 340
      }
     },
     "41c8f8a5eb544dc8a173495f207de6b8": {
      "model_module": "@jupyter-widgets/controls",
      "model_module_version": "2.0.0",
      "model_name": "HTMLStyleModel",
      "state": {
       "description_width": "",
       "font_size": null,
       "text_color": null
      }
     },
     "42841d5ed7894239b47834f981a0eb41": {
      "model_module": "@jupyter-widgets/base",
      "model_module_version": "2.0.0",
      "model_name": "LayoutModel",
      "state": {
       "flex": "2"
      }
     },
     "43c33f1aeec84375bac967e6d8cf01b2": {
      "model_module": "@jupyter-widgets/controls",
      "model_module_version": "2.0.0",
      "model_name": "HTMLStyleModel",
      "state": {
       "description_width": "",
       "font_size": null,
       "text_color": null
      }
     },
     "449c7aa3a8b94b64be257dfb8b630094": {
      "model_module": "@jupyter-widgets/base",
      "model_module_version": "2.0.0",
      "model_name": "LayoutModel",
      "state": {
       "flex": "2"
      }
     },
     "4694fdcfabac4c5384abe0fd9745f8e7": {
      "model_module": "@jupyter-widgets/base",
      "model_module_version": "2.0.0",
      "model_name": "LayoutModel",
      "state": {}
     },
     "48dcb3e803ca4d6a82133211f6c03386": {
      "model_module": "@jupyter-widgets/controls",
      "model_module_version": "2.0.0",
      "model_name": "HTMLModel",
      "state": {
       "layout": "IPY_MODEL_98f4665e19e34b34bfaab6584a2e90d2",
       "style": "IPY_MODEL_e535b9ec718e4356862f32bb24272222",
       "value": " 340/340 [00:19&lt;00:00, 18.62it/s, loss=3.03]"
      }
     },
     "4a1fd0187e4e4d1c9152ad59a5e03830": {
      "model_module": "@jupyter-widgets/controls",
      "model_module_version": "2.0.0",
      "model_name": "FloatProgressModel",
      "state": {
       "bar_style": "success",
       "layout": "IPY_MODEL_42841d5ed7894239b47834f981a0eb41",
       "max": 340,
       "style": "IPY_MODEL_4ccb5aed3e3d4d8c813d039b37c18c77",
       "value": 340
      }
     },
     "4a554bb8df644648bc55b4b932ae1dd0": {
      "model_module": "@jupyter-widgets/base",
      "model_module_version": "2.0.0",
      "model_name": "LayoutModel",
      "state": {}
     },
     "4b35ec9b2f354265abfbd3db7ed874f6": {
      "model_module": "@jupyter-widgets/controls",
      "model_module_version": "2.0.0",
      "model_name": "FloatProgressModel",
      "state": {
       "bar_style": "success",
       "layout": "IPY_MODEL_bd117d5f9fd24c288a21fa091b6ba370",
       "max": 340,
       "style": "IPY_MODEL_68e63897474845fcae245cea67fb5180",
       "value": 340
      }
     },
     "4b8d5809144c49d29f6a9bd0be67de02": {
      "model_module": "@jupyter-widgets/base",
      "model_module_version": "2.0.0",
      "model_name": "LayoutModel",
      "state": {
       "display": "inline-flex",
       "flex_flow": "row wrap",
       "width": "1000px"
      }
     },
     "4c926e7b64674d439e3327f3585dfdf5": {
      "model_module": "@jupyter-widgets/base",
      "model_module_version": "2.0.0",
      "model_name": "LayoutModel",
      "state": {}
     },
     "4ccb5aed3e3d4d8c813d039b37c18c77": {
      "model_module": "@jupyter-widgets/controls",
      "model_module_version": "2.0.0",
      "model_name": "ProgressStyleModel",
      "state": {
       "description_width": ""
      }
     },
     "4d822e383d90416ba679f186ceb1a2ef": {
      "model_module": "@jupyter-widgets/controls",
      "model_module_version": "2.0.0",
      "model_name": "HTMLModel",
      "state": {
       "layout": "IPY_MODEL_95cfe0023a29453a8899f4002e21f2cb",
       "style": "IPY_MODEL_5f6e1a9f5ef446119cde983fa573267a",
       "value": "Epoch 14/20: 100%"
      }
     },
     "4ea7f90308ab452184ef329d1b6e6c1c": {
      "model_module": "@jupyter-widgets/base",
      "model_module_version": "2.0.0",
      "model_name": "LayoutModel",
      "state": {
       "flex": "2"
      }
     },
     "502585c088bb4cc1b14e82a7aa159b44": {
      "model_module": "@jupyter-widgets/base",
      "model_module_version": "2.0.0",
      "model_name": "LayoutModel",
      "state": {}
     },
     "513a8f2d9eee4f6e9f0dff3ba8f7ab0c": {
      "model_module": "@jupyter-widgets/controls",
      "model_module_version": "2.0.0",
      "model_name": "HTMLStyleModel",
      "state": {
       "description_width": "",
       "font_size": null,
       "text_color": null
      }
     },
     "51efc6b6d7774fa9a2165171783f2c20": {
      "model_module": "@jupyter-widgets/base",
      "model_module_version": "2.0.0",
      "model_name": "LayoutModel",
      "state": {}
     },
     "525f42fb4e7e4fc4b92e7e7957db0dff": {
      "model_module": "@jupyter-widgets/controls",
      "model_module_version": "2.0.0",
      "model_name": "HTMLStyleModel",
      "state": {
       "description_width": "",
       "font_size": null,
       "text_color": null
      }
     },
     "533abf7f186045a7823c61f2e74f10d8": {
      "model_module": "@jupyter-widgets/controls",
      "model_module_version": "2.0.0",
      "model_name": "HTMLModel",
      "state": {
       "layout": "IPY_MODEL_db8338559afb4bc781019e48abdae215",
       "style": "IPY_MODEL_513a8f2d9eee4f6e9f0dff3ba8f7ab0c",
       "value": "Epoch 12/20: 100%"
      }
     },
     "5408e9ed8e6e4034896633adc3c7ac32": {
      "model_module": "@jupyter-widgets/controls",
      "model_module_version": "2.0.0",
      "model_name": "HBoxModel",
      "state": {
       "children": [
        "IPY_MODEL_861111696fc246bfa330d73cc6601cbc",
        "IPY_MODEL_a845fe6e532e42dca178f9357dbfa1b0",
        "IPY_MODEL_d603eeba199047719709c9dea5f05e90"
       ],
       "layout": "IPY_MODEL_c6d378f7369c427db1fd558e21ddfe41"
      }
     },
     "558d19700d244cfea04f9cc64f2042b8": {
      "model_module": "@jupyter-widgets/base",
      "model_module_version": "2.0.0",
      "model_name": "LayoutModel",
      "state": {}
     },
     "57a32fb2a1e5478d9a6e967e6319c6ec": {
      "model_module": "@jupyter-widgets/controls",
      "model_module_version": "2.0.0",
      "model_name": "HBoxModel",
      "state": {
       "children": [
        "IPY_MODEL_df7e272450be488abef9b965429bb7d5",
        "IPY_MODEL_9802b8f875b845418213e22830cf7052",
        "IPY_MODEL_18a7bbc64f7343a799a2b088535e8618"
       ],
       "layout": "IPY_MODEL_d925a755b6824879bda74d116938e006"
      }
     },
     "5901f0ffc4ab42d39904cf508d139b68": {
      "model_module": "@jupyter-widgets/controls",
      "model_module_version": "2.0.0",
      "model_name": "HTMLModel",
      "state": {
       "layout": "IPY_MODEL_fa0c6743b9fa40c69ef7ff8512cc12c4",
       "style": "IPY_MODEL_eabd124c496a450fad4e20a55ec47184",
       "value": " 340/340 [00:21&lt;00:00, 13.25it/s, loss=5.36]"
      }
     },
     "59defa204d5d45c58cc723210267cbfb": {
      "model_module": "@jupyter-widgets/controls",
      "model_module_version": "2.0.0",
      "model_name": "FloatProgressModel",
      "state": {
       "bar_style": "success",
       "layout": "IPY_MODEL_24e7869ffb734b0d8137e7751bcaa60c",
       "max": 340,
       "style": "IPY_MODEL_b796be4b444b4826853710cbb6e6c9c4",
       "value": 340
      }
     },
     "5af04f3676af4f73b007691d4a9fb6e7": {
      "model_module": "@jupyter-widgets/controls",
      "model_module_version": "2.0.0",
      "model_name": "HTMLModel",
      "state": {
       "layout": "IPY_MODEL_09556297c1584754a4968e5feaea0172",
       "style": "IPY_MODEL_d89cc1dd50db4cdb8fa6a550ec10372a",
       "value": " 340/340 [00:20&lt;00:00, 16.59it/s, loss=5.05]"
      }
     },
     "5f2741d825f44594891a06d01869584b": {
      "model_module": "@jupyter-widgets/base",
      "model_module_version": "2.0.0",
      "model_name": "LayoutModel",
      "state": {}
     },
     "5f6e1a9f5ef446119cde983fa573267a": {
      "model_module": "@jupyter-widgets/controls",
      "model_module_version": "2.0.0",
      "model_name": "HTMLStyleModel",
      "state": {
       "description_width": "",
       "font_size": null,
       "text_color": null
      }
     },
     "61b3819307fb49f18216fbf4290a42ac": {
      "model_module": "@jupyter-widgets/base",
      "model_module_version": "2.0.0",
      "model_name": "LayoutModel",
      "state": {
       "flex": "2"
      }
     },
     "61dfff0b54904ee1855bda512bc891e7": {
      "model_module": "@jupyter-widgets/controls",
      "model_module_version": "2.0.0",
      "model_name": "FloatProgressModel",
      "state": {
       "bar_style": "success",
       "layout": "IPY_MODEL_61b3819307fb49f18216fbf4290a42ac",
       "max": 340,
       "style": "IPY_MODEL_63a377af780d451c9075a5de572c1866",
       "value": 340
      }
     },
     "62203a0f0a2a4d1780a8df0a4248226b": {
      "model_module": "@jupyter-widgets/controls",
      "model_module_version": "2.0.0",
      "model_name": "ProgressStyleModel",
      "state": {
       "description_width": ""
      }
     },
     "63a377af780d451c9075a5de572c1866": {
      "model_module": "@jupyter-widgets/controls",
      "model_module_version": "2.0.0",
      "model_name": "ProgressStyleModel",
      "state": {
       "description_width": ""
      }
     },
     "66106ad6be7b467b8c440062f2ec9f71": {
      "model_module": "@jupyter-widgets/base",
      "model_module_version": "2.0.0",
      "model_name": "LayoutModel",
      "state": {
       "display": "inline-flex",
       "flex_flow": "row wrap",
       "width": "1000px"
      }
     },
     "686d61fa79004306813f288ce88e7fe1": {
      "model_module": "@jupyter-widgets/base",
      "model_module_version": "2.0.0",
      "model_name": "LayoutModel",
      "state": {}
     },
     "68e63897474845fcae245cea67fb5180": {
      "model_module": "@jupyter-widgets/controls",
      "model_module_version": "2.0.0",
      "model_name": "ProgressStyleModel",
      "state": {
       "description_width": ""
      }
     },
     "6b00b5ac7b844651a679db9baf8349ff": {
      "model_module": "@jupyter-widgets/controls",
      "model_module_version": "2.0.0",
      "model_name": "FloatProgressModel",
      "state": {
       "bar_style": "success",
       "layout": "IPY_MODEL_e75f2cdab9264543afc01a28ae525e3e",
       "max": 340,
       "style": "IPY_MODEL_0f7d8589ac5f4922bc2b4b9b449686de",
       "value": 340
      }
     },
     "6e0d3b8074ee453fa5ff7b271be3ad48": {
      "model_module": "@jupyter-widgets/controls",
      "model_module_version": "2.0.0",
      "model_name": "HTMLModel",
      "state": {
       "layout": "IPY_MODEL_e50a627edd394b8895a6239e55487f4c",
       "style": "IPY_MODEL_0f164d0195d642a0afbe3744f37d9344",
       "value": "Epoch 8/20: 100%"
      }
     },
     "716512b282dd48e38b8b02b613dd7f31": {
      "model_module": "@jupyter-widgets/controls",
      "model_module_version": "2.0.0",
      "model_name": "HTMLStyleModel",
      "state": {
       "description_width": "",
       "font_size": null,
       "text_color": null
      }
     },
     "7500d7bc344446618b86211582033a1e": {
      "model_module": "@jupyter-widgets/controls",
      "model_module_version": "2.0.0",
      "model_name": "HTMLModel",
      "state": {
       "layout": "IPY_MODEL_1769005e1d0f469f93fd3098f4f766b4",
       "style": "IPY_MODEL_b1e83198d7884d82b51a60a31d239cd1",
       "value": "Epoch 18/20: 100%"
      }
     },
     "75a0ad54f5e246f5a819de3cc960b64f": {
      "model_module": "@jupyter-widgets/base",
      "model_module_version": "2.0.0",
      "model_name": "LayoutModel",
      "state": {}
     },
     "75e76604b19149eab411e1dd2793a064": {
      "model_module": "@jupyter-widgets/base",
      "model_module_version": "2.0.0",
      "model_name": "LayoutModel",
      "state": {
       "display": "inline-flex",
       "flex_flow": "row wrap",
       "width": "1000px"
      }
     },
     "76635bfdbd6945539fac9820d1d33dd0": {
      "model_module": "@jupyter-widgets/controls",
      "model_module_version": "2.0.0",
      "model_name": "HTMLStyleModel",
      "state": {
       "description_width": "",
       "font_size": null,
       "text_color": null
      }
     },
     "77328878e57f49169298ff3da20cbe3a": {
      "model_module": "@jupyter-widgets/base",
      "model_module_version": "2.0.0",
      "model_name": "LayoutModel",
      "state": {}
     },
     "77a5ee56c870474b8d32ef7b574bb933": {
      "model_module": "@jupyter-widgets/controls",
      "model_module_version": "2.0.0",
      "model_name": "FloatProgressModel",
      "state": {
       "bar_style": "success",
       "layout": "IPY_MODEL_449c7aa3a8b94b64be257dfb8b630094",
       "max": 340,
       "style": "IPY_MODEL_fc57fbd39dec40539800bc9ea7d7421c",
       "value": 340
      }
     },
     "77c77dd08b6044b9979bb8e4889dcd46": {
      "model_module": "@jupyter-widgets/controls",
      "model_module_version": "2.0.0",
      "model_name": "HTMLStyleModel",
      "state": {
       "description_width": "",
       "font_size": null,
       "text_color": null
      }
     },
     "780faf6905214966aa9458802ef1e975": {
      "model_module": "@jupyter-widgets/controls",
      "model_module_version": "2.0.0",
      "model_name": "ProgressStyleModel",
      "state": {
       "description_width": ""
      }
     },
     "7d3d6d78c36e43279b5cb3226dab8029": {
      "model_module": "@jupyter-widgets/controls",
      "model_module_version": "2.0.0",
      "model_name": "HTMLStyleModel",
      "state": {
       "description_width": "",
       "font_size": null,
       "text_color": null
      }
     },
     "7d4a0405cdab4afa952a60000eae6c41": {
      "model_module": "@jupyter-widgets/controls",
      "model_module_version": "2.0.0",
      "model_name": "HTMLStyleModel",
      "state": {
       "description_width": "",
       "font_size": null,
       "text_color": null
      }
     },
     "7e1067886ea04b05980ebee503ad50cc": {
      "model_module": "@jupyter-widgets/controls",
      "model_module_version": "2.0.0",
      "model_name": "HBoxModel",
      "state": {
       "children": [
        "IPY_MODEL_bde03299e9af47a0b7beff837e14c486",
        "IPY_MODEL_2f9828252c94490c8560f5c4b36f0171",
        "IPY_MODEL_19c6988de15c4da2a9a5ee298936e729"
       ],
       "layout": "IPY_MODEL_947efa230a394390b6f7b8fbc749198b"
      }
     },
     "81b8f8d6a50544f298719e84c5142cd5": {
      "model_module": "@jupyter-widgets/controls",
      "model_module_version": "2.0.0",
      "model_name": "FloatProgressModel",
      "state": {
       "bar_style": "success",
       "layout": "IPY_MODEL_d36d141857694454869f586292efb376",
       "max": 340,
       "style": "IPY_MODEL_05ec2aeefb4541dba229364eddb6c432",
       "value": 340
      }
     },
     "855ae812f8224a42b36ae6099dac9111": {
      "model_module": "@jupyter-widgets/base",
      "model_module_version": "2.0.0",
      "model_name": "LayoutModel",
      "state": {}
     },
     "861111696fc246bfa330d73cc6601cbc": {
      "model_module": "@jupyter-widgets/controls",
      "model_module_version": "2.0.0",
      "model_name": "HTMLModel",
      "state": {
       "layout": "IPY_MODEL_d9fd252093b44b2eadb4f853e6e0ebb7",
       "style": "IPY_MODEL_0e35decd1f2c480fbe0b36568e4e0bdb",
       "value": "Epoch 10/20: 100%"
      }
     },
     "8708f1bace19450f8b24b57a5d35625b": {
      "model_module": "@jupyter-widgets/controls",
      "model_module_version": "2.0.0",
      "model_name": "HTMLStyleModel",
      "state": {
       "description_width": "",
       "font_size": null,
       "text_color": null
      }
     },
     "8858a76a92ef4fedad7f6b66ad7e00c3": {
      "model_module": "@jupyter-widgets/base",
      "model_module_version": "2.0.0",
      "model_name": "LayoutModel",
      "state": {
       "flex": "2"
      }
     },
     "89abfa6dfbe04493b833afb6fca798df": {
      "model_module": "@jupyter-widgets/base",
      "model_module_version": "2.0.0",
      "model_name": "LayoutModel",
      "state": {}
     },
     "8a688db73a2f496180790729dfa9f231": {
      "model_module": "@jupyter-widgets/controls",
      "model_module_version": "2.0.0",
      "model_name": "HTMLStyleModel",
      "state": {
       "description_width": "",
       "font_size": null,
       "text_color": null
      }
     },
     "8a6b3ad61dbe49068a9fd7117ba2de9d": {
      "model_module": "@jupyter-widgets/base",
      "model_module_version": "2.0.0",
      "model_name": "LayoutModel",
      "state": {
       "display": "inline-flex",
       "flex_flow": "row wrap",
       "width": "1000px"
      }
     },
     "8a987d2752ab4ef988b0a909b552df05": {
      "model_module": "@jupyter-widgets/controls",
      "model_module_version": "2.0.0",
      "model_name": "HTMLModel",
      "state": {
       "layout": "IPY_MODEL_2e020cba604a47ca9308e00b31ec28f4",
       "style": "IPY_MODEL_412748c967d14d12a747225c127e421e",
       "value": "Epoch 19/20: 100%"
      }
     },
     "8dc5309805704d58a54919e3d37aba84": {
      "model_module": "@jupyter-widgets/base",
      "model_module_version": "2.0.0",
      "model_name": "LayoutModel",
      "state": {}
     },
     "8fdc0ae29e5440c798679ce28dfda05a": {
      "model_module": "@jupyter-widgets/base",
      "model_module_version": "2.0.0",
      "model_name": "LayoutModel",
      "state": {
       "flex": "2"
      }
     },
     "9102c2c1f4234ee8b2cd2988f47baef9": {
      "model_module": "@jupyter-widgets/controls",
      "model_module_version": "2.0.0",
      "model_name": "HTMLModel",
      "state": {
       "layout": "IPY_MODEL_77328878e57f49169298ff3da20cbe3a",
       "style": "IPY_MODEL_9b051cfc018a4b8f852de97e393e34d0",
       "value": "Epoch 6/20: 100%"
      }
     },
     "910e227d729a42788f4a85b1de3c24ee": {
      "model_module": "@jupyter-widgets/base",
      "model_module_version": "2.0.0",
      "model_name": "LayoutModel",
      "state": {
       "display": "inline-flex",
       "flex_flow": "row wrap",
       "width": "1000px"
      }
     },
     "938c7ee5a29947e386f7cdae8cb4cc74": {
      "model_module": "@jupyter-widgets/controls",
      "model_module_version": "2.0.0",
      "model_name": "FloatProgressModel",
      "state": {
       "bar_style": "success",
       "layout": "IPY_MODEL_8858a76a92ef4fedad7f6b66ad7e00c3",
       "max": 340,
       "style": "IPY_MODEL_cca81dfd9aaf4934b7d9099f055d172c",
       "value": 340
      }
     },
     "947efa230a394390b6f7b8fbc749198b": {
      "model_module": "@jupyter-widgets/base",
      "model_module_version": "2.0.0",
      "model_name": "LayoutModel",
      "state": {
       "display": "inline-flex",
       "flex_flow": "row wrap",
       "width": "1000px"
      }
     },
     "9496d18761f440569cb5bb42b7c8abed": {
      "model_module": "@jupyter-widgets/controls",
      "model_module_version": "2.0.0",
      "model_name": "HBoxModel",
      "state": {
       "children": [
        "IPY_MODEL_af509ee2434d407598d39fe2a45efdcc",
        "IPY_MODEL_fbe31ae10c87470998865c2a45365a35",
        "IPY_MODEL_2f5d5e0c78cd4e6d8473f72633face08"
       ],
       "layout": "IPY_MODEL_a8f912e5cdb04a349571e0d8aa0db5b9"
      }
     },
     "95cfe0023a29453a8899f4002e21f2cb": {
      "model_module": "@jupyter-widgets/base",
      "model_module_version": "2.0.0",
      "model_name": "LayoutModel",
      "state": {}
     },
     "967fd2e8abb945378654f979c1e6b431": {
      "model_module": "@jupyter-widgets/base",
      "model_module_version": "2.0.0",
      "model_name": "LayoutModel",
      "state": {
       "flex": "2"
      }
     },
     "9802b8f875b845418213e22830cf7052": {
      "model_module": "@jupyter-widgets/controls",
      "model_module_version": "2.0.0",
      "model_name": "FloatProgressModel",
      "state": {
       "bar_style": "success",
       "layout": "IPY_MODEL_a1088217140f4bf0a3f152a5db6d5535",
       "max": 340,
       "style": "IPY_MODEL_beddd2bef34d4c4e90b4e2f79144b219",
       "value": 340
      }
     },
     "98b78440a8a24e559e5b3748a0bc7042": {
      "model_module": "@jupyter-widgets/base",
      "model_module_version": "2.0.0",
      "model_name": "LayoutModel",
      "state": {}
     },
     "98f4665e19e34b34bfaab6584a2e90d2": {
      "model_module": "@jupyter-widgets/base",
      "model_module_version": "2.0.0",
      "model_name": "LayoutModel",
      "state": {}
     },
     "9946e370af84498488929b1608016c48": {
      "model_module": "@jupyter-widgets/controls",
      "model_module_version": "2.0.0",
      "model_name": "HTMLModel",
      "state": {
       "layout": "IPY_MODEL_2180cfb5bbb34661bdbbcf563842582a",
       "style": "IPY_MODEL_c2311bd558fd4171ac42d99ca9b92a1d",
       "value": " 340/340 [00:18&lt;00:00, 19.11it/s, loss=4.97]"
      }
     },
     "9ab2146466b54b9dba98376450ab00c4": {
      "model_module": "@jupyter-widgets/base",
      "model_module_version": "2.0.0",
      "model_name": "LayoutModel",
      "state": {
       "flex": "2"
      }
     },
     "9b051cfc018a4b8f852de97e393e34d0": {
      "model_module": "@jupyter-widgets/controls",
      "model_module_version": "2.0.0",
      "model_name": "HTMLStyleModel",
      "state": {
       "description_width": "",
       "font_size": null,
       "text_color": null
      }
     },
     "9dc3d145b79e4c6c9f86d3149be685c4": {
      "model_module": "@jupyter-widgets/controls",
      "model_module_version": "2.0.0",
      "model_name": "HTMLStyleModel",
      "state": {
       "description_width": "",
       "font_size": null,
       "text_color": null
      }
     },
     "a0aa55d3f1a44d2eb5fd7aa425a1b13b": {
      "model_module": "@jupyter-widgets/base",
      "model_module_version": "2.0.0",
      "model_name": "LayoutModel",
      "state": {
       "display": "inline-flex",
       "flex_flow": "row wrap",
       "width": "1000px"
      }
     },
     "a0e339619a944be194f8130697911383": {
      "model_module": "@jupyter-widgets/base",
      "model_module_version": "2.0.0",
      "model_name": "LayoutModel",
      "state": {
       "display": "inline-flex",
       "flex_flow": "row wrap",
       "width": "1000px"
      }
     },
     "a1088217140f4bf0a3f152a5db6d5535": {
      "model_module": "@jupyter-widgets/base",
      "model_module_version": "2.0.0",
      "model_name": "LayoutModel",
      "state": {
       "flex": "2"
      }
     },
     "a255cb9c237d4854a5e83cf5ad820897": {
      "model_module": "@jupyter-widgets/base",
      "model_module_version": "2.0.0",
      "model_name": "LayoutModel",
      "state": {}
     },
     "a2cf653c256440f19e2ba3b5431ed23f": {
      "model_module": "@jupyter-widgets/controls",
      "model_module_version": "2.0.0",
      "model_name": "HTMLStyleModel",
      "state": {
       "description_width": "",
       "font_size": null,
       "text_color": null
      }
     },
     "a339a94b56bd42e98ff10793f68dd4ea": {
      "model_module": "@jupyter-widgets/controls",
      "model_module_version": "2.0.0",
      "model_name": "HTMLModel",
      "state": {
       "layout": "IPY_MODEL_4c926e7b64674d439e3327f3585dfdf5",
       "style": "IPY_MODEL_d617701c8a84434ca19badbbc8cda8c5",
       "value": "Epoch 5/20: 100%"
      }
     },
     "a5170bde825a479bb0f250fda017cae7": {
      "model_module": "@jupyter-widgets/controls",
      "model_module_version": "2.0.0",
      "model_name": "HTMLModel",
      "state": {
       "layout": "IPY_MODEL_e589652be6cb4e50948d6d083ffd5305",
       "style": "IPY_MODEL_77c77dd08b6044b9979bb8e4889dcd46",
       "value": "Epoch 2/20: 100%"
      }
     },
     "a597f1505ed949a197e5c3c183ea0f7c": {
      "model_module": "@jupyter-widgets/controls",
      "model_module_version": "2.0.0",
      "model_name": "HTMLModel",
      "state": {
       "layout": "IPY_MODEL_51efc6b6d7774fa9a2165171783f2c20",
       "style": "IPY_MODEL_0ac37ef4a80f4f9cbaee6ac9ce57b6a3",
       "value": "Epoch 3/20: 100%"
      }
     },
     "a76e1572dd1e4b24b8636d70632f73fc": {
      "model_module": "@jupyter-widgets/controls",
      "model_module_version": "2.0.0",
      "model_name": "HTMLModel",
      "state": {
       "layout": "IPY_MODEL_558d19700d244cfea04f9cc64f2042b8",
       "style": "IPY_MODEL_9dc3d145b79e4c6c9f86d3149be685c4",
       "value": " 340/340 [00:17&lt;00:00, 19.38it/s, loss=5.09]"
      }
     },
     "a826d12feee249a895bb3176f86b7de7": {
      "model_module": "@jupyter-widgets/controls",
      "model_module_version": "2.0.0",
      "model_name": "HTMLModel",
      "state": {
       "layout": "IPY_MODEL_4a554bb8df644648bc55b4b932ae1dd0",
       "style": "IPY_MODEL_3ab5d86c46b54e188b53c2e1c651ee87",
       "value": "Epoch 7/20: 100%"
      }
     },
     "a845fe6e532e42dca178f9357dbfa1b0": {
      "model_module": "@jupyter-widgets/controls",
      "model_module_version": "2.0.0",
      "model_name": "FloatProgressModel",
      "state": {
       "bar_style": "success",
       "layout": "IPY_MODEL_e3f503017ee54d668c012c81fccdb551",
       "max": 340,
       "style": "IPY_MODEL_780faf6905214966aa9458802ef1e975",
       "value": 340
      }
     },
     "a8a8e1a559b7484a96116fcf51781c86": {
      "model_module": "@jupyter-widgets/base",
      "model_module_version": "2.0.0",
      "model_name": "LayoutModel",
      "state": {}
     },
     "a8f912e5cdb04a349571e0d8aa0db5b9": {
      "model_module": "@jupyter-widgets/base",
      "model_module_version": "2.0.0",
      "model_name": "LayoutModel",
      "state": {
       "display": "inline-flex",
       "flex_flow": "row wrap",
       "width": "1000px"
      }
     },
     "a90d73b0a1344dce89de3805fc3cbb8e": {
      "model_module": "@jupyter-widgets/controls",
      "model_module_version": "2.0.0",
      "model_name": "HTMLStyleModel",
      "state": {
       "description_width": "",
       "font_size": null,
       "text_color": null
      }
     },
     "aa9a236e748846bf97c99dc5eb3f7b30": {
      "model_module": "@jupyter-widgets/base",
      "model_module_version": "2.0.0",
      "model_name": "LayoutModel",
      "state": {
       "display": "inline-flex",
       "flex_flow": "row wrap",
       "width": "1000px"
      }
     },
     "ab3fc40ef00f4a0885aff17d2d4a79b3": {
      "model_module": "@jupyter-widgets/controls",
      "model_module_version": "2.0.0",
      "model_name": "HTMLModel",
      "state": {
       "layout": "IPY_MODEL_a255cb9c237d4854a5e83cf5ad820897",
       "style": "IPY_MODEL_e83371fc7d6d4803b793c1de0f3e5a8d",
       "value": "Epoch 1/20: 100%"
      }
     },
     "ac2e9cf7b0ac46068a42e5f50c8dd231": {
      "model_module": "@jupyter-widgets/base",
      "model_module_version": "2.0.0",
      "model_name": "LayoutModel",
      "state": {}
     },
     "ac9571202b7f4fefabba3feb46719492": {
      "model_module": "@jupyter-widgets/controls",
      "model_module_version": "2.0.0",
      "model_name": "HBoxModel",
      "state": {
       "children": [
        "IPY_MODEL_a5170bde825a479bb0f250fda017cae7",
        "IPY_MODEL_81b8f8d6a50544f298719e84c5142cd5",
        "IPY_MODEL_5901f0ffc4ab42d39904cf508d139b68"
       ],
       "layout": "IPY_MODEL_d58b8782f7494c1f81f849025232004c"
      }
     },
     "ad5d455b3fb948dfb0b312e7f8567448": {
      "model_module": "@jupyter-widgets/controls",
      "model_module_version": "2.0.0",
      "model_name": "ProgressStyleModel",
      "state": {
       "description_width": ""
      }
     },
     "ada2c78ca7774121b0840a3bf7a18421": {
      "model_module": "@jupyter-widgets/controls",
      "model_module_version": "2.0.0",
      "model_name": "FloatProgressModel",
      "state": {
       "bar_style": "success",
       "layout": "IPY_MODEL_8fdc0ae29e5440c798679ce28dfda05a",
       "max": 340,
       "style": "IPY_MODEL_cc6484c04f0a4136bc833d2226e4a5da",
       "value": 340
      }
     },
     "af509ee2434d407598d39fe2a45efdcc": {
      "model_module": "@jupyter-widgets/controls",
      "model_module_version": "2.0.0",
      "model_name": "HTMLModel",
      "state": {
       "layout": "IPY_MODEL_3b2d119ebccd4cbca56df497cf7118cc",
       "style": "IPY_MODEL_35f253536532405e9b4674705c574486",
       "value": "Epoch 4/20: 100%"
      }
     },
     "af54a4be683e4cf09217e2087941a56a": {
      "model_module": "@jupyter-widgets/controls",
      "model_module_version": "2.0.0",
      "model_name": "HTMLStyleModel",
      "state": {
       "description_width": "",
       "font_size": null,
       "text_color": null
      }
     },
     "b04ae4f42b8744df9a486ce8ff990cc9": {
      "model_module": "@jupyter-widgets/controls",
      "model_module_version": "2.0.0",
      "model_name": "ProgressStyleModel",
      "state": {
       "description_width": ""
      }
     },
     "b1e83198d7884d82b51a60a31d239cd1": {
      "model_module": "@jupyter-widgets/controls",
      "model_module_version": "2.0.0",
      "model_name": "HTMLStyleModel",
      "state": {
       "description_width": "",
       "font_size": null,
       "text_color": null
      }
     },
     "b796be4b444b4826853710cbb6e6c9c4": {
      "model_module": "@jupyter-widgets/controls",
      "model_module_version": "2.0.0",
      "model_name": "ProgressStyleModel",
      "state": {
       "description_width": ""
      }
     },
     "b879e32992bb4743aeb3366b9339f8a6": {
      "model_module": "@jupyter-widgets/controls",
      "model_module_version": "2.0.0",
      "model_name": "HTMLModel",
      "state": {
       "layout": "IPY_MODEL_a8a8e1a559b7484a96116fcf51781c86",
       "style": "IPY_MODEL_bdd5e3c1a84f493b90f348a00e317d1a",
       "value": "Epoch 9/20: 100%"
      }
     },
     "b9be617fba354311a3a024893388d723": {
      "model_module": "@jupyter-widgets/controls",
      "model_module_version": "2.0.0",
      "model_name": "HTMLModel",
      "state": {
       "layout": "IPY_MODEL_d7e50632ace64ee8a0858fb2dd8a5cb7",
       "style": "IPY_MODEL_a90d73b0a1344dce89de3805fc3cbb8e",
       "value": "Epoch 20/20: 100%"
      }
     },
     "ba7a917d7a1d4ffc8641cba82d8ba039": {
      "model_module": "@jupyter-widgets/controls",
      "model_module_version": "2.0.0",
      "model_name": "HTMLModel",
      "state": {
       "layout": "IPY_MODEL_ac2e9cf7b0ac46068a42e5f50c8dd231",
       "style": "IPY_MODEL_c9e97e44f1b14f8fbb819d64d9dbbe7f",
       "value": " 340/340 [00:19&lt;00:00, 17.90it/s, loss=2.31]"
      }
     },
     "bd117d5f9fd24c288a21fa091b6ba370": {
      "model_module": "@jupyter-widgets/base",
      "model_module_version": "2.0.0",
      "model_name": "LayoutModel",
      "state": {
       "flex": "2"
      }
     },
     "bdd5e3c1a84f493b90f348a00e317d1a": {
      "model_module": "@jupyter-widgets/controls",
      "model_module_version": "2.0.0",
      "model_name": "HTMLStyleModel",
      "state": {
       "description_width": "",
       "font_size": null,
       "text_color": null
      }
     },
     "bde03299e9af47a0b7beff837e14c486": {
      "model_module": "@jupyter-widgets/controls",
      "model_module_version": "2.0.0",
      "model_name": "HTMLModel",
      "state": {
       "layout": "IPY_MODEL_855ae812f8224a42b36ae6099dac9111",
       "style": "IPY_MODEL_8708f1bace19450f8b24b57a5d35625b",
       "value": "Epoch 16/20: 100%"
      }
     },
     "be39bb5ec8644bd2ae86fb0042f10240": {
      "model_module": "@jupyter-widgets/controls",
      "model_module_version": "2.0.0",
      "model_name": "HTMLStyleModel",
      "state": {
       "description_width": "",
       "font_size": null,
       "text_color": null
      }
     },
     "beddd2bef34d4c4e90b4e2f79144b219": {
      "model_module": "@jupyter-widgets/controls",
      "model_module_version": "2.0.0",
      "model_name": "ProgressStyleModel",
      "state": {
       "description_width": ""
      }
     },
     "c2311bd558fd4171ac42d99ca9b92a1d": {
      "model_module": "@jupyter-widgets/controls",
      "model_module_version": "2.0.0",
      "model_name": "HTMLStyleModel",
      "state": {
       "description_width": "",
       "font_size": null,
       "text_color": null
      }
     },
     "c4869219f9c44af3b73395cc7df377ba": {
      "model_module": "@jupyter-widgets/controls",
      "model_module_version": "2.0.0",
      "model_name": "HTMLModel",
      "state": {
       "layout": "IPY_MODEL_686d61fa79004306813f288ce88e7fe1",
       "style": "IPY_MODEL_716512b282dd48e38b8b02b613dd7f31",
       "value": "Epoch 11/20: 100%"
      }
     },
     "c6337d428d7846fbab114b53ec3e9129": {
      "model_module": "@jupyter-widgets/base",
      "model_module_version": "2.0.0",
      "model_name": "LayoutModel",
      "state": {
       "display": "inline-flex",
       "flex_flow": "row wrap",
       "width": "1000px"
      }
     },
     "c6d378f7369c427db1fd558e21ddfe41": {
      "model_module": "@jupyter-widgets/base",
      "model_module_version": "2.0.0",
      "model_name": "LayoutModel",
      "state": {
       "display": "inline-flex",
       "flex_flow": "row wrap",
       "width": "1000px"
      }
     },
     "c758a0aaa34d4e29afcfacd3bb2ef89a": {
      "model_module": "@jupyter-widgets/controls",
      "model_module_version": "2.0.0",
      "model_name": "HBoxModel",
      "state": {
       "children": [
        "IPY_MODEL_a597f1505ed949a197e5c3c183ea0f7c",
        "IPY_MODEL_61dfff0b54904ee1855bda512bc891e7",
        "IPY_MODEL_5af04f3676af4f73b007691d4a9fb6e7"
       ],
       "layout": "IPY_MODEL_2ec6570f4ec542b9bf3ed88275d7d6aa"
      }
     },
     "c87cdf21342e46f1a1b39979f0f4b5cd": {
      "model_module": "@jupyter-widgets/base",
      "model_module_version": "2.0.0",
      "model_name": "LayoutModel",
      "state": {
       "flex": "2"
      }
     },
     "c9e97e44f1b14f8fbb819d64d9dbbe7f": {
      "model_module": "@jupyter-widgets/controls",
      "model_module_version": "2.0.0",
      "model_name": "HTMLStyleModel",
      "state": {
       "description_width": "",
       "font_size": null,
       "text_color": null
      }
     },
     "cc6484c04f0a4136bc833d2226e4a5da": {
      "model_module": "@jupyter-widgets/controls",
      "model_module_version": "2.0.0",
      "model_name": "ProgressStyleModel",
      "state": {
       "description_width": ""
      }
     },
     "cca81dfd9aaf4934b7d9099f055d172c": {
      "model_module": "@jupyter-widgets/controls",
      "model_module_version": "2.0.0",
      "model_name": "ProgressStyleModel",
      "state": {
       "description_width": ""
      }
     },
     "cda04686c44948c99688f5a89973f867": {
      "model_module": "@jupyter-widgets/controls",
      "model_module_version": "2.0.0",
      "model_name": "HBoxModel",
      "state": {
       "children": [
        "IPY_MODEL_533abf7f186045a7823c61f2e74f10d8",
        "IPY_MODEL_35394006a8984e899fa9423c7d28c34b",
        "IPY_MODEL_13f8083d9442471fa20be21d82c6bc38"
       ],
       "layout": "IPY_MODEL_910e227d729a42788f4a85b1de3c24ee"
      }
     },
     "ce05f5c94df1482f981050d6dab17b09": {
      "model_module": "@jupyter-widgets/controls",
      "model_module_version": "2.0.0",
      "model_name": "HBoxModel",
      "state": {
       "children": [
        "IPY_MODEL_b9be617fba354311a3a024893388d723",
        "IPY_MODEL_03a76519e09f4b70b1edb2a6ee5e0135",
        "IPY_MODEL_e3cc9238a21348689c55db44f45351be"
       ],
       "layout": "IPY_MODEL_aa9a236e748846bf97c99dc5eb3f7b30"
      }
     },
     "ce2cefbb54474d50b96cf85a6ea32744": {
      "model_module": "@jupyter-widgets/base",
      "model_module_version": "2.0.0",
      "model_name": "LayoutModel",
      "state": {}
     },
     "cf6ab02e9cf947daafdd4bd55ed21b32": {
      "model_module": "@jupyter-widgets/base",
      "model_module_version": "2.0.0",
      "model_name": "LayoutModel",
      "state": {}
     },
     "d36d141857694454869f586292efb376": {
      "model_module": "@jupyter-widgets/base",
      "model_module_version": "2.0.0",
      "model_name": "LayoutModel",
      "state": {
       "flex": "2"
      }
     },
     "d58b8782f7494c1f81f849025232004c": {
      "model_module": "@jupyter-widgets/base",
      "model_module_version": "2.0.0",
      "model_name": "LayoutModel",
      "state": {
       "display": "inline-flex",
       "flex_flow": "row wrap",
       "width": "1000px"
      }
     },
     "d5f38e9c029f41928bef7252a26d2da8": {
      "model_module": "@jupyter-widgets/controls",
      "model_module_version": "2.0.0",
      "model_name": "HTMLStyleModel",
      "state": {
       "description_width": "",
       "font_size": null,
       "text_color": null
      }
     },
     "d603eeba199047719709c9dea5f05e90": {
      "model_module": "@jupyter-widgets/controls",
      "model_module_version": "2.0.0",
      "model_name": "HTMLModel",
      "state": {
       "layout": "IPY_MODEL_406311ea9094493d9e8ac59b45a407f3",
       "style": "IPY_MODEL_efcbcbcc930c409780f663656eb391d3",
       "value": " 340/340 [00:18&lt;00:00, 18.06it/s, loss=5.06]"
      }
     },
     "d617701c8a84434ca19badbbc8cda8c5": {
      "model_module": "@jupyter-widgets/controls",
      "model_module_version": "2.0.0",
      "model_name": "HTMLStyleModel",
      "state": {
       "description_width": "",
       "font_size": null,
       "text_color": null
      }
     },
     "d7be83a91c95486b8b3cf03d3589271f": {
      "model_module": "@jupyter-widgets/controls",
      "model_module_version": "2.0.0",
      "model_name": "HTMLModel",
      "state": {
       "layout": "IPY_MODEL_f03a768ff1a149f59a878826d4753f8e",
       "style": "IPY_MODEL_3ca4943fbada4c2e828c00e02734dacd",
       "value": " 340/340 [00:18&lt;00:00, 18.13it/s, loss=2.4]"
      }
     },
     "d7e50632ace64ee8a0858fb2dd8a5cb7": {
      "model_module": "@jupyter-widgets/base",
      "model_module_version": "2.0.0",
      "model_name": "LayoutModel",
      "state": {}
     },
     "d870ea37dd864daeac542808c3d08013": {
      "model_module": "@jupyter-widgets/controls",
      "model_module_version": "2.0.0",
      "model_name": "HTMLModel",
      "state": {
       "layout": "IPY_MODEL_cf6ab02e9cf947daafdd4bd55ed21b32",
       "style": "IPY_MODEL_7d3d6d78c36e43279b5cb3226dab8029",
       "value": " 340/340 [00:17&lt;00:00, 21.54it/s, loss=5.58]"
      }
     },
     "d895f6e51786498ab9404fc302c2cc65": {
      "model_module": "@jupyter-widgets/controls",
      "model_module_version": "2.0.0",
      "model_name": "HBoxModel",
      "state": {
       "children": [
        "IPY_MODEL_9102c2c1f4234ee8b2cd2988f47baef9",
        "IPY_MODEL_4b35ec9b2f354265abfbd3db7ed874f6",
        "IPY_MODEL_48dcb3e803ca4d6a82133211f6c03386"
       ],
       "layout": "IPY_MODEL_04721fb296eb417ea9be7171ebc1bc5d"
      }
     },
     "d89cc1dd50db4cdb8fa6a550ec10372a": {
      "model_module": "@jupyter-widgets/controls",
      "model_module_version": "2.0.0",
      "model_name": "HTMLStyleModel",
      "state": {
       "description_width": "",
       "font_size": null,
       "text_color": null
      }
     },
     "d8ccb6d77e6742159a8c165e0e89bbd1": {
      "model_module": "@jupyter-widgets/base",
      "model_module_version": "2.0.0",
      "model_name": "LayoutModel",
      "state": {
       "display": "inline-flex",
       "flex_flow": "row wrap",
       "width": "1000px"
      }
     },
     "d9053ec91ebe43938627a891c45d630b": {
      "model_module": "@jupyter-widgets/controls",
      "model_module_version": "2.0.0",
      "model_name": "HTMLModel",
      "state": {
       "layout": "IPY_MODEL_1288585eb22749eabf628dddb60921a0",
       "style": "IPY_MODEL_d5f38e9c029f41928bef7252a26d2da8",
       "value": " 340/340 [00:19&lt;00:00, 17.02it/s, loss=5.2]"
      }
     },
     "d925a755b6824879bda74d116938e006": {
      "model_module": "@jupyter-widgets/base",
      "model_module_version": "2.0.0",
      "model_name": "LayoutModel",
      "state": {
       "display": "inline-flex",
       "flex_flow": "row wrap",
       "width": "1000px"
      }
     },
     "d9fd252093b44b2eadb4f853e6e0ebb7": {
      "model_module": "@jupyter-widgets/base",
      "model_module_version": "2.0.0",
      "model_name": "LayoutModel",
      "state": {}
     },
     "db8338559afb4bc781019e48abdae215": {
      "model_module": "@jupyter-widgets/base",
      "model_module_version": "2.0.0",
      "model_name": "LayoutModel",
      "state": {}
     },
     "dec1f2161bb44009ad636629e887dbf1": {
      "model_module": "@jupyter-widgets/controls",
      "model_module_version": "2.0.0",
      "model_name": "FloatProgressModel",
      "state": {
       "bar_style": "success",
       "layout": "IPY_MODEL_9ab2146466b54b9dba98376450ab00c4",
       "max": 340,
       "style": "IPY_MODEL_38d6a8ce5c8149299e642f7b0a5d4c75",
       "value": 340
      }
     },
     "df7e272450be488abef9b965429bb7d5": {
      "model_module": "@jupyter-widgets/controls",
      "model_module_version": "2.0.0",
      "model_name": "HTMLModel",
      "state": {
       "layout": "IPY_MODEL_08ced3bd37c84128bbce2e78a7a5f76b",
       "style": "IPY_MODEL_e48df4931b9b40c2817d9740ae106eeb",
       "value": "Epoch 15/20: 100%"
      }
     },
     "dfb917253eb1409aaf7e8c79bc01009e": {
      "model_module": "@jupyter-widgets/controls",
      "model_module_version": "2.0.0",
      "model_name": "HTMLStyleModel",
      "state": {
       "description_width": "",
       "font_size": null,
       "text_color": null
      }
     },
     "e34ae160a2b045e2b5aa9d475a8d9c1d": {
      "model_module": "@jupyter-widgets/base",
      "model_module_version": "2.0.0",
      "model_name": "LayoutModel",
      "state": {
       "display": "inline-flex",
       "flex_flow": "row wrap",
       "width": "1000px"
      }
     },
     "e358df70557c46788ab25b9ed6e350de": {
      "model_module": "@jupyter-widgets/controls",
      "model_module_version": "2.0.0",
      "model_name": "ProgressStyleModel",
      "state": {
       "description_width": ""
      }
     },
     "e3cc9238a21348689c55db44f45351be": {
      "model_module": "@jupyter-widgets/controls",
      "model_module_version": "2.0.0",
      "model_name": "HTMLModel",
      "state": {
       "layout": "IPY_MODEL_3af3c0a61c1d43d9aad4619207492f22",
       "style": "IPY_MODEL_2dd38eecf6a94b7185bde45287b0aa5d",
       "value": " 340/340 [00:17&lt;00:00, 18.90it/s, loss=5.69]"
      }
     },
     "e3f503017ee54d668c012c81fccdb551": {
      "model_module": "@jupyter-widgets/base",
      "model_module_version": "2.0.0",
      "model_name": "LayoutModel",
      "state": {
       "flex": "2"
      }
     },
     "e48df4931b9b40c2817d9740ae106eeb": {
      "model_module": "@jupyter-widgets/controls",
      "model_module_version": "2.0.0",
      "model_name": "HTMLStyleModel",
      "state": {
       "description_width": "",
       "font_size": null,
       "text_color": null
      }
     },
     "e50a627edd394b8895a6239e55487f4c": {
      "model_module": "@jupyter-widgets/base",
      "model_module_version": "2.0.0",
      "model_name": "LayoutModel",
      "state": {}
     },
     "e535b9ec718e4356862f32bb24272222": {
      "model_module": "@jupyter-widgets/controls",
      "model_module_version": "2.0.0",
      "model_name": "HTMLStyleModel",
      "state": {
       "description_width": "",
       "font_size": null,
       "text_color": null
      }
     },
     "e589652be6cb4e50948d6d083ffd5305": {
      "model_module": "@jupyter-widgets/base",
      "model_module_version": "2.0.0",
      "model_name": "LayoutModel",
      "state": {}
     },
     "e75f2cdab9264543afc01a28ae525e3e": {
      "model_module": "@jupyter-widgets/base",
      "model_module_version": "2.0.0",
      "model_name": "LayoutModel",
      "state": {
       "flex": "2"
      }
     },
     "e83371fc7d6d4803b793c1de0f3e5a8d": {
      "model_module": "@jupyter-widgets/controls",
      "model_module_version": "2.0.0",
      "model_name": "HTMLStyleModel",
      "state": {
       "description_width": "",
       "font_size": null,
       "text_color": null
      }
     },
     "e8df798846a347a0b1310b5ce7d7b1b8": {
      "model_module": "@jupyter-widgets/controls",
      "model_module_version": "2.0.0",
      "model_name": "HTMLStyleModel",
      "state": {
       "description_width": "",
       "font_size": null,
       "text_color": null
      }
     },
     "e904d15162b14759b5e905cacab001b1": {
      "model_module": "@jupyter-widgets/controls",
      "model_module_version": "2.0.0",
      "model_name": "HTMLModel",
      "state": {
       "layout": "IPY_MODEL_98b78440a8a24e559e5b3748a0bc7042",
       "style": "IPY_MODEL_e8df798846a347a0b1310b5ce7d7b1b8",
       "value": " 340/340 [00:17&lt;00:00, 19.21it/s, loss=4.98]"
      }
     },
     "eabd124c496a450fad4e20a55ec47184": {
      "model_module": "@jupyter-widgets/controls",
      "model_module_version": "2.0.0",
      "model_name": "HTMLStyleModel",
      "state": {
       "description_width": "",
       "font_size": null,
       "text_color": null
      }
     },
     "eda1793a14e1456bb15775956d41849c": {
      "model_module": "@jupyter-widgets/controls",
      "model_module_version": "2.0.0",
      "model_name": "HBoxModel",
      "state": {
       "children": [
        "IPY_MODEL_a339a94b56bd42e98ff10793f68dd4ea",
        "IPY_MODEL_2d9b89ee47b048f2b2a4a387f3357514",
        "IPY_MODEL_d9053ec91ebe43938627a891c45d630b"
       ],
       "layout": "IPY_MODEL_75e76604b19149eab411e1dd2793a064"
      }
     },
     "efcbcbcc930c409780f663656eb391d3": {
      "model_module": "@jupyter-widgets/controls",
      "model_module_version": "2.0.0",
      "model_name": "HTMLStyleModel",
      "state": {
       "description_width": "",
       "font_size": null,
       "text_color": null
      }
     },
     "f03a768ff1a149f59a878826d4753f8e": {
      "model_module": "@jupyter-widgets/base",
      "model_module_version": "2.0.0",
      "model_name": "LayoutModel",
      "state": {}
     },
     "f097e9553f2c4fc6a79b7b6238661906": {
      "model_module": "@jupyter-widgets/controls",
      "model_module_version": "2.0.0",
      "model_name": "HTMLModel",
      "state": {
       "layout": "IPY_MODEL_134753dae6b24abb9371b98d41855387",
       "style": "IPY_MODEL_8a688db73a2f496180790729dfa9f231",
       "value": " 340/340 [00:18&lt;00:00, 18.64it/s, loss=5.02]"
      }
     },
     "f2f699ba49164d6abcc07eea6616e6aa": {
      "model_module": "@jupyter-widgets/base",
      "model_module_version": "2.0.0",
      "model_name": "LayoutModel",
      "state": {
       "flex": "2"
      }
     },
     "f7d5c50f335d41dab8a0c39c75501bf8": {
      "model_module": "@jupyter-widgets/controls",
      "model_module_version": "2.0.0",
      "model_name": "FloatProgressModel",
      "state": {
       "bar_style": "success",
       "layout": "IPY_MODEL_f2f699ba49164d6abcc07eea6616e6aa",
       "max": 340,
       "style": "IPY_MODEL_2fcafc50892149b99330a1a2feff5074",
       "value": 340
      }
     },
     "f9ce9bd210714d78a4b6a8ab0732df07": {
      "model_module": "@jupyter-widgets/base",
      "model_module_version": "2.0.0",
      "model_name": "LayoutModel",
      "state": {
       "flex": "2"
      }
     },
     "f9cfab8c27844c97910e12f218434020": {
      "model_module": "@jupyter-widgets/controls",
      "model_module_version": "2.0.0",
      "model_name": "HBoxModel",
      "state": {
       "children": [
        "IPY_MODEL_a826d12feee249a895bb3176f86b7de7",
        "IPY_MODEL_4a1fd0187e4e4d1c9152ad59a5e03830",
        "IPY_MODEL_ba7a917d7a1d4ffc8641cba82d8ba039"
       ],
       "layout": "IPY_MODEL_c6337d428d7846fbab114b53ec3e9129"
      }
     },
     "fa0c6743b9fa40c69ef7ff8512cc12c4": {
      "model_module": "@jupyter-widgets/base",
      "model_module_version": "2.0.0",
      "model_name": "LayoutModel",
      "state": {}
     },
     "fbe31ae10c87470998865c2a45365a35": {
      "model_module": "@jupyter-widgets/controls",
      "model_module_version": "2.0.0",
      "model_name": "FloatProgressModel",
      "state": {
       "bar_style": "success",
       "layout": "IPY_MODEL_4ea7f90308ab452184ef329d1b6e6c1c",
       "max": 340,
       "style": "IPY_MODEL_fe571749507f46a28ce77408f02df162",
       "value": 340
      }
     },
     "fc57fbd39dec40539800bc9ea7d7421c": {
      "model_module": "@jupyter-widgets/controls",
      "model_module_version": "2.0.0",
      "model_name": "ProgressStyleModel",
      "state": {
       "description_width": ""
      }
     },
     "fcf6ef5d539b47e79ff2247e975f9b21": {
      "model_module": "@jupyter-widgets/base",
      "model_module_version": "2.0.0",
      "model_name": "LayoutModel",
      "state": {
       "flex": "2"
      }
     },
     "fe571749507f46a28ce77408f02df162": {
      "model_module": "@jupyter-widgets/controls",
      "model_module_version": "2.0.0",
      "model_name": "ProgressStyleModel",
      "state": {
       "description_width": ""
      }
     }
    },
    "version_major": 2,
    "version_minor": 0
   }
  }
 },
 "nbformat": 4,
 "nbformat_minor": 5
}
