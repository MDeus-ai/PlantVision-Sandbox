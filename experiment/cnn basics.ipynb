{
 "cells": [
  {
   "cell_type": "markdown",
   "id": "01eb73b5-d7b3-44a0-ba98-d8eb48a11300",
   "metadata": {},
   "source": [
    "<div style='background: cyan; font-size: 74px; font-weight: bold'>CNN BASICS</div>"
   ]
  },
  {
   "cell_type": "code",
   "execution_count": 1,
   "id": "1105e12e-53a6-4e17-bc70-f45e1a70950c",
   "metadata": {},
   "outputs": [],
   "source": [
    "import torch\n",
    "from tqdm.auto import tqdm\n",
    "import torch.nn as nn\n",
    "from torch.utils.data import DataLoader\n",
    "from torchvision import transforms\n",
    "import torchvision.datasets as datasets"
   ]
  },
  {
   "cell_type": "markdown",
   "id": "d2b15898-4be5-4f55-a9e1-fd87ba9cddfe",
   "metadata": {},
   "source": [
    "<div style='background: cyan; font-size: 74px; font-weight: bold'>DATA INGESTION</div>"
   ]
  },
  {
   "cell_type": "code",
   "execution_count": 2,
   "id": "0df81244-149c-48d1-acc3-9f74e9838370",
   "metadata": {},
   "outputs": [],
   "source": [
    "transforms = transforms.Compose([\n",
    "    transforms.Resize((24, 24)),\n",
    "    transforms.Grayscale(), # Convert an RGB to a grey channel (blank and white)\n",
    "    transforms.ToTensor()\n",
    "])"
   ]
  },
  {
   "cell_type": "code",
   "execution_count": 3,
   "id": "e8347579-008f-4dbc-ab4a-a4c72a348b60",
   "metadata": {},
   "outputs": [],
   "source": [
    "img_dataset = datasets.ImageFolder(root='../datasets/processed/', transform=transforms)\n",
    "loader = DataLoader(dataset=img_dataset, batch_size=32, shuffle=True)"
   ]
  },
  {
   "cell_type": "markdown",
   "id": "6222ac38-1d6b-471f-82b5-d5e10b0df6d9",
   "metadata": {},
   "source": [
    "<div style='background: cyan; font-size: 74px; font-weight: bold'>MODEL DEFINITION (MLP)</div>"
   ]
  },
  {
   "cell_type": "code",
   "execution_count": 4,
   "id": "7dd0c0a4-77ec-42b0-b66e-7b04ed21bc43",
   "metadata": {},
   "outputs": [],
   "source": [
    "class Mlp(nn.Module):\n",
    "    def __init__(self, input_size=24*24, hidden_size=128, output_size=38):\n",
    "        super().__init__()\n",
    "        self.layer_1 = nn.Linear(in_features=input_size, out_features=hidden_size)\n",
    "        self.relu_1 = nn.ReLU()\n",
    "        self.layer_2 = nn.Linear(in_features=hidden_size, out_features=output_size) # Output -> [batch_size, num_classes]\n",
    "        # self.softmax = nn.Softmax(dim=1)\n",
    "    def forward(self, x):\n",
    "        x = x.view(x.size(0), -1) # Flatten the inputs\n",
    "        x = self.relu_1(self.layer_1(x))\n",
    "        x = self.layer_2(x)\n",
    "        return x"
   ]
  },
  {
   "cell_type": "markdown",
   "id": "c627cc57-87bd-49bc-b448-740ad7a978d0",
   "metadata": {},
   "source": [
    "<div style='background: cyan; font-size: 74px; font-weight: bold'>TRAINING LOOP</div>"
   ]
  },
  {
   "cell_type": "code",
   "execution_count": 5,
   "id": "2b09718d-b977-45ac-8a3a-4edacfdb6187",
   "metadata": {},
   "outputs": [],
   "source": [
    "simple_mlp = Mlp()\n",
    "criterion = nn.CrossEntropyLoss() # Also handles softmax internally\n",
    "optimizer = torch.optim.Adam(simple_mlp.parameters(), lr=0.001) # Update model params"
   ]
  },
  {
   "cell_type": "code",
   "execution_count": 6,
   "id": "e1e2c3c2-ef9b-46a0-98be-569c847ae565",
   "metadata": {
    "scrolled": true
   },
   "outputs": [
    {
     "data": {
      "application/vnd.jupyter.widget-view+json": {
       "model_id": "8f7bc747f34e4d8c977fcac5068d8266",
       "version_major": 2,
       "version_minor": 0
      },
      "text/plain": [
       "Epoch 1/10:   0%|                                                                                             …"
      ]
     },
     "metadata": {},
     "output_type": "display_data"
    },
    {
     "name": "stdout",
     "output_type": "stream",
     "text": [
      "   Epoch 1, - Avg Loss: 3.1337\n"
     ]
    },
    {
     "data": {
      "application/vnd.jupyter.widget-view+json": {
       "model_id": "77794a39608f4193b954b4087760ba76",
       "version_major": 2,
       "version_minor": 0
      },
      "text/plain": [
       "Epoch 2/10:   0%|                                                                                             …"
      ]
     },
     "metadata": {},
     "output_type": "display_data"
    },
    {
     "name": "stdout",
     "output_type": "stream",
     "text": [
      "   Epoch 2, - Avg Loss: 2.8692\n"
     ]
    },
    {
     "data": {
      "application/vnd.jupyter.widget-view+json": {
       "model_id": "b4e76278266940c8bc4e12a12c6d00dd",
       "version_major": 2,
       "version_minor": 0
      },
      "text/plain": [
       "Epoch 3/10:   0%|                                                                                             …"
      ]
     },
     "metadata": {},
     "output_type": "display_data"
    },
    {
     "name": "stdout",
     "output_type": "stream",
     "text": [
      "   Epoch 3, - Avg Loss: 2.7116\n"
     ]
    },
    {
     "data": {
      "application/vnd.jupyter.widget-view+json": {
       "model_id": "bea8f6e581cc4302b123662f91e3dd22",
       "version_major": 2,
       "version_minor": 0
      },
      "text/plain": [
       "Epoch 4/10:   0%|                                                                                             …"
      ]
     },
     "metadata": {},
     "output_type": "display_data"
    },
    {
     "name": "stdout",
     "output_type": "stream",
     "text": [
      "   Epoch 4, - Avg Loss: 2.5917\n"
     ]
    },
    {
     "data": {
      "application/vnd.jupyter.widget-view+json": {
       "model_id": "513c3d67bae34b49bbcb4f3ec9bbbfbc",
       "version_major": 2,
       "version_minor": 0
      },
      "text/plain": [
       "Epoch 5/10:   0%|                                                                                             …"
      ]
     },
     "metadata": {},
     "output_type": "display_data"
    },
    {
     "name": "stdout",
     "output_type": "stream",
     "text": [
      "   Epoch 5, - Avg Loss: 2.5064\n"
     ]
    },
    {
     "data": {
      "application/vnd.jupyter.widget-view+json": {
       "model_id": "2983becd969f4d578efc49bd8790e61b",
       "version_major": 2,
       "version_minor": 0
      },
      "text/plain": [
       "Epoch 6/10:   0%|                                                                                             …"
      ]
     },
     "metadata": {},
     "output_type": "display_data"
    },
    {
     "name": "stdout",
     "output_type": "stream",
     "text": [
      "   Epoch 6, - Avg Loss: 2.4312\n"
     ]
    },
    {
     "data": {
      "application/vnd.jupyter.widget-view+json": {
       "model_id": "a38177982f794843aa6175f3e09e662a",
       "version_major": 2,
       "version_minor": 0
      },
      "text/plain": [
       "Epoch 7/10:   0%|                                                                                             …"
      ]
     },
     "metadata": {},
     "output_type": "display_data"
    },
    {
     "name": "stdout",
     "output_type": "stream",
     "text": [
      "   Epoch 7, - Avg Loss: 2.3750\n"
     ]
    },
    {
     "data": {
      "application/vnd.jupyter.widget-view+json": {
       "model_id": "9d0289520819411791805ab7554fbf7e",
       "version_major": 2,
       "version_minor": 0
      },
      "text/plain": [
       "Epoch 8/10:   0%|                                                                                             …"
      ]
     },
     "metadata": {},
     "output_type": "display_data"
    },
    {
     "name": "stdout",
     "output_type": "stream",
     "text": [
      "   Epoch 8, - Avg Loss: 2.3279\n"
     ]
    },
    {
     "data": {
      "application/vnd.jupyter.widget-view+json": {
       "model_id": "325884b035bb49b29224777e08fc46b5",
       "version_major": 2,
       "version_minor": 0
      },
      "text/plain": [
       "Epoch 9/10:   0%|                                                                                             …"
      ]
     },
     "metadata": {},
     "output_type": "display_data"
    },
    {
     "name": "stdout",
     "output_type": "stream",
     "text": [
      "   Epoch 9, - Avg Loss: 2.2680\n"
     ]
    },
    {
     "data": {
      "application/vnd.jupyter.widget-view+json": {
       "model_id": "1e7bc964744a4b63bbe60d383d0b8238",
       "version_major": 2,
       "version_minor": 0
      },
      "text/plain": [
       "Epoch 10/10:   0%|                                                                                            …"
      ]
     },
     "metadata": {},
     "output_type": "display_data"
    },
    {
     "name": "stdout",
     "output_type": "stream",
     "text": [
      "   Epoch 10, - Avg Loss: 2.2367\n"
     ]
    }
   ],
   "source": [
    "# Training Loop\n",
    "num_epochs = 10\n",
    "\n",
    "for epoch in range(num_epochs):\n",
    "    simple_mlp.train() # Mostly for models with batch-norm\n",
    "    running_loss = 0.0\n",
    "\n",
    "    progress_bar = tqdm(loader, ncols=1000, desc=f\"Epoch {epoch+1}/{num_epochs}\") # For showing progress bars\n",
    "    for imgs, labels in progress_bar:\n",
    "        outputs = simple_mlp(imgs) # Forward pass, data ingestion\n",
    "        loss = criterion(outputs, labels) # Loss calculation\n",
    "\n",
    "        optimizer.zero_grad() # Set gradients to zero, cause grads from the previous epoch are retained by default\n",
    "        loss.backward() # perform backpropagation\n",
    "        optimizer.step() # Update weights\n",
    "\n",
    "        progress_bar.set_postfix(loss=loss.item())\n",
    "\n",
    "        running_loss += loss.item()\n",
    "    epoch_loss = running_loss / len(loader)\n",
    "    print(f\"   Epoch {epoch+1}, - Avg Loss: {epoch_loss:.4f}\") # Track loss for each epoch"
   ]
  },
  {
   "cell_type": "code",
   "execution_count": 7,
   "id": "7394500f-39a4-41aa-afbf-37d38a5dda38",
   "metadata": {},
   "outputs": [],
   "source": [
    "# logit = torch.tensor([[0.9, 1.2, 3.5, 2.6],\n",
    "#                       [0.01, 0.78, 2.3, 8.1],\n",
    "#                       [1.9, 2.81, 5.5, 3.01]]\n",
    "#                       )\n",
    "# #apply softmax\n",
    "# softmax = nn.Softmax(dim=1)\n",
    "# logit_proba = softmax(logit)\n",
    "# pred_args = torch.argmax(logit, dim=1)\n",
    "# ground_truth_labels = torch.tensor([[2, 1, 2]])\n",
    "# pred = (ground_truth_labels==pred_args)\n",
    "# pred"
   ]
  },
  {
   "cell_type": "markdown",
   "id": "377b8b78-0087-4bac-9907-88d9626c9b81",
   "metadata": {},
   "source": [
    "<div style='background: cyan; font-size: 74px; font-weight: bold'>MODEL DEFINITION (CNN)</div>"
   ]
  },
  {
   "cell_type": "code",
   "execution_count": 12,
   "id": "e6d86ead-9b15-44c6-913d-3450bc1a759e",
   "metadata": {},
   "outputs": [],
   "source": [
    "from torchvision import transforms\n",
    "transforms_rgb = transforms.Compose([\n",
    "    transforms.Resize((24, 24)),\n",
    "    transforms.ToTensor()\n",
    "])"
   ]
  },
  {
   "cell_type": "code",
   "execution_count": 24,
   "id": "55088437-0d75-4438-b6b7-44e777ff3277",
   "metadata": {},
   "outputs": [
    {
     "data": {
      "application/vnd.jupyter.widget-view+json": {
       "model_id": "3b709eeac0494bb599d13d7ab67c9689",
       "version_major": 2,
       "version_minor": 0
      },
      "text/plain": [
       "Epoch 1/10:   0%|                                                                                             …"
      ]
     },
     "metadata": {},
     "output_type": "display_data"
    },
    {
     "name": "stdout",
     "output_type": "stream",
     "text": [
      "   Epoch 1, - Avg Loss: 3.0558\n"
     ]
    },
    {
     "data": {
      "application/vnd.jupyter.widget-view+json": {
       "model_id": "c5a066e3f86c4f77833129205ae727e3",
       "version_major": 2,
       "version_minor": 0
      },
      "text/plain": [
       "Epoch 2/10:   0%|                                                                                             …"
      ]
     },
     "metadata": {},
     "output_type": "display_data"
    },
    {
     "name": "stdout",
     "output_type": "stream",
     "text": [
      "   Epoch 2, - Avg Loss: 2.0352\n"
     ]
    },
    {
     "data": {
      "application/vnd.jupyter.widget-view+json": {
       "model_id": "ab0c3fe7a95a42c3b871dc39fe3b1a70",
       "version_major": 2,
       "version_minor": 0
      },
      "text/plain": [
       "Epoch 3/10:   0%|                                                                                             …"
      ]
     },
     "metadata": {},
     "output_type": "display_data"
    },
    {
     "name": "stdout",
     "output_type": "stream",
     "text": [
      "   Epoch 3, - Avg Loss: 1.7036\n"
     ]
    },
    {
     "data": {
      "application/vnd.jupyter.widget-view+json": {
       "model_id": "219120099feb4c6e86c46d6fa3df2b77",
       "version_major": 2,
       "version_minor": 0
      },
      "text/plain": [
       "Epoch 4/10:   0%|                                                                                             …"
      ]
     },
     "metadata": {},
     "output_type": "display_data"
    },
    {
     "name": "stdout",
     "output_type": "stream",
     "text": [
      "   Epoch 4, - Avg Loss: 1.5411\n"
     ]
    },
    {
     "data": {
      "application/vnd.jupyter.widget-view+json": {
       "model_id": "7aadbc112e8349c29d675586f494ae42",
       "version_major": 2,
       "version_minor": 0
      },
      "text/plain": [
       "Epoch 5/10:   0%|                                                                                             …"
      ]
     },
     "metadata": {},
     "output_type": "display_data"
    },
    {
     "name": "stdout",
     "output_type": "stream",
     "text": [
      "   Epoch 5, - Avg Loss: 1.4350\n"
     ]
    },
    {
     "data": {
      "application/vnd.jupyter.widget-view+json": {
       "model_id": "af136378e6e148a09b8c6ca846d069a5",
       "version_major": 2,
       "version_minor": 0
      },
      "text/plain": [
       "Epoch 6/10:   0%|                                                                                             …"
      ]
     },
     "metadata": {},
     "output_type": "display_data"
    },
    {
     "ename": "KeyboardInterrupt",
     "evalue": "",
     "output_type": "error",
     "traceback": [
      "\u001b[1;31m---------------------------------------------------------------------------\u001b[0m",
      "\u001b[1;31mKeyboardInterrupt\u001b[0m                         Traceback (most recent call last)",
      "Cell \u001b[1;32mIn[24], line 51\u001b[0m\n\u001b[0;32m     48\u001b[0m running_loss \u001b[38;5;241m=\u001b[39m \u001b[38;5;241m0.0\u001b[39m\n\u001b[0;32m     50\u001b[0m progress_bar \u001b[38;5;241m=\u001b[39m tqdm(loader_rgb, ncols\u001b[38;5;241m=\u001b[39m\u001b[38;5;241m1000\u001b[39m, desc\u001b[38;5;241m=\u001b[39m\u001b[38;5;124mf\u001b[39m\u001b[38;5;124m\"\u001b[39m\u001b[38;5;124mEpoch \u001b[39m\u001b[38;5;132;01m{\u001b[39;00mepoch\u001b[38;5;241m+\u001b[39m\u001b[38;5;241m1\u001b[39m\u001b[38;5;132;01m}\u001b[39;00m\u001b[38;5;124m/\u001b[39m\u001b[38;5;132;01m{\u001b[39;00mnum_epochs\u001b[38;5;132;01m}\u001b[39;00m\u001b[38;5;124m\"\u001b[39m)\n\u001b[1;32m---> 51\u001b[0m \u001b[43m\u001b[49m\u001b[38;5;28;43;01mfor\u001b[39;49;00m\u001b[43m \u001b[49m\u001b[43mimgs\u001b[49m\u001b[43m,\u001b[49m\u001b[43m \u001b[49m\u001b[43mlabels\u001b[49m\u001b[43m \u001b[49m\u001b[38;5;129;43;01min\u001b[39;49;00m\u001b[43m \u001b[49m\u001b[43mprogress_bar\u001b[49m\u001b[43m:\u001b[49m\n\u001b[0;32m     52\u001b[0m \u001b[43m    \u001b[49m\u001b[43moutputs\u001b[49m\u001b[43m \u001b[49m\u001b[38;5;241;43m=\u001b[39;49m\u001b[43m \u001b[49m\u001b[43mcnn\u001b[49m\u001b[43m(\u001b[49m\u001b[43mimgs\u001b[49m\u001b[43m)\u001b[49m\n\u001b[0;32m     53\u001b[0m \u001b[43m    \u001b[49m\u001b[43mloss\u001b[49m\u001b[43m \u001b[49m\u001b[38;5;241;43m=\u001b[39;49m\u001b[43m \u001b[49m\u001b[43mcriterion1\u001b[49m\u001b[43m(\u001b[49m\u001b[43moutputs\u001b[49m\u001b[43m,\u001b[49m\u001b[43m \u001b[49m\u001b[43mlabels\u001b[49m\u001b[43m)\u001b[49m\n",
      "File \u001b[1;32m~\\AppData\\Local\\Programs\\Python\\Python312\\Lib\\site-packages\\tqdm\\notebook.py:250\u001b[0m, in \u001b[0;36mtqdm_notebook.__iter__\u001b[1;34m(self)\u001b[0m\n\u001b[0;32m    248\u001b[0m \u001b[38;5;28;01mtry\u001b[39;00m:\n\u001b[0;32m    249\u001b[0m     it \u001b[38;5;241m=\u001b[39m \u001b[38;5;28msuper\u001b[39m()\u001b[38;5;241m.\u001b[39m\u001b[38;5;21m__iter__\u001b[39m()\n\u001b[1;32m--> 250\u001b[0m \u001b[43m    \u001b[49m\u001b[38;5;28;43;01mfor\u001b[39;49;00m\u001b[43m \u001b[49m\u001b[43mobj\u001b[49m\u001b[43m \u001b[49m\u001b[38;5;129;43;01min\u001b[39;49;00m\u001b[43m \u001b[49m\u001b[43mit\u001b[49m\u001b[43m:\u001b[49m\n\u001b[0;32m    251\u001b[0m \u001b[43m        \u001b[49m\u001b[38;5;66;43;03m# return super(tqdm...) will not catch exception\u001b[39;49;00m\n\u001b[0;32m    252\u001b[0m \u001b[43m        \u001b[49m\u001b[38;5;28;43;01myield\u001b[39;49;00m\u001b[43m \u001b[49m\u001b[43mobj\u001b[49m\n\u001b[0;32m    253\u001b[0m \u001b[38;5;66;03m# NB: except ... [ as ...] breaks IPython async KeyboardInterrupt\u001b[39;00m\n",
      "File \u001b[1;32m~\\AppData\\Local\\Programs\\Python\\Python312\\Lib\\site-packages\\tqdm\\std.py:1181\u001b[0m, in \u001b[0;36mtqdm.__iter__\u001b[1;34m(self)\u001b[0m\n\u001b[0;32m   1178\u001b[0m time \u001b[38;5;241m=\u001b[39m \u001b[38;5;28mself\u001b[39m\u001b[38;5;241m.\u001b[39m_time\n\u001b[0;32m   1180\u001b[0m \u001b[38;5;28;01mtry\u001b[39;00m:\n\u001b[1;32m-> 1181\u001b[0m \u001b[43m    \u001b[49m\u001b[38;5;28;43;01mfor\u001b[39;49;00m\u001b[43m \u001b[49m\u001b[43mobj\u001b[49m\u001b[43m \u001b[49m\u001b[38;5;129;43;01min\u001b[39;49;00m\u001b[43m \u001b[49m\u001b[43miterable\u001b[49m\u001b[43m:\u001b[49m\n\u001b[0;32m   1182\u001b[0m \u001b[43m        \u001b[49m\u001b[38;5;28;43;01myield\u001b[39;49;00m\u001b[43m \u001b[49m\u001b[43mobj\u001b[49m\n\u001b[0;32m   1183\u001b[0m \u001b[43m        \u001b[49m\u001b[38;5;66;43;03m# Update and possibly print the progressbar.\u001b[39;49;00m\n\u001b[0;32m   1184\u001b[0m \u001b[43m        \u001b[49m\u001b[38;5;66;43;03m# Note: does not call self.update(1) for speed optimisation.\u001b[39;49;00m\n",
      "File \u001b[1;32m~\\AppData\\Local\\Programs\\Python\\Python312\\Lib\\site-packages\\torch\\utils\\data\\dataloader.py:733\u001b[0m, in \u001b[0;36m_BaseDataLoaderIter.__next__\u001b[1;34m(self)\u001b[0m\n\u001b[0;32m    730\u001b[0m \u001b[38;5;28;01mif\u001b[39;00m \u001b[38;5;28mself\u001b[39m\u001b[38;5;241m.\u001b[39m_sampler_iter \u001b[38;5;129;01mis\u001b[39;00m \u001b[38;5;28;01mNone\u001b[39;00m:\n\u001b[0;32m    731\u001b[0m     \u001b[38;5;66;03m# TODO(https://github.com/pytorch/pytorch/issues/76750)\u001b[39;00m\n\u001b[0;32m    732\u001b[0m     \u001b[38;5;28mself\u001b[39m\u001b[38;5;241m.\u001b[39m_reset()  \u001b[38;5;66;03m# type: ignore[call-arg]\u001b[39;00m\n\u001b[1;32m--> 733\u001b[0m data \u001b[38;5;241m=\u001b[39m \u001b[38;5;28;43mself\u001b[39;49m\u001b[38;5;241;43m.\u001b[39;49m\u001b[43m_next_data\u001b[49m\u001b[43m(\u001b[49m\u001b[43m)\u001b[49m\n\u001b[0;32m    734\u001b[0m \u001b[38;5;28mself\u001b[39m\u001b[38;5;241m.\u001b[39m_num_yielded \u001b[38;5;241m+\u001b[39m\u001b[38;5;241m=\u001b[39m \u001b[38;5;241m1\u001b[39m\n\u001b[0;32m    735\u001b[0m \u001b[38;5;28;01mif\u001b[39;00m (\n\u001b[0;32m    736\u001b[0m     \u001b[38;5;28mself\u001b[39m\u001b[38;5;241m.\u001b[39m_dataset_kind \u001b[38;5;241m==\u001b[39m _DatasetKind\u001b[38;5;241m.\u001b[39mIterable\n\u001b[0;32m    737\u001b[0m     \u001b[38;5;129;01mand\u001b[39;00m \u001b[38;5;28mself\u001b[39m\u001b[38;5;241m.\u001b[39m_IterableDataset_len_called \u001b[38;5;129;01mis\u001b[39;00m \u001b[38;5;129;01mnot\u001b[39;00m \u001b[38;5;28;01mNone\u001b[39;00m\n\u001b[0;32m    738\u001b[0m     \u001b[38;5;129;01mand\u001b[39;00m \u001b[38;5;28mself\u001b[39m\u001b[38;5;241m.\u001b[39m_num_yielded \u001b[38;5;241m>\u001b[39m \u001b[38;5;28mself\u001b[39m\u001b[38;5;241m.\u001b[39m_IterableDataset_len_called\n\u001b[0;32m    739\u001b[0m ):\n",
      "File \u001b[1;32m~\\AppData\\Local\\Programs\\Python\\Python312\\Lib\\site-packages\\torch\\utils\\data\\dataloader.py:789\u001b[0m, in \u001b[0;36m_SingleProcessDataLoaderIter._next_data\u001b[1;34m(self)\u001b[0m\n\u001b[0;32m    787\u001b[0m \u001b[38;5;28;01mdef\u001b[39;00m \u001b[38;5;21m_next_data\u001b[39m(\u001b[38;5;28mself\u001b[39m):\n\u001b[0;32m    788\u001b[0m     index \u001b[38;5;241m=\u001b[39m \u001b[38;5;28mself\u001b[39m\u001b[38;5;241m.\u001b[39m_next_index()  \u001b[38;5;66;03m# may raise StopIteration\u001b[39;00m\n\u001b[1;32m--> 789\u001b[0m     data \u001b[38;5;241m=\u001b[39m \u001b[38;5;28;43mself\u001b[39;49m\u001b[38;5;241;43m.\u001b[39;49m\u001b[43m_dataset_fetcher\u001b[49m\u001b[38;5;241;43m.\u001b[39;49m\u001b[43mfetch\u001b[49m\u001b[43m(\u001b[49m\u001b[43mindex\u001b[49m\u001b[43m)\u001b[49m  \u001b[38;5;66;03m# may raise StopIteration\u001b[39;00m\n\u001b[0;32m    790\u001b[0m     \u001b[38;5;28;01mif\u001b[39;00m \u001b[38;5;28mself\u001b[39m\u001b[38;5;241m.\u001b[39m_pin_memory:\n\u001b[0;32m    791\u001b[0m         data \u001b[38;5;241m=\u001b[39m _utils\u001b[38;5;241m.\u001b[39mpin_memory\u001b[38;5;241m.\u001b[39mpin_memory(data, \u001b[38;5;28mself\u001b[39m\u001b[38;5;241m.\u001b[39m_pin_memory_device)\n",
      "File \u001b[1;32m~\\AppData\\Local\\Programs\\Python\\Python312\\Lib\\site-packages\\torch\\utils\\data\\_utils\\fetch.py:52\u001b[0m, in \u001b[0;36m_MapDatasetFetcher.fetch\u001b[1;34m(self, possibly_batched_index)\u001b[0m\n\u001b[0;32m     50\u001b[0m         data \u001b[38;5;241m=\u001b[39m \u001b[38;5;28mself\u001b[39m\u001b[38;5;241m.\u001b[39mdataset\u001b[38;5;241m.\u001b[39m__getitems__(possibly_batched_index)\n\u001b[0;32m     51\u001b[0m     \u001b[38;5;28;01melse\u001b[39;00m:\n\u001b[1;32m---> 52\u001b[0m         data \u001b[38;5;241m=\u001b[39m [\u001b[38;5;28;43mself\u001b[39;49m\u001b[38;5;241;43m.\u001b[39;49m\u001b[43mdataset\u001b[49m\u001b[43m[\u001b[49m\u001b[43midx\u001b[49m\u001b[43m]\u001b[49m \u001b[38;5;28;01mfor\u001b[39;00m idx \u001b[38;5;129;01min\u001b[39;00m possibly_batched_index]\n\u001b[0;32m     53\u001b[0m \u001b[38;5;28;01melse\u001b[39;00m:\n\u001b[0;32m     54\u001b[0m     data \u001b[38;5;241m=\u001b[39m \u001b[38;5;28mself\u001b[39m\u001b[38;5;241m.\u001b[39mdataset[possibly_batched_index]\n",
      "File \u001b[1;32m~\\AppData\\Local\\Programs\\Python\\Python312\\Lib\\site-packages\\torchvision\\datasets\\folder.py:245\u001b[0m, in \u001b[0;36mDatasetFolder.__getitem__\u001b[1;34m(self, index)\u001b[0m\n\u001b[0;32m    237\u001b[0m \u001b[38;5;250m\u001b[39m\u001b[38;5;124;03m\"\"\"\u001b[39;00m\n\u001b[0;32m    238\u001b[0m \u001b[38;5;124;03mArgs:\u001b[39;00m\n\u001b[0;32m    239\u001b[0m \u001b[38;5;124;03m    index (int): Index\u001b[39;00m\n\u001b[1;32m   (...)\u001b[0m\n\u001b[0;32m    242\u001b[0m \u001b[38;5;124;03m    tuple: (sample, target) where target is class_index of the target class.\u001b[39;00m\n\u001b[0;32m    243\u001b[0m \u001b[38;5;124;03m\"\"\"\u001b[39;00m\n\u001b[0;32m    244\u001b[0m path, target \u001b[38;5;241m=\u001b[39m \u001b[38;5;28mself\u001b[39m\u001b[38;5;241m.\u001b[39msamples[index]\n\u001b[1;32m--> 245\u001b[0m sample \u001b[38;5;241m=\u001b[39m \u001b[38;5;28;43mself\u001b[39;49m\u001b[38;5;241;43m.\u001b[39;49m\u001b[43mloader\u001b[49m\u001b[43m(\u001b[49m\u001b[43mpath\u001b[49m\u001b[43m)\u001b[49m\n\u001b[0;32m    246\u001b[0m \u001b[38;5;28;01mif\u001b[39;00m \u001b[38;5;28mself\u001b[39m\u001b[38;5;241m.\u001b[39mtransform \u001b[38;5;129;01mis\u001b[39;00m \u001b[38;5;129;01mnot\u001b[39;00m \u001b[38;5;28;01mNone\u001b[39;00m:\n\u001b[0;32m    247\u001b[0m     sample \u001b[38;5;241m=\u001b[39m \u001b[38;5;28mself\u001b[39m\u001b[38;5;241m.\u001b[39mtransform(sample)\n",
      "File \u001b[1;32m~\\AppData\\Local\\Programs\\Python\\Python312\\Lib\\site-packages\\torchvision\\datasets\\folder.py:284\u001b[0m, in \u001b[0;36mdefault_loader\u001b[1;34m(path)\u001b[0m\n\u001b[0;32m    282\u001b[0m     \u001b[38;5;28;01mreturn\u001b[39;00m accimage_loader(path)\n\u001b[0;32m    283\u001b[0m \u001b[38;5;28;01melse\u001b[39;00m:\n\u001b[1;32m--> 284\u001b[0m     \u001b[38;5;28;01mreturn\u001b[39;00m \u001b[43mpil_loader\u001b[49m\u001b[43m(\u001b[49m\u001b[43mpath\u001b[49m\u001b[43m)\u001b[49m\n",
      "File \u001b[1;32m~\\AppData\\Local\\Programs\\Python\\Python312\\Lib\\site-packages\\torchvision\\datasets\\folder.py:263\u001b[0m, in \u001b[0;36mpil_loader\u001b[1;34m(path)\u001b[0m\n\u001b[0;32m    260\u001b[0m \u001b[38;5;28;01mdef\u001b[39;00m \u001b[38;5;21mpil_loader\u001b[39m(path: Union[\u001b[38;5;28mstr\u001b[39m, Path]) \u001b[38;5;241m-\u001b[39m\u001b[38;5;241m>\u001b[39m Image\u001b[38;5;241m.\u001b[39mImage:\n\u001b[0;32m    261\u001b[0m     \u001b[38;5;66;03m# open path as file to avoid ResourceWarning (https://github.com/python-pillow/Pillow/issues/835)\u001b[39;00m\n\u001b[0;32m    262\u001b[0m     \u001b[38;5;28;01mwith\u001b[39;00m \u001b[38;5;28mopen\u001b[39m(path, \u001b[38;5;124m\"\u001b[39m\u001b[38;5;124mrb\u001b[39m\u001b[38;5;124m\"\u001b[39m) \u001b[38;5;28;01mas\u001b[39;00m f:\n\u001b[1;32m--> 263\u001b[0m         img \u001b[38;5;241m=\u001b[39m \u001b[43mImage\u001b[49m\u001b[38;5;241;43m.\u001b[39;49m\u001b[43mopen\u001b[49m\u001b[43m(\u001b[49m\u001b[43mf\u001b[49m\u001b[43m)\u001b[49m\n\u001b[0;32m    264\u001b[0m         \u001b[38;5;28;01mreturn\u001b[39;00m img\u001b[38;5;241m.\u001b[39mconvert(\u001b[38;5;124m\"\u001b[39m\u001b[38;5;124mRGB\u001b[39m\u001b[38;5;124m\"\u001b[39m)\n",
      "File \u001b[1;32m~\\AppData\\Local\\Programs\\Python\\Python312\\Lib\\site-packages\\PIL\\Image.py:3480\u001b[0m, in \u001b[0;36mopen\u001b[1;34m(fp, mode, formats)\u001b[0m\n\u001b[0;32m   3477\u001b[0m     fp \u001b[38;5;241m=\u001b[39m io\u001b[38;5;241m.\u001b[39mBytesIO(fp\u001b[38;5;241m.\u001b[39mread())\n\u001b[0;32m   3478\u001b[0m     exclusive_fp \u001b[38;5;241m=\u001b[39m \u001b[38;5;28;01mTrue\u001b[39;00m\n\u001b[1;32m-> 3480\u001b[0m prefix \u001b[38;5;241m=\u001b[39m \u001b[43mfp\u001b[49m\u001b[38;5;241;43m.\u001b[39;49m\u001b[43mread\u001b[49m\u001b[43m(\u001b[49m\u001b[38;5;241;43m16\u001b[39;49m\u001b[43m)\u001b[49m\n\u001b[0;32m   3482\u001b[0m preinit()\n\u001b[0;32m   3484\u001b[0m warning_messages: \u001b[38;5;28mlist\u001b[39m[\u001b[38;5;28mstr\u001b[39m] \u001b[38;5;241m=\u001b[39m []\n",
      "\u001b[1;31mKeyboardInterrupt\u001b[0m: "
     ]
    }
   ],
   "source": [
    "\"\"\"\n",
    "IMPORTANT!!!!\n",
    "For a JxK image and an MxM filter/kernel\n",
    "Conv2d's output is calculated as (J-M+1) X (K-M+1) for zero padding\n",
    "for padding applied, the output is calculated as ((J+2P-M)+1) x ((K+2P-M)+1)\n",
    "\n",
    "MaxPool2d layer's output is calculated as (..., (J-M+1)/2, (K-M+1)/2) if there's zero padding\n",
    "\"\"\"\n",
    "class CNN(nn.Module):\n",
    "    def __init__(self, input_size=24*24, hidden_size=64, output_size=38):\n",
    "        super().__init__()\n",
    "        self.conv1 = nn.Conv2d(in_channels=3, out_channels=5, kernel_size=3, padding=1) # output->(5, 22, 22)\n",
    "        self.relu1 = nn.ReLU()\n",
    "        self.conv2 = nn.Conv2d(in_channels=5, out_channels=10, kernel_size=3, padding=1) # output->(10, 20, 20)\n",
    "        self.relu2 = nn.ReLU()\n",
    "\n",
    "        self.pool = nn.MaxPool2d(kernel_size=2, stride=2) # output ->(10, 10, 10)\n",
    "\n",
    "        self.layer_1 = nn.Linear(in_features=10*10*10, out_features=hidden_size)\n",
    "        self.relu3 = nn.ReLU()\n",
    "        self.layer_2 = nn.Linear(in_features=hidden_size, out_features=output_size)\n",
    "\n",
    "    def forward(self, x):\n",
    "        x = self.relu1(self.conv1(x))\n",
    "        x = self.relu2(self.conv2(x))\n",
    "\n",
    "        x = self.pool(x)\n",
    "        x = x.view(x.size(0), -1)\n",
    "        x = self.relu3(self.layer_1(x))\n",
    "        x = self.layer_2(x)\n",
    "        return x\n",
    "\n",
    "\n",
    "# Data prep\n",
    "img_dataset_rgb = datasets.ImageFolder(root='../datasets/processed/', transform=transforms_rgb)\n",
    "loader_rgb = DataLoader(dataset=img_dataset_rgb, batch_size=32, shuffle=True)\n",
    "\n",
    "# cnn model instance\n",
    "cnn = CNN()\n",
    "criterion1 = nn.CrossEntropyLoss() # Also handles softmax internally\n",
    "optimizer1 = torch.optim.Adam(cnn.parameters(), lr=0.001) # Update model params\n",
    "\n",
    "# Training Loop\n",
    "num_epochs = 10\n",
    "\n",
    "for epoch in range(num_epochs):\n",
    "    simple_mlp.train()\n",
    "    running_loss = 0.0\n",
    "\n",
    "    progress_bar = tqdm(loader_rgb, ncols=1000, desc=f\"Epoch {epoch+1}/{num_epochs}\")\n",
    "    for imgs, labels in progress_bar:\n",
    "        outputs = cnn(imgs)\n",
    "        loss = criterion1(outputs, labels)\n",
    "\n",
    "        optimizer1.zero_grad()\n",
    "        loss.backward()\n",
    "        optimizer1.step()\n",
    "\n",
    "        progress_bar.set_postfix(loss=loss.item())\n",
    "\n",
    "        running_loss += loss.item()\n",
    "    epoch_loss = running_loss / len(loader)\n",
    "    print(f\"   Epoch {epoch+1}, - Avg Loss: {epoch_loss:.4f}\")"
   ]
  },
  {
   "cell_type": "code",
   "execution_count": null,
   "id": "9fb94a4f-4ada-45d3-9d64-c1fddc6166d2",
   "metadata": {},
   "outputs": [],
   "source": []
  }
 ],
 "metadata": {
  "kernelspec": {
   "display_name": "Python 3 (ipykernel)",
   "language": "python",
   "name": "python3"
  },
  "language_info": {
   "codemirror_mode": {
    "name": "ipython",
    "version": 3
   },
   "file_extension": ".py",
   "mimetype": "text/x-python",
   "name": "python",
   "nbconvert_exporter": "python",
   "pygments_lexer": "ipython3",
   "version": "3.12.6"
  },
  "widgets": {
   "application/vnd.jupyter.widget-state+json": {
    "state": {
     "008cbc98a8e24ebfb8dc3c82af8382a5": {
      "model_module": "@jupyter-widgets/controls",
      "model_module_version": "2.0.0",
      "model_name": "ProgressStyleModel",
      "state": {
       "description_width": ""
      }
     },
     "01486167bde6485a8b58d6e817eb4eaa": {
      "model_module": "@jupyter-widgets/controls",
      "model_module_version": "2.0.0",
      "model_name": "HTMLStyleModel",
      "state": {
       "description_width": "",
       "font_size": null,
       "text_color": null
      }
     },
     "0157e35678df4f8b829ac017b1494472": {
      "model_module": "@jupyter-widgets/controls",
      "model_module_version": "2.0.0",
      "model_name": "HTMLStyleModel",
      "state": {
       "description_width": "",
       "font_size": null,
       "text_color": null
      }
     },
     "02597f72c4a44cbebea6b67b0a75944a": {
      "model_module": "@jupyter-widgets/controls",
      "model_module_version": "2.0.0",
      "model_name": "HTMLStyleModel",
      "state": {
       "description_width": "",
       "font_size": null,
       "text_color": null
      }
     },
     "036813835c544eba97aa60cf7e1944ef": {
      "model_module": "@jupyter-widgets/controls",
      "model_module_version": "2.0.0",
      "model_name": "HBoxModel",
      "state": {
       "children": [
        "IPY_MODEL_851f7f3768d745dbb561145ff343a584",
        "IPY_MODEL_16a292f72f284c6f989551bf2de41232",
        "IPY_MODEL_decfcb8edbe74475857b487d13ded9ab"
       ],
       "layout": "IPY_MODEL_a8bdb0b8591d44d694665de6566eaa2e"
      }
     },
     "03d72cb29ffd44ef8bed8f4db9d5250d": {
      "model_module": "@jupyter-widgets/controls",
      "model_module_version": "2.0.0",
      "model_name": "FloatProgressModel",
      "state": {
       "bar_style": "success",
       "layout": "IPY_MODEL_bec52dc54b784a08ab5ee1fa2fade1ec",
       "max": 340,
       "style": "IPY_MODEL_6d0ef4402c4a454a8dc380a8fa6d63f5",
       "value": 340
      }
     },
     "04b723e1c2444fccafdb14b219aa4c68": {
      "model_module": "@jupyter-widgets/controls",
      "model_module_version": "2.0.0",
      "model_name": "HTMLModel",
      "state": {
       "layout": "IPY_MODEL_f85627f91e4d427bbe573c517f94a735",
       "style": "IPY_MODEL_e8c108d0a0e64fb89dfd528487a981dc",
       "value": "Epoch 1/10:   0%"
      }
     },
     "04d084882fda4f53b11d1a961831c46e": {
      "model_module": "@jupyter-widgets/base",
      "model_module_version": "2.0.0",
      "model_name": "LayoutModel",
      "state": {}
     },
     "052e0d6a38884e25b7f48f99c4d678a7": {
      "model_module": "@jupyter-widgets/base",
      "model_module_version": "2.0.0",
      "model_name": "LayoutModel",
      "state": {
       "flex": "2"
      }
     },
     "053bdca6eda44f6284f654bf17330331": {
      "model_module": "@jupyter-widgets/controls",
      "model_module_version": "2.0.0",
      "model_name": "HTMLStyleModel",
      "state": {
       "description_width": "",
       "font_size": null,
       "text_color": null
      }
     },
     "05b23b71ab6a4a0cbf98a6da804858b2": {
      "model_module": "@jupyter-widgets/controls",
      "model_module_version": "2.0.0",
      "model_name": "ProgressStyleModel",
      "state": {
       "description_width": ""
      }
     },
     "061898c7b017431489f71127baa78bb4": {
      "model_module": "@jupyter-widgets/controls",
      "model_module_version": "2.0.0",
      "model_name": "FloatProgressModel",
      "state": {
       "bar_style": "success",
       "layout": "IPY_MODEL_644db683862c458986551c9ef864a08e",
       "max": 340,
       "style": "IPY_MODEL_ca8b204c8e9342f697be41670031bb5c",
       "value": 340
      }
     },
     "0647d20b5b3a4c5b8ca95147ce688fb8": {
      "model_module": "@jupyter-widgets/base",
      "model_module_version": "2.0.0",
      "model_name": "LayoutModel",
      "state": {
       "display": "inline-flex",
       "flex_flow": "row wrap",
       "width": "1000px"
      }
     },
     "06b11cfb05bf4e40852db9ec051504bb": {
      "model_module": "@jupyter-widgets/controls",
      "model_module_version": "2.0.0",
      "model_name": "ProgressStyleModel",
      "state": {
       "description_width": ""
      }
     },
     "07a72213682347b4a2908d160c06d1e5": {
      "model_module": "@jupyter-widgets/controls",
      "model_module_version": "2.0.0",
      "model_name": "HTMLModel",
      "state": {
       "layout": "IPY_MODEL_8c4c3af978854c4f92851ae28aa1b487",
       "style": "IPY_MODEL_02597f72c4a44cbebea6b67b0a75944a",
       "value": "Epoch 3/10: 100%"
      }
     },
     "08bc98b7bc5b42e08d124e2969d9c664": {
      "model_module": "@jupyter-widgets/base",
      "model_module_version": "2.0.0",
      "model_name": "LayoutModel",
      "state": {}
     },
     "0945600d2ffa400ca7e6d9ac96063c5f": {
      "model_module": "@jupyter-widgets/controls",
      "model_module_version": "2.0.0",
      "model_name": "HTMLStyleModel",
      "state": {
       "description_width": "",
       "font_size": null,
       "text_color": null
      }
     },
     "0a636e3a74994d759953e4b5d1ce5727": {
      "model_module": "@jupyter-widgets/controls",
      "model_module_version": "2.0.0",
      "model_name": "HTMLModel",
      "state": {
       "layout": "IPY_MODEL_f15b372411cc444bac1a57bea949dbbc",
       "style": "IPY_MODEL_01486167bde6485a8b58d6e817eb4eaa",
       "value": " 0/340 [00:00&lt;?, ?it/s]"
      }
     },
     "0bbd97cceca44f12a58cb160fdce273f": {
      "model_module": "@jupyter-widgets/base",
      "model_module_version": "2.0.0",
      "model_name": "LayoutModel",
      "state": {}
     },
     "0bce70a1db2046f9aa17f8bfa299de07": {
      "model_module": "@jupyter-widgets/controls",
      "model_module_version": "2.0.0",
      "model_name": "HTMLModel",
      "state": {
       "layout": "IPY_MODEL_a238589458104a15aaaf183ed05a6dd1",
       "style": "IPY_MODEL_3a487340a89e46b285f723591b71924d",
       "value": " 0/340 [00:00&lt;?, ?it/s]"
      }
     },
     "0cd17789a7da4e3b9409b9c5c1c2e9f5": {
      "model_module": "@jupyter-widgets/base",
      "model_module_version": "2.0.0",
      "model_name": "LayoutModel",
      "state": {
       "display": "inline-flex",
       "flex_flow": "row wrap",
       "width": "1000px"
      }
     },
     "0d28e48e7fda4479ad808920f688a6b0": {
      "model_module": "@jupyter-widgets/controls",
      "model_module_version": "2.0.0",
      "model_name": "HTMLStyleModel",
      "state": {
       "description_width": "",
       "font_size": null,
       "text_color": null
      }
     },
     "0fc1612bc01d45748459ef590b379f2a": {
      "model_module": "@jupyter-widgets/base",
      "model_module_version": "2.0.0",
      "model_name": "LayoutModel",
      "state": {
       "display": "inline-flex",
       "flex_flow": "row wrap",
       "width": "1000px"
      }
     },
     "1102b4cc81194e11a2009750784ce71e": {
      "model_module": "@jupyter-widgets/base",
      "model_module_version": "2.0.0",
      "model_name": "LayoutModel",
      "state": {}
     },
     "11c4042d7ead41c4a24e47a73ae6c930": {
      "model_module": "@jupyter-widgets/controls",
      "model_module_version": "2.0.0",
      "model_name": "ProgressStyleModel",
      "state": {
       "description_width": ""
      }
     },
     "1283de5cf85748d58dc8ea4c83457725": {
      "model_module": "@jupyter-widgets/base",
      "model_module_version": "2.0.0",
      "model_name": "LayoutModel",
      "state": {}
     },
     "13058727ec09439ba5b4a5180b533bfc": {
      "model_module": "@jupyter-widgets/controls",
      "model_module_version": "2.0.0",
      "model_name": "HBoxModel",
      "state": {
       "children": [
        "IPY_MODEL_63d7891bff4a43bf8d1e237972e2c418",
        "IPY_MODEL_df5ad05caf0c4f58aea1dc175d6286d9",
        "IPY_MODEL_f6f124287a134da9b916635be723f664"
       ],
       "layout": "IPY_MODEL_3204cf02248e40d0849b15a5205ed04d"
      }
     },
     "1376573c91144632803c4c65e0e32476": {
      "model_module": "@jupyter-widgets/base",
      "model_module_version": "2.0.0",
      "model_name": "LayoutModel",
      "state": {
       "display": "inline-flex",
       "flex_flow": "row wrap",
       "width": "1000px"
      }
     },
     "13b1fa0f48544851afae220f2ada8c90": {
      "model_module": "@jupyter-widgets/controls",
      "model_module_version": "2.0.0",
      "model_name": "HTMLModel",
      "state": {
       "layout": "IPY_MODEL_ae22859279ea4013a2d2c862fd2c0f8e",
       "style": "IPY_MODEL_fd1111e2f8a24e91a5148611099321ed",
       "value": "Epoch 2/10: 100%"
      }
     },
     "14ea8ab5362848f3a061f102c0a922a2": {
      "model_module": "@jupyter-widgets/base",
      "model_module_version": "2.0.0",
      "model_name": "LayoutModel",
      "state": {}
     },
     "1512fc3fbcaf406a89a715c851eccff5": {
      "model_module": "@jupyter-widgets/base",
      "model_module_version": "2.0.0",
      "model_name": "LayoutModel",
      "state": {}
     },
     "16a292f72f284c6f989551bf2de41232": {
      "model_module": "@jupyter-widgets/controls",
      "model_module_version": "2.0.0",
      "model_name": "FloatProgressModel",
      "state": {
       "bar_style": "danger",
       "layout": "IPY_MODEL_96fac9ca2c6b48cabda5f4941112c810",
       "max": 340,
       "style": "IPY_MODEL_05b23b71ab6a4a0cbf98a6da804858b2"
      }
     },
     "16ad8bca767d4b87a59280e113d48ee4": {
      "model_module": "@jupyter-widgets/controls",
      "model_module_version": "2.0.0",
      "model_name": "HBoxModel",
      "state": {
       "children": [
        "IPY_MODEL_6df09c180e4b455bba117f38b46d3688",
        "IPY_MODEL_8b50ce83379f4ce49f22d7cce78cf896",
        "IPY_MODEL_bfd208628e4845ed901ade407af4c74a"
       ],
       "layout": "IPY_MODEL_58e68ecefa0d468da699e2c329d6e1a5"
      }
     },
     "16f4aa4351694a74b7b12e3e4d47603c": {
      "model_module": "@jupyter-widgets/controls",
      "model_module_version": "2.0.0",
      "model_name": "HTMLStyleModel",
      "state": {
       "description_width": "",
       "font_size": null,
       "text_color": null
      }
     },
     "17150125503e441eb2f850517d31ce0e": {
      "model_module": "@jupyter-widgets/controls",
      "model_module_version": "2.0.0",
      "model_name": "HTMLModel",
      "state": {
       "layout": "IPY_MODEL_d2fa845acf1740a8a495bbdd083084f4",
       "style": "IPY_MODEL_6867722a9bd142b2b60852096cb711cd",
       "value": "Epoch 1/10: 100%"
      }
     },
     "171c1454d4ec4690ace7e78a8cc259c0": {
      "model_module": "@jupyter-widgets/controls",
      "model_module_version": "2.0.0",
      "model_name": "HBoxModel",
      "state": {
       "children": [
        "IPY_MODEL_3d3075a2aeb24bf9baa3725b796782b8",
        "IPY_MODEL_eb319083e31d4eb3829ccc46b0b63de2",
        "IPY_MODEL_582b0e017ef34a75a9c18e28a376ce69"
       ],
       "layout": "IPY_MODEL_0fc1612bc01d45748459ef590b379f2a"
      }
     },
     "18cc7e81b3644c4f9fee6a08032cba05": {
      "model_module": "@jupyter-widgets/base",
      "model_module_version": "2.0.0",
      "model_name": "LayoutModel",
      "state": {
       "flex": "2"
      }
     },
     "19d942009ec0410ca04e4e6d034b262a": {
      "model_module": "@jupyter-widgets/controls",
      "model_module_version": "2.0.0",
      "model_name": "HTMLModel",
      "state": {
       "layout": "IPY_MODEL_2fe76a2548034c4093f0b8a09db69db5",
       "style": "IPY_MODEL_aac734e4246448d0aa0707ba0aeadacf",
       "value": "Epoch 2/10: 100%"
      }
     },
     "1a08976f9e94478783b2939981062796": {
      "model_module": "@jupyter-widgets/controls",
      "model_module_version": "2.0.0",
      "model_name": "HTMLStyleModel",
      "state": {
       "description_width": "",
       "font_size": null,
       "text_color": null
      }
     },
     "1a82c45e7c374cdbbbaee37be5d7bc31": {
      "model_module": "@jupyter-widgets/base",
      "model_module_version": "2.0.0",
      "model_name": "LayoutModel",
      "state": {}
     },
     "1a9970cb7e4e4eb082f6a414e237cb0b": {
      "model_module": "@jupyter-widgets/base",
      "model_module_version": "2.0.0",
      "model_name": "LayoutModel",
      "state": {
       "flex": "2"
      }
     },
     "1b73c1f3ea844a32971471efb9321576": {
      "model_module": "@jupyter-widgets/controls",
      "model_module_version": "2.0.0",
      "model_name": "FloatProgressModel",
      "state": {
       "bar_style": "success",
       "layout": "IPY_MODEL_1a9970cb7e4e4eb082f6a414e237cb0b",
       "max": 340,
       "style": "IPY_MODEL_731e2835089948e7a14f324da2085284",
       "value": 340
      }
     },
     "1d52d91760a24640b2610dfa41eb81a7": {
      "model_module": "@jupyter-widgets/controls",
      "model_module_version": "2.0.0",
      "model_name": "FloatProgressModel",
      "state": {
       "bar_style": "success",
       "layout": "IPY_MODEL_a26dd6cdf39a4393a54650625f7aa408",
       "max": 340,
       "style": "IPY_MODEL_2761f420ec5241d399802c81f5e42a41",
       "value": 340
      }
     },
     "1e7bc964744a4b63bbe60d383d0b8238": {
      "model_module": "@jupyter-widgets/controls",
      "model_module_version": "2.0.0",
      "model_name": "HBoxModel",
      "state": {
       "children": [
        "IPY_MODEL_7535cf0bbad74765b61f1a2dd3edb652",
        "IPY_MODEL_6827dce565a6443091bff826d5630904",
        "IPY_MODEL_2817f4b5247f4f4fbec8f2a631183ee1"
       ],
       "layout": "IPY_MODEL_ece1136744804dd589427182737b3148"
      }
     },
     "1ed541d6bf284dee9044c26652959fa7": {
      "model_module": "@jupyter-widgets/base",
      "model_module_version": "2.0.0",
      "model_name": "LayoutModel",
      "state": {
       "display": "inline-flex",
       "flex_flow": "row wrap",
       "width": "1000px"
      }
     },
     "1f14e4d0fa8f49ae9edc51c97a7849f7": {
      "model_module": "@jupyter-widgets/base",
      "model_module_version": "2.0.0",
      "model_name": "LayoutModel",
      "state": {
       "display": "inline-flex",
       "flex_flow": "row wrap",
       "width": "1000px"
      }
     },
     "204ad081edd74b189eb78c1f6f38b35a": {
      "model_module": "@jupyter-widgets/base",
      "model_module_version": "2.0.0",
      "model_name": "LayoutModel",
      "state": {
       "display": "inline-flex",
       "flex_flow": "row wrap",
       "width": "1000px"
      }
     },
     "2064e348551c45f5b293274bb596e562": {
      "model_module": "@jupyter-widgets/controls",
      "model_module_version": "2.0.0",
      "model_name": "FloatProgressModel",
      "state": {
       "bar_style": "success",
       "layout": "IPY_MODEL_eca4948d432f4cd1b71469bc60e8570c",
       "max": 340,
       "style": "IPY_MODEL_92426adbf8544adf93d3320bc919da94",
       "value": 340
      }
     },
     "2115c310e12744c7b4930760852beb9e": {
      "model_module": "@jupyter-widgets/controls",
      "model_module_version": "2.0.0",
      "model_name": "HTMLStyleModel",
      "state": {
       "description_width": "",
       "font_size": null,
       "text_color": null
      }
     },
     "219120099feb4c6e86c46d6fa3df2b77": {
      "model_module": "@jupyter-widgets/controls",
      "model_module_version": "2.0.0",
      "model_name": "HBoxModel",
      "state": {
       "children": [
        "IPY_MODEL_3d4dc8dd71ed47e19100d96fb4dc7274",
        "IPY_MODEL_390399ea3d1743b8a8271b9b17f1b269",
        "IPY_MODEL_6636958524394de7bea0e5bade546106"
       ],
       "layout": "IPY_MODEL_db58386349a0478fbc5c6931ff5a3e12"
      }
     },
     "21b9e754abe6426fb0c180eed1feeae7": {
      "model_module": "@jupyter-widgets/base",
      "model_module_version": "2.0.0",
      "model_name": "LayoutModel",
      "state": {}
     },
     "22d39979b7824304a5c3882120f65344": {
      "model_module": "@jupyter-widgets/controls",
      "model_module_version": "2.0.0",
      "model_name": "FloatProgressModel",
      "state": {
       "bar_style": "success",
       "layout": "IPY_MODEL_8a87316f35af474d96cc05164d687ea0",
       "max": 340,
       "style": "IPY_MODEL_3e412725d94043f78b7312056dd1180a",
       "value": 340
      }
     },
     "24460832ec594274ae6aec5bd79862db": {
      "model_module": "@jupyter-widgets/controls",
      "model_module_version": "2.0.0",
      "model_name": "HTMLStyleModel",
      "state": {
       "description_width": "",
       "font_size": null,
       "text_color": null
      }
     },
     "24b156967e8c43d8ade7a52bca27637a": {
      "model_module": "@jupyter-widgets/controls",
      "model_module_version": "2.0.0",
      "model_name": "HTMLStyleModel",
      "state": {
       "description_width": "",
       "font_size": null,
       "text_color": null
      }
     },
     "266e2c71d5b44e5ca506b45b564bfa66": {
      "model_module": "@jupyter-widgets/base",
      "model_module_version": "2.0.0",
      "model_name": "LayoutModel",
      "state": {
       "display": "inline-flex",
       "flex_flow": "row wrap",
       "width": "1000px"
      }
     },
     "26e524a920284c3996e65165de73978b": {
      "model_module": "@jupyter-widgets/controls",
      "model_module_version": "2.0.0",
      "model_name": "HTMLStyleModel",
      "state": {
       "description_width": "",
       "font_size": null,
       "text_color": null
      }
     },
     "2730c7ab83e34d17b673629207824cca": {
      "model_module": "@jupyter-widgets/base",
      "model_module_version": "2.0.0",
      "model_name": "LayoutModel",
      "state": {}
     },
     "2761f420ec5241d399802c81f5e42a41": {
      "model_module": "@jupyter-widgets/controls",
      "model_module_version": "2.0.0",
      "model_name": "ProgressStyleModel",
      "state": {
       "description_width": ""
      }
     },
     "2817f4b5247f4f4fbec8f2a631183ee1": {
      "model_module": "@jupyter-widgets/controls",
      "model_module_version": "2.0.0",
      "model_name": "HTMLModel",
      "state": {
       "layout": "IPY_MODEL_1283de5cf85748d58dc8ea4c83457725",
       "style": "IPY_MODEL_a0dfb45af0d94c3891333bacafcc4e18",
       "value": " 340/340 [00:21&lt;00:00, 17.29it/s, loss=5.06]"
      }
     },
     "2856ac459b7b42768845ce4ca82e3860": {
      "model_module": "@jupyter-widgets/base",
      "model_module_version": "2.0.0",
      "model_name": "LayoutModel",
      "state": {}
     },
     "2983becd969f4d578efc49bd8790e61b": {
      "model_module": "@jupyter-widgets/controls",
      "model_module_version": "2.0.0",
      "model_name": "HBoxModel",
      "state": {
       "children": [
        "IPY_MODEL_2b79fa8ee907462687a47cd7a401a6e2",
        "IPY_MODEL_22d39979b7824304a5c3882120f65344",
        "IPY_MODEL_2d113464c03c469caccb532f0e4edef1"
       ],
       "layout": "IPY_MODEL_7d63eb8f38f14295af577eca152dbe88"
      }
     },
     "29bd0ec8981244389c641e3e441b3b04": {
      "model_module": "@jupyter-widgets/controls",
      "model_module_version": "2.0.0",
      "model_name": "HTMLStyleModel",
      "state": {
       "description_width": "",
       "font_size": null,
       "text_color": null
      }
     },
     "29d100fce4d24ea19f6c8a60b4736889": {
      "model_module": "@jupyter-widgets/base",
      "model_module_version": "2.0.0",
      "model_name": "LayoutModel",
      "state": {
       "display": "inline-flex",
       "flex_flow": "row wrap",
       "width": "1000px"
      }
     },
     "2ae2edd3fdff45dcb9554ed353b664b2": {
      "model_module": "@jupyter-widgets/controls",
      "model_module_version": "2.0.0",
      "model_name": "HTMLStyleModel",
      "state": {
       "description_width": "",
       "font_size": null,
       "text_color": null
      }
     },
     "2afb96f03f104c9da29fdf222c69bcaf": {
      "model_module": "@jupyter-widgets/controls",
      "model_module_version": "2.0.0",
      "model_name": "ProgressStyleModel",
      "state": {
       "description_width": ""
      }
     },
     "2b620a0cdac54edf81653ce166fcaaab": {
      "model_module": "@jupyter-widgets/base",
      "model_module_version": "2.0.0",
      "model_name": "LayoutModel",
      "state": {
       "flex": "2"
      }
     },
     "2b79fa8ee907462687a47cd7a401a6e2": {
      "model_module": "@jupyter-widgets/controls",
      "model_module_version": "2.0.0",
      "model_name": "HTMLModel",
      "state": {
       "layout": "IPY_MODEL_6554e886497545ecb50e60c09578da52",
       "style": "IPY_MODEL_29bd0ec8981244389c641e3e441b3b04",
       "value": "Epoch 6/10: 100%"
      }
     },
     "2b83dcc6530c4701b5317bd1a030a5a6": {
      "model_module": "@jupyter-widgets/controls",
      "model_module_version": "2.0.0",
      "model_name": "HTMLModel",
      "state": {
       "layout": "IPY_MODEL_8c9b24d5bc10444a96deee82d51e8110",
       "style": "IPY_MODEL_62f9893a73074969aaa6e2784286ba19",
       "value": " 340/340 [00:25&lt;00:00, 14.17it/s, loss=0.845]"
      }
     },
     "2c4886c3dd6445308e6174687cc44546": {
      "model_module": "@jupyter-widgets/controls",
      "model_module_version": "2.0.0",
      "model_name": "ProgressStyleModel",
      "state": {
       "description_width": ""
      }
     },
     "2c72f30297b44fb6a44101fd36974466": {
      "model_module": "@jupyter-widgets/controls",
      "model_module_version": "2.0.0",
      "model_name": "HTMLModel",
      "state": {
       "layout": "IPY_MODEL_82e092d9f8b542e4aac530ee6d26d68f",
       "style": "IPY_MODEL_d6d0199beb0c4842bb9f29bc0354f158",
       "value": "Epoch 3/10: 100%"
      }
     },
     "2cfb326a99ea416c8c9384b0a3628fe1": {
      "model_module": "@jupyter-widgets/controls",
      "model_module_version": "2.0.0",
      "model_name": "HTMLStyleModel",
      "state": {
       "description_width": "",
       "font_size": null,
       "text_color": null
      }
     },
     "2d113464c03c469caccb532f0e4edef1": {
      "model_module": "@jupyter-widgets/controls",
      "model_module_version": "2.0.0",
      "model_name": "HTMLModel",
      "state": {
       "layout": "IPY_MODEL_e5828fa02b9d47d5a723a7428eae1330",
       "style": "IPY_MODEL_b64754f8e7bb40d591af49bec9a64901",
       "value": " 340/340 [00:22&lt;00:00, 15.57it/s, loss=1.61]"
      }
     },
     "2d28ce7d2b9e49fcb664aec7e6ac0a6c": {
      "model_module": "@jupyter-widgets/controls",
      "model_module_version": "2.0.0",
      "model_name": "FloatProgressModel",
      "state": {
       "bar_style": "danger",
       "layout": "IPY_MODEL_a7d82c2b04e54e998b79513455eb4c5a",
       "max": 340,
       "style": "IPY_MODEL_4e6c1e9deb6a4bb4b0095df6ec110641"
      }
     },
     "2d8eb8deddc844f79eca4f02862e36ff": {
      "model_module": "@jupyter-widgets/base",
      "model_module_version": "2.0.0",
      "model_name": "LayoutModel",
      "state": {
       "display": "inline-flex",
       "flex_flow": "row wrap",
       "width": "1000px"
      }
     },
     "2d98aa9df17b402693ed758a00597a97": {
      "model_module": "@jupyter-widgets/controls",
      "model_module_version": "2.0.0",
      "model_name": "HTMLStyleModel",
      "state": {
       "description_width": "",
       "font_size": null,
       "text_color": null
      }
     },
     "2e3f5864da1b4430bb9e79ef16021415": {
      "model_module": "@jupyter-widgets/controls",
      "model_module_version": "2.0.0",
      "model_name": "HTMLModel",
      "state": {
       "layout": "IPY_MODEL_fac49d89b0024c78a8db6e9e0e6f825a",
       "style": "IPY_MODEL_6d990efaf6494daa8cc58b84395bca31",
       "value": " 340/340 [00:23&lt;00:00, 14.53it/s, loss=3.1]"
      }
     },
     "2e4eaa6fd6c74d42890590081786fc9c": {
      "model_module": "@jupyter-widgets/base",
      "model_module_version": "2.0.0",
      "model_name": "LayoutModel",
      "state": {
       "flex": "2"
      }
     },
     "2e96dc26c4e447fea97c8166b276bc8f": {
      "model_module": "@jupyter-widgets/base",
      "model_module_version": "2.0.0",
      "model_name": "LayoutModel",
      "state": {}
     },
     "2f66392522bc4eb298cefe4fbc47d16d": {
      "model_module": "@jupyter-widgets/base",
      "model_module_version": "2.0.0",
      "model_name": "LayoutModel",
      "state": {}
     },
     "2fe76a2548034c4093f0b8a09db69db5": {
      "model_module": "@jupyter-widgets/base",
      "model_module_version": "2.0.0",
      "model_name": "LayoutModel",
      "state": {}
     },
     "30237642949b447eb46a02230507a375": {
      "model_module": "@jupyter-widgets/controls",
      "model_module_version": "2.0.0",
      "model_name": "FloatProgressModel",
      "state": {
       "bar_style": "success",
       "layout": "IPY_MODEL_d024fe48c61a454d8403f3e5ad5ed38d",
       "max": 340,
       "style": "IPY_MODEL_8eeb6da5d3e44806b4c3ca8fdea8e24f",
       "value": 340
      }
     },
     "305af02ff79a4b5892dbbb46ab6b3377": {
      "model_module": "@jupyter-widgets/base",
      "model_module_version": "2.0.0",
      "model_name": "LayoutModel",
      "state": {
       "display": "inline-flex",
       "flex_flow": "row wrap",
       "width": "1000px"
      }
     },
     "30a0822b782f4410991fa7de2eb2f11d": {
      "model_module": "@jupyter-widgets/controls",
      "model_module_version": "2.0.0",
      "model_name": "ProgressStyleModel",
      "state": {
       "description_width": ""
      }
     },
     "31bc6f2b47a849088e2e06b530f70c34": {
      "model_module": "@jupyter-widgets/base",
      "model_module_version": "2.0.0",
      "model_name": "LayoutModel",
      "state": {
       "flex": "2"
      }
     },
     "31e934a7fb7e4ffa8b4be2a3755d860e": {
      "model_module": "@jupyter-widgets/controls",
      "model_module_version": "2.0.0",
      "model_name": "HBoxModel",
      "state": {
       "children": [
        "IPY_MODEL_4f394d9588d1446f8fdde81aa4dde034",
        "IPY_MODEL_7a5624a7311d46e283e901975f5bc892",
        "IPY_MODEL_40ae611580b7467eb1768be2abfc5cbd"
       ],
       "layout": "IPY_MODEL_aaf40e0f12c84ecda8d2502d4d07bec1"
      }
     },
     "3204cf02248e40d0849b15a5205ed04d": {
      "model_module": "@jupyter-widgets/base",
      "model_module_version": "2.0.0",
      "model_name": "LayoutModel",
      "state": {
       "display": "inline-flex",
       "flex_flow": "row wrap",
       "width": "1000px"
      }
     },
     "325884b035bb49b29224777e08fc46b5": {
      "model_module": "@jupyter-widgets/controls",
      "model_module_version": "2.0.0",
      "model_name": "HBoxModel",
      "state": {
       "children": [
        "IPY_MODEL_9d5b75ae18d945bca03395a1ada1dad7",
        "IPY_MODEL_5cd85826adbe42d9ad61bb239b19b9be",
        "IPY_MODEL_b76c5ac5aee043e3bdcfbf4f7cc565e9"
       ],
       "layout": "IPY_MODEL_305af02ff79a4b5892dbbb46ab6b3377"
      }
     },
     "34dec96b818d4499b1119a1cf163216b": {
      "model_module": "@jupyter-widgets/controls",
      "model_module_version": "2.0.0",
      "model_name": "HTMLStyleModel",
      "state": {
       "description_width": "",
       "font_size": null,
       "text_color": null
      }
     },
     "36dcd285eb9043cf8fffe298ef0f9313": {
      "model_module": "@jupyter-widgets/controls",
      "model_module_version": "2.0.0",
      "model_name": "HTMLStyleModel",
      "state": {
       "description_width": "",
       "font_size": null,
       "text_color": null
      }
     },
     "387e4b84ac404bd3ba0963fd98e8c050": {
      "model_module": "@jupyter-widgets/controls",
      "model_module_version": "2.0.0",
      "model_name": "HTMLStyleModel",
      "state": {
       "description_width": "",
       "font_size": null,
       "text_color": null
      }
     },
     "38f4d2320d9142158d0ab2619f677e66": {
      "model_module": "@jupyter-widgets/base",
      "model_module_version": "2.0.0",
      "model_name": "LayoutModel",
      "state": {}
     },
     "390399ea3d1743b8a8271b9b17f1b269": {
      "model_module": "@jupyter-widgets/controls",
      "model_module_version": "2.0.0",
      "model_name": "FloatProgressModel",
      "state": {
       "bar_style": "success",
       "layout": "IPY_MODEL_8b6adaff9b764dea8a1467d638e7b45e",
       "max": 340,
       "style": "IPY_MODEL_6bc9a94967b0447ca678b9a000b88400",
       "value": 340
      }
     },
     "392f5393ab5b4316b7fd0ee73ee5b4fe": {
      "model_module": "@jupyter-widgets/controls",
      "model_module_version": "2.0.0",
      "model_name": "HTMLStyleModel",
      "state": {
       "description_width": "",
       "font_size": null,
       "text_color": null
      }
     },
     "3a14565c19e64c6f814fdc2e4c45c043": {
      "model_module": "@jupyter-widgets/base",
      "model_module_version": "2.0.0",
      "model_name": "LayoutModel",
      "state": {
       "display": "inline-flex",
       "flex_flow": "row wrap",
       "width": "1000px"
      }
     },
     "3a487340a89e46b285f723591b71924d": {
      "model_module": "@jupyter-widgets/controls",
      "model_module_version": "2.0.0",
      "model_name": "HTMLStyleModel",
      "state": {
       "description_width": "",
       "font_size": null,
       "text_color": null
      }
     },
     "3ac9619f1b2f4ebea8b2b97a83141922": {
      "model_module": "@jupyter-widgets/controls",
      "model_module_version": "2.0.0",
      "model_name": "HTMLModel",
      "state": {
       "layout": "IPY_MODEL_fc71d67aded54a3fb90ab6c52e50eeaa",
       "style": "IPY_MODEL_58afe6e09b1e45b2a6e81c5db44899ce",
       "value": " 340/340 [00:21&lt;00:00, 15.87it/s, loss=3.66]"
      }
     },
     "3add56acf71b4b33be32c0e6ff5df9f7": {
      "model_module": "@jupyter-widgets/controls",
      "model_module_version": "2.0.0",
      "model_name": "HTMLStyleModel",
      "state": {
       "description_width": "",
       "font_size": null,
       "text_color": null
      }
     },
     "3b709eeac0494bb599d13d7ab67c9689": {
      "model_module": "@jupyter-widgets/controls",
      "model_module_version": "2.0.0",
      "model_name": "HBoxModel",
      "state": {
       "children": [
        "IPY_MODEL_fafd47a773494cdf9212deda59d04d1e",
        "IPY_MODEL_4b3f1221e3584300a6820bf9bebf4ebe",
        "IPY_MODEL_9037a6dfce3043b096904ec50f4adb47"
       ],
       "layout": "IPY_MODEL_0647d20b5b3a4c5b8ca95147ce688fb8"
      }
     },
     "3bdb0c92580f4d05a9bdc1bdb2e3917c": {
      "model_module": "@jupyter-widgets/base",
      "model_module_version": "2.0.0",
      "model_name": "LayoutModel",
      "state": {}
     },
     "3c16d92d2ac84586a16178813827dab6": {
      "model_module": "@jupyter-widgets/controls",
      "model_module_version": "2.0.0",
      "model_name": "HBoxModel",
      "state": {
       "children": [
        "IPY_MODEL_5edef9d7156846d09e78b05cd49516bd",
        "IPY_MODEL_508a45090ab34b9fa825e952658fd454",
        "IPY_MODEL_806a78173eae49d2874660387b9d7803"
       ],
       "layout": "IPY_MODEL_fa34c74928ae40afbcd43ca3f4362f1f"
      }
     },
     "3d3075a2aeb24bf9baa3725b796782b8": {
      "model_module": "@jupyter-widgets/controls",
      "model_module_version": "2.0.0",
      "model_name": "HTMLModel",
      "state": {
       "layout": "IPY_MODEL_0bbd97cceca44f12a58cb160fdce273f",
       "style": "IPY_MODEL_4141954918da47c1970055558b61d3d4",
       "value": "Epoch 1/10:   0%"
      }
     },
     "3d4dc8dd71ed47e19100d96fb4dc7274": {
      "model_module": "@jupyter-widgets/controls",
      "model_module_version": "2.0.0",
      "model_name": "HTMLModel",
      "state": {
       "layout": "IPY_MODEL_2f66392522bc4eb298cefe4fbc47d16d",
       "style": "IPY_MODEL_b35db8ed23ca4717a75def2d28ac6a7e",
       "value": "Epoch 4/10: 100%"
      }
     },
     "3def1efd7e6947979642122affb5d00a": {
      "model_module": "@jupyter-widgets/controls",
      "model_module_version": "2.0.0",
      "model_name": "FloatProgressModel",
      "state": {
       "bar_style": "danger",
       "layout": "IPY_MODEL_31bc6f2b47a849088e2e06b530f70c34",
       "max": 340,
       "style": "IPY_MODEL_f68b6dc1f94544529f6cbf73aa993835"
      }
     },
     "3e412725d94043f78b7312056dd1180a": {
      "model_module": "@jupyter-widgets/controls",
      "model_module_version": "2.0.0",
      "model_name": "ProgressStyleModel",
      "state": {
       "description_width": ""
      }
     },
     "3e69c41160fd4505944970161e2da321": {
      "model_module": "@jupyter-widgets/controls",
      "model_module_version": "2.0.0",
      "model_name": "HTMLModel",
      "state": {
       "layout": "IPY_MODEL_fe136a340a0f431683bcaa4f6ea92deb",
       "style": "IPY_MODEL_cbc6af359f9446a3b74e7075804f2cd9",
       "value": "Epoch 7/10: 100%"
      }
     },
     "3ef46a15627c4d39a0d38c398bb1f4e9": {
      "model_module": "@jupyter-widgets/base",
      "model_module_version": "2.0.0",
      "model_name": "LayoutModel",
      "state": {
       "flex": "2"
      }
     },
     "3f9c6df17e924780ad50406ab27b5051": {
      "model_module": "@jupyter-widgets/base",
      "model_module_version": "2.0.0",
      "model_name": "LayoutModel",
      "state": {
       "flex": "2"
      }
     },
     "40ae611580b7467eb1768be2abfc5cbd": {
      "model_module": "@jupyter-widgets/controls",
      "model_module_version": "2.0.0",
      "model_name": "HTMLModel",
      "state": {
       "layout": "IPY_MODEL_9d53d58c4f874fe29aaa073eb5d2ffbf",
       "style": "IPY_MODEL_509ef5ee61f241619c723d441ab772ca",
       "value": " 340/340 [00:22&lt;00:00, 16.12it/s, loss=4.68]"
      }
     },
     "4141954918da47c1970055558b61d3d4": {
      "model_module": "@jupyter-widgets/controls",
      "model_module_version": "2.0.0",
      "model_name": "HTMLStyleModel",
      "state": {
       "description_width": "",
       "font_size": null,
       "text_color": null
      }
     },
     "43f7cd5100b44bc68aea5d2046e99893": {
      "model_module": "@jupyter-widgets/controls",
      "model_module_version": "2.0.0",
      "model_name": "HBoxModel",
      "state": {
       "children": [
        "IPY_MODEL_ed159421022241a39613be83a91ac2fb",
        "IPY_MODEL_ce31c308869b4c3485c9aa30275ccee7",
        "IPY_MODEL_e7efee8210bf49019d2c0d1c034f3505"
       ],
       "layout": "IPY_MODEL_2d8eb8deddc844f79eca4f02862e36ff"
      }
     },
     "447128e74bec47d8b986a50ea312f585": {
      "model_module": "@jupyter-widgets/base",
      "model_module_version": "2.0.0",
      "model_name": "LayoutModel",
      "state": {
       "display": "inline-flex",
       "flex_flow": "row wrap",
       "width": "1000px"
      }
     },
     "454c03073a714d1884c7b1b4c0c1ecad": {
      "model_module": "@jupyter-widgets/controls",
      "model_module_version": "2.0.0",
      "model_name": "HTMLStyleModel",
      "state": {
       "description_width": "",
       "font_size": null,
       "text_color": null
      }
     },
     "45ac1479a6fc449a828ef0eda52c1afb": {
      "model_module": "@jupyter-widgets/base",
      "model_module_version": "2.0.0",
      "model_name": "LayoutModel",
      "state": {}
     },
     "46266e44ab57431abfbc4d37ca9a018b": {
      "model_module": "@jupyter-widgets/base",
      "model_module_version": "2.0.0",
      "model_name": "LayoutModel",
      "state": {
       "flex": "2"
      }
     },
     "47e3ab0e64734de88ed36ad9b03eb36b": {
      "model_module": "@jupyter-widgets/controls",
      "model_module_version": "2.0.0",
      "model_name": "HTMLModel",
      "state": {
       "layout": "IPY_MODEL_6a3307dc7b974a2690549f8c18316147",
       "style": "IPY_MODEL_2cfb326a99ea416c8c9384b0a3628fe1",
       "value": " 340/340 [00:22&lt;00:00, 16.54it/s, loss=1.13]"
      }
     },
     "489d8c03c815401fa47324272a4aa9b6": {
      "model_module": "@jupyter-widgets/base",
      "model_module_version": "2.0.0",
      "model_name": "LayoutModel",
      "state": {
       "display": "inline-flex",
       "flex_flow": "row wrap",
       "width": "1000px"
      }
     },
     "48dc7596c31848ca894e7946c01c734c": {
      "model_module": "@jupyter-widgets/base",
      "model_module_version": "2.0.0",
      "model_name": "LayoutModel",
      "state": {}
     },
     "490321a031bf45ea88a3cbd3de69e23c": {
      "model_module": "@jupyter-widgets/controls",
      "model_module_version": "2.0.0",
      "model_name": "HTMLStyleModel",
      "state": {
       "description_width": "",
       "font_size": null,
       "text_color": null
      }
     },
     "49597355145046c087f26d999fbef2d9": {
      "model_module": "@jupyter-widgets/base",
      "model_module_version": "2.0.0",
      "model_name": "LayoutModel",
      "state": {}
     },
     "4997c814e0794de0beff94c530d9b0ee": {
      "model_module": "@jupyter-widgets/controls",
      "model_module_version": "2.0.0",
      "model_name": "HTMLStyleModel",
      "state": {
       "description_width": "",
       "font_size": null,
       "text_color": null
      }
     },
     "4a35e641142f4728bb6f6919110d37cd": {
      "model_module": "@jupyter-widgets/base",
      "model_module_version": "2.0.0",
      "model_name": "LayoutModel",
      "state": {
       "flex": "2"
      }
     },
     "4a82896e04e34c72907c9be4bd1e9794": {
      "model_module": "@jupyter-widgets/controls",
      "model_module_version": "2.0.0",
      "model_name": "HTMLModel",
      "state": {
       "layout": "IPY_MODEL_584d03614c384594ad3d386f0f82bf1b",
       "style": "IPY_MODEL_c41e94519a4846b782dd5b85812db16c",
       "value": "Epoch 2/10: 100%"
      }
     },
     "4b3f1221e3584300a6820bf9bebf4ebe": {
      "model_module": "@jupyter-widgets/controls",
      "model_module_version": "2.0.0",
      "model_name": "FloatProgressModel",
      "state": {
       "bar_style": "success",
       "layout": "IPY_MODEL_3f9c6df17e924780ad50406ab27b5051",
       "max": 340,
       "style": "IPY_MODEL_681523aea7d045adb4da52a81efc9061",
       "value": 340
      }
     },
     "4cc602c2be4e457ca05a008e74196850": {
      "model_module": "@jupyter-widgets/base",
      "model_module_version": "2.0.0",
      "model_name": "LayoutModel",
      "state": {}
     },
     "4e192faeaa6f493aaf844e2e65251809": {
      "model_module": "@jupyter-widgets/controls",
      "model_module_version": "2.0.0",
      "model_name": "HTMLModel",
      "state": {
       "layout": "IPY_MODEL_d63a64e16aab4cb197d92aea02e004ef",
       "style": "IPY_MODEL_34dec96b818d4499b1119a1cf163216b",
       "value": "Epoch 8/10: 100%"
      }
     },
     "4e23980b2d344f8895c80708edcb2d27": {
      "model_module": "@jupyter-widgets/controls",
      "model_module_version": "2.0.0",
      "model_name": "FloatProgressModel",
      "state": {
       "bar_style": "danger",
       "layout": "IPY_MODEL_c6bc10e59dd5434ba9583fdbb75a90ef",
       "max": 340,
       "style": "IPY_MODEL_7ad1202f39084411bb772d7d19d5cf20"
      }
     },
     "4e6c1e9deb6a4bb4b0095df6ec110641": {
      "model_module": "@jupyter-widgets/controls",
      "model_module_version": "2.0.0",
      "model_name": "ProgressStyleModel",
      "state": {
       "description_width": ""
      }
     },
     "4f394d9588d1446f8fdde81aa4dde034": {
      "model_module": "@jupyter-widgets/controls",
      "model_module_version": "2.0.0",
      "model_name": "HTMLModel",
      "state": {
       "layout": "IPY_MODEL_8bed5bb3071b48d09ef54feb938a048d",
       "style": "IPY_MODEL_c8c0530fd53e406092abcffd0f7709a7",
       "value": "Epoch 5/10: 100%"
      }
     },
     "4f7f3de5a6cf42939120b65684bbc0ee": {
      "model_module": "@jupyter-widgets/controls",
      "model_module_version": "2.0.0",
      "model_name": "HBoxModel",
      "state": {
       "children": [
        "IPY_MODEL_b54914a92c5c402798ba91df65355d68",
        "IPY_MODEL_cc9b32918e6c4db784b6cf84eeac5657",
        "IPY_MODEL_7fbee6b1ef9b4106b84aea2ac09a4421"
       ],
       "layout": "IPY_MODEL_d766670d60fd435197c395bae87f06d6"
      }
     },
     "506c8bce2d3149978fb4888facbfaa9f": {
      "model_module": "@jupyter-widgets/base",
      "model_module_version": "2.0.0",
      "model_name": "LayoutModel",
      "state": {
       "flex": "2"
      }
     },
     "508a45090ab34b9fa825e952658fd454": {
      "model_module": "@jupyter-widgets/controls",
      "model_module_version": "2.0.0",
      "model_name": "FloatProgressModel",
      "state": {
       "bar_style": "success",
       "layout": "IPY_MODEL_506c8bce2d3149978fb4888facbfaa9f",
       "max": 340,
       "style": "IPY_MODEL_2c4886c3dd6445308e6174687cc44546",
       "value": 340
      }
     },
     "509ef5ee61f241619c723d441ab772ca": {
      "model_module": "@jupyter-widgets/controls",
      "model_module_version": "2.0.0",
      "model_name": "HTMLStyleModel",
      "state": {
       "description_width": "",
       "font_size": null,
       "text_color": null
      }
     },
     "50c472589ae34c138c83f830fd2c9ad2": {
      "model_module": "@jupyter-widgets/controls",
      "model_module_version": "2.0.0",
      "model_name": "ProgressStyleModel",
      "state": {
       "description_width": ""
      }
     },
     "51144843949f44afb33362b1c5a32aab": {
      "model_module": "@jupyter-widgets/base",
      "model_module_version": "2.0.0",
      "model_name": "LayoutModel",
      "state": {
       "display": "inline-flex",
       "flex_flow": "row wrap",
       "width": "1000px"
      }
     },
     "513c3d67bae34b49bbcb4f3ec9bbbfbc": {
      "model_module": "@jupyter-widgets/controls",
      "model_module_version": "2.0.0",
      "model_name": "HBoxModel",
      "state": {
       "children": [
        "IPY_MODEL_a99c4768978c4475ab11cae7e48ec421",
        "IPY_MODEL_1b73c1f3ea844a32971471efb9321576",
        "IPY_MODEL_57eaad4771a24acf951cdc4f87b51a80"
       ],
       "layout": "IPY_MODEL_acacda64696d48eb81ca0a973d2d2ebc"
      }
     },
     "516babda9621446a9c24983eb0037ad3": {
      "model_module": "@jupyter-widgets/base",
      "model_module_version": "2.0.0",
      "model_name": "LayoutModel",
      "state": {}
     },
     "5191c84b004d4f4ebbe67e77080971eb": {
      "model_module": "@jupyter-widgets/controls",
      "model_module_version": "2.0.0",
      "model_name": "HTMLModel",
      "state": {
       "layout": "IPY_MODEL_08bc98b7bc5b42e08d124e2969d9c664",
       "style": "IPY_MODEL_454c03073a714d1884c7b1b4c0c1ecad",
       "value": " 0/340 [00:00&lt;?, ?it/s]"
      }
     },
     "5347eba762d843a097941b15fdc08180": {
      "model_module": "@jupyter-widgets/controls",
      "model_module_version": "2.0.0",
      "model_name": "HTMLModel",
      "state": {
       "layout": "IPY_MODEL_95de04d5ef6845c5b1f204cca1524903",
       "style": "IPY_MODEL_26e524a920284c3996e65165de73978b",
       "value": "Epoch 5/10: 100%"
      }
     },
     "5354c331dc00438d9978ddca23c5bb22": {
      "model_module": "@jupyter-widgets/controls",
      "model_module_version": "2.0.0",
      "model_name": "ProgressStyleModel",
      "state": {
       "description_width": ""
      }
     },
     "5399395900504e728cb1f153d55aa09a": {
      "model_module": "@jupyter-widgets/controls",
      "model_module_version": "2.0.0",
      "model_name": "HTMLModel",
      "state": {
       "layout": "IPY_MODEL_2856ac459b7b42768845ce4ca82e3860",
       "style": "IPY_MODEL_8a9777c3cc304c409132ed084da7f521",
       "value": " 340/340 [00:21&lt;00:00, 13.85it/s, loss=0.638]"
      }
     },
     "5552abe8fa854511a2a940aded9132c7": {
      "model_module": "@jupyter-widgets/base",
      "model_module_version": "2.0.0",
      "model_name": "LayoutModel",
      "state": {
       "display": "inline-flex",
       "flex_flow": "row wrap",
       "width": "1000px"
      }
     },
     "5558d68580c1452698991cc424b43104": {
      "model_module": "@jupyter-widgets/controls",
      "model_module_version": "2.0.0",
      "model_name": "HBoxModel",
      "state": {
       "children": [
        "IPY_MODEL_86581717242c4ccb9d676b250ce5e0be",
        "IPY_MODEL_2d28ce7d2b9e49fcb664aec7e6ac0a6c",
        "IPY_MODEL_ad188dd417624d68ac45e33264223f08"
       ],
       "layout": "IPY_MODEL_590ff305a8c04af9a411e41b36da12d2"
      }
     },
     "5714380c792a4bf8b11b6be664cbf360": {
      "model_module": "@jupyter-widgets/controls",
      "model_module_version": "2.0.0",
      "model_name": "HTMLStyleModel",
      "state": {
       "description_width": "",
       "font_size": null,
       "text_color": null
      }
     },
     "579aab2cc86340d4b832e0757e0aa380": {
      "model_module": "@jupyter-widgets/controls",
      "model_module_version": "2.0.0",
      "model_name": "HTMLStyleModel",
      "state": {
       "description_width": "",
       "font_size": null,
       "text_color": null
      }
     },
     "57eaad4771a24acf951cdc4f87b51a80": {
      "model_module": "@jupyter-widgets/controls",
      "model_module_version": "2.0.0",
      "model_name": "HTMLModel",
      "state": {
       "layout": "IPY_MODEL_70635618e9314107b9fe31d12c3e39bb",
       "style": "IPY_MODEL_d5a800bf70e14e1ba8404e55b7336fd6",
       "value": " 340/340 [00:23&lt;00:00, 15.77it/s, loss=3.08]"
      }
     },
     "582b0e017ef34a75a9c18e28a376ce69": {
      "model_module": "@jupyter-widgets/controls",
      "model_module_version": "2.0.0",
      "model_name": "HTMLModel",
      "state": {
       "layout": "IPY_MODEL_6e84b64161e34255a6ab6e67b48d281d",
       "style": "IPY_MODEL_5d8dd412978a4e63baeb48242b419cf9",
       "value": " 0/340 [00:00&lt;?, ?it/s]"
      }
     },
     "584d03614c384594ad3d386f0f82bf1b": {
      "model_module": "@jupyter-widgets/base",
      "model_module_version": "2.0.0",
      "model_name": "LayoutModel",
      "state": {}
     },
     "5885547df47a46ebbcabf94118260355": {
      "model_module": "@jupyter-widgets/controls",
      "model_module_version": "2.0.0",
      "model_name": "HTMLModel",
      "state": {
       "layout": "IPY_MODEL_516babda9621446a9c24983eb0037ad3",
       "style": "IPY_MODEL_0157e35678df4f8b829ac017b1494472",
       "value": "Epoch 6/10:  69%"
      }
     },
     "589e16d0f096449dbc38346e17855667": {
      "model_module": "@jupyter-widgets/controls",
      "model_module_version": "2.0.0",
      "model_name": "FloatProgressModel",
      "state": {
       "bar_style": "danger",
       "layout": "IPY_MODEL_ad93cde36a7a45a7b0b45316d43abdae",
       "max": 340,
       "style": "IPY_MODEL_30a0822b782f4410991fa7de2eb2f11d"
      }
     },
     "58afe6e09b1e45b2a6e81c5db44899ce": {
      "model_module": "@jupyter-widgets/controls",
      "model_module_version": "2.0.0",
      "model_name": "HTMLStyleModel",
      "state": {
       "description_width": "",
       "font_size": null,
       "text_color": null
      }
     },
     "58e68ecefa0d468da699e2c329d6e1a5": {
      "model_module": "@jupyter-widgets/base",
      "model_module_version": "2.0.0",
      "model_name": "LayoutModel",
      "state": {
       "display": "inline-flex",
       "flex_flow": "row wrap",
       "width": "1000px"
      }
     },
     "590ff305a8c04af9a411e41b36da12d2": {
      "model_module": "@jupyter-widgets/base",
      "model_module_version": "2.0.0",
      "model_name": "LayoutModel",
      "state": {
       "display": "inline-flex",
       "flex_flow": "row wrap",
       "width": "1000px"
      }
     },
     "59c5cd0ed4ff4e11be3a35224f627b88": {
      "model_module": "@jupyter-widgets/controls",
      "model_module_version": "2.0.0",
      "model_name": "FloatProgressModel",
      "state": {
       "bar_style": "success",
       "layout": "IPY_MODEL_9fce8c588a004c34afa8cc6a4920116a",
       "max": 340,
       "style": "IPY_MODEL_2afb96f03f104c9da29fdf222c69bcaf",
       "value": 340
      }
     },
     "5a35919e6a604bd2965664c8a362b6fa": {
      "model_module": "@jupyter-widgets/base",
      "model_module_version": "2.0.0",
      "model_name": "LayoutModel",
      "state": {
       "flex": "2"
      }
     },
     "5a49bc5e336d4671a081bfece48b1e87": {
      "model_module": "@jupyter-widgets/base",
      "model_module_version": "2.0.0",
      "model_name": "LayoutModel",
      "state": {
       "display": "inline-flex",
       "flex_flow": "row wrap",
       "width": "1000px"
      }
     },
     "5b428e7a251b41eba8ae3ca1fea1c8f4": {
      "model_module": "@jupyter-widgets/controls",
      "model_module_version": "2.0.0",
      "model_name": "HTMLModel",
      "state": {
       "layout": "IPY_MODEL_80b5d755604841b9aa64fca9b7adb4e0",
       "style": "IPY_MODEL_24460832ec594274ae6aec5bd79862db",
       "value": " 340/340 [00:22&lt;00:00, 15.71it/s, loss=3.06]"
      }
     },
     "5c2d84a0c9ee4214b6f09f4d7fafd101": {
      "model_module": "@jupyter-widgets/controls",
      "model_module_version": "2.0.0",
      "model_name": "ProgressStyleModel",
      "state": {
       "description_width": ""
      }
     },
     "5c8560a1a8f3440f93b7b47849e0677c": {
      "model_module": "@jupyter-widgets/controls",
      "model_module_version": "2.0.0",
      "model_name": "HTMLModel",
      "state": {
       "layout": "IPY_MODEL_72080822c11c4a789a29b93d94ff67ea",
       "style": "IPY_MODEL_dcb1c6cf68824dce89db0813d138380d",
       "value": " 340/340 [00:24&lt;00:00, 13.89it/s, loss=0.0196]"
      }
     },
     "5c884827aca2461f9537cdfe5f6081f7": {
      "model_module": "@jupyter-widgets/base",
      "model_module_version": "2.0.0",
      "model_name": "LayoutModel",
      "state": {}
     },
     "5cced1be70884049b36a9c4fdd59cd3c": {
      "model_module": "@jupyter-widgets/controls",
      "model_module_version": "2.0.0",
      "model_name": "FloatProgressModel",
      "state": {
       "bar_style": "success",
       "layout": "IPY_MODEL_46266e44ab57431abfbc4d37ca9a018b",
       "max": 340,
       "style": "IPY_MODEL_c8b8a6adcd774bc394d4eb454689c5e8",
       "value": 340
      }
     },
     "5cd85826adbe42d9ad61bb239b19b9be": {
      "model_module": "@jupyter-widgets/controls",
      "model_module_version": "2.0.0",
      "model_name": "FloatProgressModel",
      "state": {
       "bar_style": "success",
       "layout": "IPY_MODEL_95215bdca9f14ff996ac6b44853d84d3",
       "max": 340,
       "style": "IPY_MODEL_06b11cfb05bf4e40852db9ec051504bb",
       "value": 340
      }
     },
     "5d8dd412978a4e63baeb48242b419cf9": {
      "model_module": "@jupyter-widgets/controls",
      "model_module_version": "2.0.0",
      "model_name": "HTMLStyleModel",
      "state": {
       "description_width": "",
       "font_size": null,
       "text_color": null
      }
     },
     "5ecac11d00ef4fbb9b0978ccf0798331": {
      "model_module": "@jupyter-widgets/base",
      "model_module_version": "2.0.0",
      "model_name": "LayoutModel",
      "state": {
       "display": "inline-flex",
       "flex_flow": "row wrap",
       "width": "1000px"
      }
     },
     "5edef9d7156846d09e78b05cd49516bd": {
      "model_module": "@jupyter-widgets/controls",
      "model_module_version": "2.0.0",
      "model_name": "HTMLModel",
      "state": {
       "layout": "IPY_MODEL_48dc7596c31848ca894e7946c01c734c",
       "style": "IPY_MODEL_579aab2cc86340d4b832e0757e0aa380",
       "value": "Epoch 1/10: 100%"
      }
     },
     "5f69f4e19fe9471ab0ef8a42440f02da": {
      "model_module": "@jupyter-widgets/controls",
      "model_module_version": "2.0.0",
      "model_name": "FloatProgressModel",
      "state": {
       "bar_style": "success",
       "layout": "IPY_MODEL_a7b66a9e2fe742e293373092a4205c75",
       "max": 340,
       "style": "IPY_MODEL_aee07e58c41a4d2b806f74367b4cc596",
       "value": 340
      }
     },
     "5f7d771adc9c4c4e8846b6f2b8db5bec": {
      "model_module": "@jupyter-widgets/controls",
      "model_module_version": "2.0.0",
      "model_name": "HTMLStyleModel",
      "state": {
       "description_width": "",
       "font_size": null,
       "text_color": null
      }
     },
     "60dfc02fcc0149d080b4b922cc59392a": {
      "model_module": "@jupyter-widgets/base",
      "model_module_version": "2.0.0",
      "model_name": "LayoutModel",
      "state": {}
     },
     "60fe1e017f8b448d8253e1336f8e315d": {
      "model_module": "@jupyter-widgets/base",
      "model_module_version": "2.0.0",
      "model_name": "LayoutModel",
      "state": {}
     },
     "62f9893a73074969aaa6e2784286ba19": {
      "model_module": "@jupyter-widgets/controls",
      "model_module_version": "2.0.0",
      "model_name": "HTMLStyleModel",
      "state": {
       "description_width": "",
       "font_size": null,
       "text_color": null
      }
     },
     "63d7891bff4a43bf8d1e237972e2c418": {
      "model_module": "@jupyter-widgets/controls",
      "model_module_version": "2.0.0",
      "model_name": "HTMLModel",
      "state": {
       "layout": "IPY_MODEL_7c0827c2415f456b99dc41e0b2706d1f",
       "style": "IPY_MODEL_2115c310e12744c7b4930760852beb9e",
       "value": "Epoch 6/10: 100%"
      }
     },
     "644db683862c458986551c9ef864a08e": {
      "model_module": "@jupyter-widgets/base",
      "model_module_version": "2.0.0",
      "model_name": "LayoutModel",
      "state": {
       "flex": "2"
      }
     },
     "64a1690b0ed54325acce6cbf559834c3": {
      "model_module": "@jupyter-widgets/base",
      "model_module_version": "2.0.0",
      "model_name": "LayoutModel",
      "state": {}
     },
     "6554e886497545ecb50e60c09578da52": {
      "model_module": "@jupyter-widgets/base",
      "model_module_version": "2.0.0",
      "model_name": "LayoutModel",
      "state": {}
     },
     "6626f6d24bf348459367f9508fc15fc3": {
      "model_module": "@jupyter-widgets/controls",
      "model_module_version": "2.0.0",
      "model_name": "HTMLModel",
      "state": {
       "layout": "IPY_MODEL_9f724a628dd6491c9cf713cebf550d60",
       "style": "IPY_MODEL_9fcb2bde546943e9b58602e67bbffa27",
       "value": " 340/340 [00:21&lt;00:00, 16.87it/s, loss=0.486]"
      }
     },
     "6636958524394de7bea0e5bade546106": {
      "model_module": "@jupyter-widgets/controls",
      "model_module_version": "2.0.0",
      "model_name": "HTMLModel",
      "state": {
       "layout": "IPY_MODEL_9b6a2d1f0de841f391bd3c80d12e3a14",
       "style": "IPY_MODEL_675743735ad94f54b5791df1aac8916c",
       "value": " 340/340 [00:25&lt;00:00, 13.46it/s, loss=2.75]"
      }
     },
     "675743735ad94f54b5791df1aac8916c": {
      "model_module": "@jupyter-widgets/controls",
      "model_module_version": "2.0.0",
      "model_name": "HTMLStyleModel",
      "state": {
       "description_width": "",
       "font_size": null,
       "text_color": null
      }
     },
     "67e667f73c7149aea41e71b390c1ffc3": {
      "model_module": "@jupyter-widgets/base",
      "model_module_version": "2.0.0",
      "model_name": "LayoutModel",
      "state": {}
     },
     "681523aea7d045adb4da52a81efc9061": {
      "model_module": "@jupyter-widgets/controls",
      "model_module_version": "2.0.0",
      "model_name": "ProgressStyleModel",
      "state": {
       "description_width": ""
      }
     },
     "6827dce565a6443091bff826d5630904": {
      "model_module": "@jupyter-widgets/controls",
      "model_module_version": "2.0.0",
      "model_name": "FloatProgressModel",
      "state": {
       "bar_style": "success",
       "layout": "IPY_MODEL_810c4a0bbe7b4c44b8d3076335122433",
       "max": 340,
       "style": "IPY_MODEL_008cbc98a8e24ebfb8dc3c82af8382a5",
       "value": 340
      }
     },
     "6867722a9bd142b2b60852096cb711cd": {
      "model_module": "@jupyter-widgets/controls",
      "model_module_version": "2.0.0",
      "model_name": "HTMLStyleModel",
      "state": {
       "description_width": "",
       "font_size": null,
       "text_color": null
      }
     },
     "68f18925de494ae3b2b0106fcb898efe": {
      "model_module": "@jupyter-widgets/controls",
      "model_module_version": "2.0.0",
      "model_name": "HTMLModel",
      "state": {
       "layout": "IPY_MODEL_9fedcda68543418fa32be1ef4c121f90",
       "style": "IPY_MODEL_0945600d2ffa400ca7e6d9ac96063c5f",
       "value": " 340/340 [00:22&lt;00:00, 15.85it/s, loss=0.0853]"
      }
     },
     "69bb0b2c62bb4b9a9d87585da6eaef0b": {
      "model_module": "@jupyter-widgets/controls",
      "model_module_version": "2.0.0",
      "model_name": "HTMLModel",
      "state": {
       "layout": "IPY_MODEL_c3a28be731f04b0ea55b0030c4a457e5",
       "style": "IPY_MODEL_392f5393ab5b4316b7fd0ee73ee5b4fe",
       "value": " 340/340 [00:18&lt;00:00, 13.21it/s, loss=0.0778]"
      }
     },
     "6a03c366cd504c218cf50089d6def5d0": {
      "model_module": "@jupyter-widgets/controls",
      "model_module_version": "2.0.0",
      "model_name": "HTMLStyleModel",
      "state": {
       "description_width": "",
       "font_size": null,
       "text_color": null
      }
     },
     "6a3307dc7b974a2690549f8c18316147": {
      "model_module": "@jupyter-widgets/base",
      "model_module_version": "2.0.0",
      "model_name": "LayoutModel",
      "state": {}
     },
     "6bc9a94967b0447ca678b9a000b88400": {
      "model_module": "@jupyter-widgets/controls",
      "model_module_version": "2.0.0",
      "model_name": "ProgressStyleModel",
      "state": {
       "description_width": ""
      }
     },
     "6cc3b2ac91a64121a460109604dd46ba": {
      "model_module": "@jupyter-widgets/controls",
      "model_module_version": "2.0.0",
      "model_name": "HTMLStyleModel",
      "state": {
       "description_width": "",
       "font_size": null,
       "text_color": null
      }
     },
     "6ceab3df9b8543babee7d5bd5273ff13": {
      "model_module": "@jupyter-widgets/controls",
      "model_module_version": "2.0.0",
      "model_name": "ProgressStyleModel",
      "state": {
       "description_width": ""
      }
     },
     "6d0ef4402c4a454a8dc380a8fa6d63f5": {
      "model_module": "@jupyter-widgets/controls",
      "model_module_version": "2.0.0",
      "model_name": "ProgressStyleModel",
      "state": {
       "description_width": ""
      }
     },
     "6d990efaf6494daa8cc58b84395bca31": {
      "model_module": "@jupyter-widgets/controls",
      "model_module_version": "2.0.0",
      "model_name": "HTMLStyleModel",
      "state": {
       "description_width": "",
       "font_size": null,
       "text_color": null
      }
     },
     "6df09c180e4b455bba117f38b46d3688": {
      "model_module": "@jupyter-widgets/controls",
      "model_module_version": "2.0.0",
      "model_name": "HTMLModel",
      "state": {
       "layout": "IPY_MODEL_ea3f0c0116dc4f159568aa7c597726fa",
       "style": "IPY_MODEL_6cc3b2ac91a64121a460109604dd46ba",
       "value": "Epoch 1/10:   0%"
      }
     },
     "6e53c7f7f40f44c19f11fe08ae2ba761": {
      "model_module": "@jupyter-widgets/controls",
      "model_module_version": "2.0.0",
      "model_name": "ProgressStyleModel",
      "state": {
       "description_width": ""
      }
     },
     "6e84b64161e34255a6ab6e67b48d281d": {
      "model_module": "@jupyter-widgets/base",
      "model_module_version": "2.0.0",
      "model_name": "LayoutModel",
      "state": {}
     },
     "70635618e9314107b9fe31d12c3e39bb": {
      "model_module": "@jupyter-widgets/base",
      "model_module_version": "2.0.0",
      "model_name": "LayoutModel",
      "state": {}
     },
     "71038b4882f54e38879d4cf45ef1080c": {
      "model_module": "@jupyter-widgets/base",
      "model_module_version": "2.0.0",
      "model_name": "LayoutModel",
      "state": {
       "flex": "2"
      }
     },
     "71974c012e964fb18840eafe6830de9d": {
      "model_module": "@jupyter-widgets/controls",
      "model_module_version": "2.0.0",
      "model_name": "HTMLModel",
      "state": {
       "layout": "IPY_MODEL_67e667f73c7149aea41e71b390c1ffc3",
       "style": "IPY_MODEL_b7bfb855b05f4666aeabcc413a12c586",
       "value": "Epoch 1/10:   0%"
      }
     },
     "72080822c11c4a789a29b93d94ff67ea": {
      "model_module": "@jupyter-widgets/base",
      "model_module_version": "2.0.0",
      "model_name": "LayoutModel",
      "state": {}
     },
     "731e2835089948e7a14f324da2085284": {
      "model_module": "@jupyter-widgets/controls",
      "model_module_version": "2.0.0",
      "model_name": "ProgressStyleModel",
      "state": {
       "description_width": ""
      }
     },
     "7535cf0bbad74765b61f1a2dd3edb652": {
      "model_module": "@jupyter-widgets/controls",
      "model_module_version": "2.0.0",
      "model_name": "HTMLModel",
      "state": {
       "layout": "IPY_MODEL_38f4d2320d9142158d0ab2619f677e66",
       "style": "IPY_MODEL_6a03c366cd504c218cf50089d6def5d0",
       "value": "Epoch 10/10: 100%"
      }
     },
     "76dd69898597459791f4d376a97f9b6f": {
      "model_module": "@jupyter-widgets/controls",
      "model_module_version": "2.0.0",
      "model_name": "ProgressStyleModel",
      "state": {
       "description_width": ""
      }
     },
     "77794a39608f4193b954b4087760ba76": {
      "model_module": "@jupyter-widgets/controls",
      "model_module_version": "2.0.0",
      "model_name": "HBoxModel",
      "state": {
       "children": [
        "IPY_MODEL_4a82896e04e34c72907c9be4bd1e9794",
        "IPY_MODEL_78a7218dcba2488ebf05118b0c60159f",
        "IPY_MODEL_e2c11699628a493b845a39bc02b0f10c"
       ],
       "layout": "IPY_MODEL_29d100fce4d24ea19f6c8a60b4736889"
      }
     },
     "7784e093972c46caa1323a6e46912760": {
      "model_module": "@jupyter-widgets/base",
      "model_module_version": "2.0.0",
      "model_name": "LayoutModel",
      "state": {}
     },
     "78320dfbef2a471f9daeab273cca7a47": {
      "model_module": "@jupyter-widgets/controls",
      "model_module_version": "2.0.0",
      "model_name": "HTMLStyleModel",
      "state": {
       "description_width": "",
       "font_size": null,
       "text_color": null
      }
     },
     "78a7218dcba2488ebf05118b0c60159f": {
      "model_module": "@jupyter-widgets/controls",
      "model_module_version": "2.0.0",
      "model_name": "FloatProgressModel",
      "state": {
       "bar_style": "success",
       "layout": "IPY_MODEL_18cc7e81b3644c4f9fee6a08032cba05",
       "max": 340,
       "style": "IPY_MODEL_76dd69898597459791f4d376a97f9b6f",
       "value": 340
      }
     },
     "7a10c10c8264419facc5df2a4dc52a95": {
      "model_module": "@jupyter-widgets/base",
      "model_module_version": "2.0.0",
      "model_name": "LayoutModel",
      "state": {}
     },
     "7a5624a7311d46e283e901975f5bc892": {
      "model_module": "@jupyter-widgets/controls",
      "model_module_version": "2.0.0",
      "model_name": "FloatProgressModel",
      "state": {
       "bar_style": "success",
       "layout": "IPY_MODEL_052e0d6a38884e25b7f48f99c4d678a7",
       "max": 340,
       "style": "IPY_MODEL_6ceab3df9b8543babee7d5bd5273ff13",
       "value": 340
      }
     },
     "7aadbc112e8349c29d675586f494ae42": {
      "model_module": "@jupyter-widgets/controls",
      "model_module_version": "2.0.0",
      "model_name": "HBoxModel",
      "state": {
       "children": [
        "IPY_MODEL_5347eba762d843a097941b15fdc08180",
        "IPY_MODEL_5f69f4e19fe9471ab0ef8a42440f02da",
        "IPY_MODEL_2b83dcc6530c4701b5317bd1a030a5a6"
       ],
       "layout": "IPY_MODEL_f0dddeb772e8421cbce9a85256a730e7"
      }
     },
     "7ad1202f39084411bb772d7d19d5cf20": {
      "model_module": "@jupyter-widgets/controls",
      "model_module_version": "2.0.0",
      "model_name": "ProgressStyleModel",
      "state": {
       "description_width": ""
      }
     },
     "7b6c947f6f5a4787944227ff6148c1bd": {
      "model_module": "@jupyter-widgets/controls",
      "model_module_version": "2.0.0",
      "model_name": "ProgressStyleModel",
      "state": {
       "description_width": ""
      }
     },
     "7be27253ece14497b7afb374ed20a95f": {
      "model_module": "@jupyter-widgets/controls",
      "model_module_version": "2.0.0",
      "model_name": "HBoxModel",
      "state": {
       "children": [
        "IPY_MODEL_b7225fcb67fa47e1b4ad954174994d7b",
        "IPY_MODEL_061898c7b017431489f71127baa78bb4",
        "IPY_MODEL_3ac9619f1b2f4ebea8b2b97a83141922"
       ],
       "layout": "IPY_MODEL_5552abe8fa854511a2a940aded9132c7"
      }
     },
     "7c0827c2415f456b99dc41e0b2706d1f": {
      "model_module": "@jupyter-widgets/base",
      "model_module_version": "2.0.0",
      "model_name": "LayoutModel",
      "state": {}
     },
     "7cf7c5ae3c124181a9bee02945ead7fa": {
      "model_module": "@jupyter-widgets/base",
      "model_module_version": "2.0.0",
      "model_name": "LayoutModel",
      "state": {
       "display": "inline-flex",
       "flex_flow": "row wrap",
       "width": "1000px"
      }
     },
     "7d0a14588c04450a8b0abec3385ef498": {
      "model_module": "@jupyter-widgets/controls",
      "model_module_version": "2.0.0",
      "model_name": "HTMLStyleModel",
      "state": {
       "description_width": "",
       "font_size": null,
       "text_color": null
      }
     },
     "7d63eb8f38f14295af577eca152dbe88": {
      "model_module": "@jupyter-widgets/base",
      "model_module_version": "2.0.0",
      "model_name": "LayoutModel",
      "state": {
       "display": "inline-flex",
       "flex_flow": "row wrap",
       "width": "1000px"
      }
     },
     "7e4b5ff73b134b11b49f222ca46e6cf5": {
      "model_module": "@jupyter-widgets/base",
      "model_module_version": "2.0.0",
      "model_name": "LayoutModel",
      "state": {
       "display": "inline-flex",
       "flex_flow": "row wrap",
       "width": "1000px"
      }
     },
     "7fbee6b1ef9b4106b84aea2ac09a4421": {
      "model_module": "@jupyter-widgets/controls",
      "model_module_version": "2.0.0",
      "model_name": "HTMLModel",
      "state": {
       "layout": "IPY_MODEL_21b9e754abe6426fb0c180eed1feeae7",
       "style": "IPY_MODEL_387e4b84ac404bd3ba0963fd98e8c050",
       "value": " 340/340 [00:21&lt;00:00, 16.15it/s, loss=1.36]"
      }
     },
     "80138bae9c264d5c833bddd01820b7b8": {
      "model_module": "@jupyter-widgets/controls",
      "model_module_version": "2.0.0",
      "model_name": "HTMLModel",
      "state": {
       "layout": "IPY_MODEL_5c884827aca2461f9537cdfe5f6081f7",
       "style": "IPY_MODEL_7d0a14588c04450a8b0abec3385ef498",
       "value": "Epoch 9/10: 100%"
      }
     },
     "806a78173eae49d2874660387b9d7803": {
      "model_module": "@jupyter-widgets/controls",
      "model_module_version": "2.0.0",
      "model_name": "HTMLModel",
      "state": {
       "layout": "IPY_MODEL_d877c9c562144277a854255b14e27c51",
       "style": "IPY_MODEL_3add56acf71b4b33be32c0e6ff5df9f7",
       "value": " 340/340 [00:22&lt;00:00, 16.05it/s, loss=2.58]"
      }
     },
     "80b5d755604841b9aa64fca9b7adb4e0": {
      "model_module": "@jupyter-widgets/base",
      "model_module_version": "2.0.0",
      "model_name": "LayoutModel",
      "state": {}
     },
     "810c4a0bbe7b4c44b8d3076335122433": {
      "model_module": "@jupyter-widgets/base",
      "model_module_version": "2.0.0",
      "model_name": "LayoutModel",
      "state": {
       "flex": "2"
      }
     },
     "82e092d9f8b542e4aac530ee6d26d68f": {
      "model_module": "@jupyter-widgets/base",
      "model_module_version": "2.0.0",
      "model_name": "LayoutModel",
      "state": {}
     },
     "84d2aed8413848a08ab4eb927a029752": {
      "model_module": "@jupyter-widgets/controls",
      "model_module_version": "2.0.0",
      "model_name": "HTMLStyleModel",
      "state": {
       "description_width": "",
       "font_size": null,
       "text_color": null
      }
     },
     "851f7f3768d745dbb561145ff343a584": {
      "model_module": "@jupyter-widgets/controls",
      "model_module_version": "2.0.0",
      "model_name": "HTMLModel",
      "state": {
       "layout": "IPY_MODEL_e3d348f7b26e428a9168c6c7e44e6b74",
       "style": "IPY_MODEL_ceb6725babbc4666b3ba70de4e17d0e8",
       "value": "Epoch 1/10:   0%"
      }
     },
     "86581717242c4ccb9d676b250ce5e0be": {
      "model_module": "@jupyter-widgets/controls",
      "model_module_version": "2.0.0",
      "model_name": "HTMLModel",
      "state": {
       "layout": "IPY_MODEL_89fe4a162a3d407caf20d30fd2a40c5a",
       "style": "IPY_MODEL_a3a58f8a3d1945f996ecfe4483487c46",
       "value": "Epoch 1/10:   0%"
      }
     },
     "86afdd2024844864aaf997c61cbcfe92": {
      "model_module": "@jupyter-widgets/controls",
      "model_module_version": "2.0.0",
      "model_name": "HTMLModel",
      "state": {
       "layout": "IPY_MODEL_64a1690b0ed54325acce6cbf559834c3",
       "style": "IPY_MODEL_2ae2edd3fdff45dcb9554ed353b664b2",
       "value": " 0/340 [00:00&lt;?, ?it/s]"
      }
     },
     "87c14f2b1eaa49c89ae9cfa8b867266b": {
      "model_module": "@jupyter-widgets/controls",
      "model_module_version": "2.0.0",
      "model_name": "ProgressStyleModel",
      "state": {
       "description_width": ""
      }
     },
     "87fb27f50eaf4405a144b52a37f27e92": {
      "model_module": "@jupyter-widgets/controls",
      "model_module_version": "2.0.0",
      "model_name": "HBoxModel",
      "state": {
       "children": [
        "IPY_MODEL_13b1fa0f48544851afae220f2ada8c90",
        "IPY_MODEL_c42e6cac17da4465bd3a87a22c7a1743",
        "IPY_MODEL_6626f6d24bf348459367f9508fc15fc3"
       ],
       "layout": "IPY_MODEL_7cf7c5ae3c124181a9bee02945ead7fa"
      }
     },
     "89fe4a162a3d407caf20d30fd2a40c5a": {
      "model_module": "@jupyter-widgets/base",
      "model_module_version": "2.0.0",
      "model_name": "LayoutModel",
      "state": {}
     },
     "8a50ef8b6e214ce886ac2a35ef3ddb78": {
      "model_module": "@jupyter-widgets/controls",
      "model_module_version": "2.0.0",
      "model_name": "HTMLStyleModel",
      "state": {
       "description_width": "",
       "font_size": null,
       "text_color": null
      }
     },
     "8a87316f35af474d96cc05164d687ea0": {
      "model_module": "@jupyter-widgets/base",
      "model_module_version": "2.0.0",
      "model_name": "LayoutModel",
      "state": {
       "flex": "2"
      }
     },
     "8a9777c3cc304c409132ed084da7f521": {
      "model_module": "@jupyter-widgets/controls",
      "model_module_version": "2.0.0",
      "model_name": "HTMLStyleModel",
      "state": {
       "description_width": "",
       "font_size": null,
       "text_color": null
      }
     },
     "8b0ff715b7554630b94a957726902cea": {
      "model_module": "@jupyter-widgets/controls",
      "model_module_version": "2.0.0",
      "model_name": "ProgressStyleModel",
      "state": {
       "description_width": ""
      }
     },
     "8b50ce83379f4ce49f22d7cce78cf896": {
      "model_module": "@jupyter-widgets/controls",
      "model_module_version": "2.0.0",
      "model_name": "FloatProgressModel",
      "state": {
       "bar_style": "danger",
       "layout": "IPY_MODEL_eb1ed512366e41e79c5c795fde05159f",
       "max": 340,
       "style": "IPY_MODEL_7b6c947f6f5a4787944227ff6148c1bd"
      }
     },
     "8b6adaff9b764dea8a1467d638e7b45e": {
      "model_module": "@jupyter-widgets/base",
      "model_module_version": "2.0.0",
      "model_name": "LayoutModel",
      "state": {
       "flex": "2"
      }
     },
     "8bd5b1cfbf4a43a099f0606976d55176": {
      "model_module": "@jupyter-widgets/controls",
      "model_module_version": "2.0.0",
      "model_name": "ProgressStyleModel",
      "state": {
       "description_width": ""
      }
     },
     "8bed5bb3071b48d09ef54feb938a048d": {
      "model_module": "@jupyter-widgets/base",
      "model_module_version": "2.0.0",
      "model_name": "LayoutModel",
      "state": {}
     },
     "8c4c3af978854c4f92851ae28aa1b487": {
      "model_module": "@jupyter-widgets/base",
      "model_module_version": "2.0.0",
      "model_name": "LayoutModel",
      "state": {}
     },
     "8c9b24d5bc10444a96deee82d51e8110": {
      "model_module": "@jupyter-widgets/base",
      "model_module_version": "2.0.0",
      "model_name": "LayoutModel",
      "state": {}
     },
     "8d33fcb481a043c7867a5f781f88df76": {
      "model_module": "@jupyter-widgets/controls",
      "model_module_version": "2.0.0",
      "model_name": "HTMLStyleModel",
      "state": {
       "description_width": "",
       "font_size": null,
       "text_color": null
      }
     },
     "8eeb6da5d3e44806b4c3ca8fdea8e24f": {
      "model_module": "@jupyter-widgets/controls",
      "model_module_version": "2.0.0",
      "model_name": "ProgressStyleModel",
      "state": {
       "description_width": ""
      }
     },
     "8f7bc747f34e4d8c977fcac5068d8266": {
      "model_module": "@jupyter-widgets/controls",
      "model_module_version": "2.0.0",
      "model_name": "HBoxModel",
      "state": {
       "children": [
        "IPY_MODEL_17150125503e441eb2f850517d31ce0e",
        "IPY_MODEL_5cced1be70884049b36a9c4fdd59cd3c",
        "IPY_MODEL_69bb0b2c62bb4b9a9d87585da6eaef0b"
       ],
       "layout": "IPY_MODEL_e95946e2f51b4e198379a8813246beaa"
      }
     },
     "8f8fbeeb2b8e453aaead700150a272aa": {
      "model_module": "@jupyter-widgets/controls",
      "model_module_version": "2.0.0",
      "model_name": "HTMLModel",
      "state": {
       "layout": "IPY_MODEL_3bdb0c92580f4d05a9bdc1bdb2e3917c",
       "style": "IPY_MODEL_5f7d771adc9c4c4e8846b6f2b8db5bec",
       "value": " 0/340 [00:00&lt;?, ?it/s]"
      }
     },
     "9037a6dfce3043b096904ec50f4adb47": {
      "model_module": "@jupyter-widgets/controls",
      "model_module_version": "2.0.0",
      "model_name": "HTMLModel",
      "state": {
       "layout": "IPY_MODEL_14ea8ab5362848f3a061f102c0a922a2",
       "style": "IPY_MODEL_8d33fcb481a043c7867a5f781f88df76",
       "value": " 340/340 [00:17&lt;00:00, 21.12it/s, loss=0.989]"
      }
     },
     "92426adbf8544adf93d3320bc919da94": {
      "model_module": "@jupyter-widgets/controls",
      "model_module_version": "2.0.0",
      "model_name": "ProgressStyleModel",
      "state": {
       "description_width": ""
      }
     },
     "95215bdca9f14ff996ac6b44853d84d3": {
      "model_module": "@jupyter-widgets/base",
      "model_module_version": "2.0.0",
      "model_name": "LayoutModel",
      "state": {
       "flex": "2"
      }
     },
     "95de04d5ef6845c5b1f204cca1524903": {
      "model_module": "@jupyter-widgets/base",
      "model_module_version": "2.0.0",
      "model_name": "LayoutModel",
      "state": {}
     },
     "96b491c072b941c59694176dba8f0466": {
      "model_module": "@jupyter-widgets/controls",
      "model_module_version": "2.0.0",
      "model_name": "HBoxModel",
      "state": {
       "children": [
        "IPY_MODEL_80138bae9c264d5c833bddd01820b7b8",
        "IPY_MODEL_ea97ce80659447a694e8c1775f94675f",
        "IPY_MODEL_f34be32be3664b86acc39f0d1fe777de"
       ],
       "layout": "IPY_MODEL_adf96a5e0d004ddbb7ec56fd3dd26520"
      }
     },
     "96fac9ca2c6b48cabda5f4941112c810": {
      "model_module": "@jupyter-widgets/base",
      "model_module_version": "2.0.0",
      "model_name": "LayoutModel",
      "state": {
       "flex": "2"
      }
     },
     "9a6cb273634e45968aaea2d09a651038": {
      "model_module": "@jupyter-widgets/controls",
      "model_module_version": "2.0.0",
      "model_name": "ProgressStyleModel",
      "state": {
       "description_width": ""
      }
     },
     "9a6d865c63574413b433d7bffe91bd58": {
      "model_module": "@jupyter-widgets/controls",
      "model_module_version": "2.0.0",
      "model_name": "HBoxModel",
      "state": {
       "children": [
        "IPY_MODEL_ec8a01f7761645b29cab2baf6d829cf5",
        "IPY_MODEL_30237642949b447eb46a02230507a375",
        "IPY_MODEL_68f18925de494ae3b2b0106fcb898efe"
       ],
       "layout": "IPY_MODEL_204ad081edd74b189eb78c1f6f38b35a"
      }
     },
     "9a9a2f33be034e4b89550ad5771dd672": {
      "model_module": "@jupyter-widgets/controls",
      "model_module_version": "2.0.0",
      "model_name": "HTMLModel",
      "state": {
       "layout": "IPY_MODEL_45ac1479a6fc449a828ef0eda52c1afb",
       "style": "IPY_MODEL_cfac2c03696a48b5a9251064e724aba2",
       "value": "Epoch 4/10: 100%"
      }
     },
     "9b6a2d1f0de841f391bd3c80d12e3a14": {
      "model_module": "@jupyter-widgets/base",
      "model_module_version": "2.0.0",
      "model_name": "LayoutModel",
      "state": {}
     },
     "9d0289520819411791805ab7554fbf7e": {
      "model_module": "@jupyter-widgets/controls",
      "model_module_version": "2.0.0",
      "model_name": "HBoxModel",
      "state": {
       "children": [
        "IPY_MODEL_4e192faeaa6f493aaf844e2e65251809",
        "IPY_MODEL_2064e348551c45f5b293274bb596e562",
        "IPY_MODEL_5b428e7a251b41eba8ae3ca1fea1c8f4"
       ],
       "layout": "IPY_MODEL_266e2c71d5b44e5ca506b45b564bfa66"
      }
     },
     "9d53d58c4f874fe29aaa073eb5d2ffbf": {
      "model_module": "@jupyter-widgets/base",
      "model_module_version": "2.0.0",
      "model_name": "LayoutModel",
      "state": {}
     },
     "9d5b75ae18d945bca03395a1ada1dad7": {
      "model_module": "@jupyter-widgets/controls",
      "model_module_version": "2.0.0",
      "model_name": "HTMLModel",
      "state": {
       "layout": "IPY_MODEL_49597355145046c087f26d999fbef2d9",
       "style": "IPY_MODEL_490321a031bf45ea88a3cbd3de69e23c",
       "value": "Epoch 9/10: 100%"
      }
     },
     "9da05f8cf7804a2ebef7a39d7486097c": {
      "model_module": "@jupyter-widgets/base",
      "model_module_version": "2.0.0",
      "model_name": "LayoutModel",
      "state": {}
     },
     "9f724a628dd6491c9cf713cebf550d60": {
      "model_module": "@jupyter-widgets/base",
      "model_module_version": "2.0.0",
      "model_name": "LayoutModel",
      "state": {}
     },
     "9f874decddf34436aaa5c818a08dbf56": {
      "model_module": "@jupyter-widgets/controls",
      "model_module_version": "2.0.0",
      "model_name": "HBoxModel",
      "state": {
       "children": [
        "IPY_MODEL_a13a603cdcdf4e83bd7113a2e89658d0",
        "IPY_MODEL_bbce434901624f83b7865cc8429ab2b1",
        "IPY_MODEL_86afdd2024844864aaf997c61cbcfe92"
       ],
       "layout": "IPY_MODEL_1376573c91144632803c4c65e0e32476"
      }
     },
     "9fcb2bde546943e9b58602e67bbffa27": {
      "model_module": "@jupyter-widgets/controls",
      "model_module_version": "2.0.0",
      "model_name": "HTMLStyleModel",
      "state": {
       "description_width": "",
       "font_size": null,
       "text_color": null
      }
     },
     "9fce8c588a004c34afa8cc6a4920116a": {
      "model_module": "@jupyter-widgets/base",
      "model_module_version": "2.0.0",
      "model_name": "LayoutModel",
      "state": {
       "flex": "2"
      }
     },
     "9fedcda68543418fa32be1ef4c121f90": {
      "model_module": "@jupyter-widgets/base",
      "model_module_version": "2.0.0",
      "model_name": "LayoutModel",
      "state": {}
     },
     "a07b2921e13b403f9fae5ff564f70c9e": {
      "model_module": "@jupyter-widgets/base",
      "model_module_version": "2.0.0",
      "model_name": "LayoutModel",
      "state": {}
     },
     "a0dfb45af0d94c3891333bacafcc4e18": {
      "model_module": "@jupyter-widgets/controls",
      "model_module_version": "2.0.0",
      "model_name": "HTMLStyleModel",
      "state": {
       "description_width": "",
       "font_size": null,
       "text_color": null
      }
     },
     "a13a603cdcdf4e83bd7113a2e89658d0": {
      "model_module": "@jupyter-widgets/controls",
      "model_module_version": "2.0.0",
      "model_name": "HTMLModel",
      "state": {
       "layout": "IPY_MODEL_7a10c10c8264419facc5df2a4dc52a95",
       "style": "IPY_MODEL_d1317d52575b4d61b835a952760358c0",
       "value": "Epoch 1/10:   0%"
      }
     },
     "a238589458104a15aaaf183ed05a6dd1": {
      "model_module": "@jupyter-widgets/base",
      "model_module_version": "2.0.0",
      "model_name": "LayoutModel",
      "state": {}
     },
     "a26dd6cdf39a4393a54650625f7aa408": {
      "model_module": "@jupyter-widgets/base",
      "model_module_version": "2.0.0",
      "model_name": "LayoutModel",
      "state": {
       "flex": "2"
      }
     },
     "a301be5eb15940bf99ad7bec57cd1906": {
      "model_module": "@jupyter-widgets/controls",
      "model_module_version": "2.0.0",
      "model_name": "HBoxModel",
      "state": {
       "children": [
        "IPY_MODEL_04b723e1c2444fccafdb14b219aa4c68",
        "IPY_MODEL_4e23980b2d344f8895c80708edcb2d27",
        "IPY_MODEL_5191c84b004d4f4ebbe67e77080971eb"
       ],
       "layout": "IPY_MODEL_f63fa985f6b84eda937264605f196019"
      }
     },
     "a38177982f794843aa6175f3e09e662a": {
      "model_module": "@jupyter-widgets/controls",
      "model_module_version": "2.0.0",
      "model_name": "HBoxModel",
      "state": {
       "children": [
        "IPY_MODEL_3e69c41160fd4505944970161e2da321",
        "IPY_MODEL_59c5cd0ed4ff4e11be3a35224f627b88",
        "IPY_MODEL_e52cc10e9d3c4d56a5da975ad9a1bafc"
       ],
       "layout": "IPY_MODEL_447128e74bec47d8b986a50ea312f585"
      }
     },
     "a3a58f8a3d1945f996ecfe4483487c46": {
      "model_module": "@jupyter-widgets/controls",
      "model_module_version": "2.0.0",
      "model_name": "HTMLStyleModel",
      "state": {
       "description_width": "",
       "font_size": null,
       "text_color": null
      }
     },
     "a3f42c177af54828a4094f38c7199010": {
      "model_module": "@jupyter-widgets/controls",
      "model_module_version": "2.0.0",
      "model_name": "HTMLModel",
      "state": {
       "layout": "IPY_MODEL_a9de718deb9647cea0bacdcb4fdf5d97",
       "style": "IPY_MODEL_36dcd285eb9043cf8fffe298ef0f9313",
       "value": "Epoch 1/10:   0%"
      }
     },
     "a59bc0113c3d4393a659de5ce51fc333": {
      "model_module": "@jupyter-widgets/controls",
      "model_module_version": "2.0.0",
      "model_name": "FloatProgressModel",
      "state": {
       "bar_style": "success",
       "layout": "IPY_MODEL_3ef46a15627c4d39a0d38c398bb1f4e9",
       "max": 340,
       "style": "IPY_MODEL_8b0ff715b7554630b94a957726902cea",
       "value": 340
      }
     },
     "a7b2b7cabef4426d982cc7c84f03e52c": {
      "model_module": "@jupyter-widgets/controls",
      "model_module_version": "2.0.0",
      "model_name": "HTMLStyleModel",
      "state": {
       "description_width": "",
       "font_size": null,
       "text_color": null
      }
     },
     "a7b66a9e2fe742e293373092a4205c75": {
      "model_module": "@jupyter-widgets/base",
      "model_module_version": "2.0.0",
      "model_name": "LayoutModel",
      "state": {
       "flex": "2"
      }
     },
     "a7d82c2b04e54e998b79513455eb4c5a": {
      "model_module": "@jupyter-widgets/base",
      "model_module_version": "2.0.0",
      "model_name": "LayoutModel",
      "state": {
       "flex": "2"
      }
     },
     "a8bdb0b8591d44d694665de6566eaa2e": {
      "model_module": "@jupyter-widgets/base",
      "model_module_version": "2.0.0",
      "model_name": "LayoutModel",
      "state": {
       "display": "inline-flex",
       "flex_flow": "row wrap",
       "width": "1000px"
      }
     },
     "a99c4768978c4475ab11cae7e48ec421": {
      "model_module": "@jupyter-widgets/controls",
      "model_module_version": "2.0.0",
      "model_name": "HTMLModel",
      "state": {
       "layout": "IPY_MODEL_d4ad4cca86824277b8582136cf19e8cb",
       "style": "IPY_MODEL_5714380c792a4bf8b11b6be664cbf360",
       "value": "Epoch 5/10: 100%"
      }
     },
     "a9de718deb9647cea0bacdcb4fdf5d97": {
      "model_module": "@jupyter-widgets/base",
      "model_module_version": "2.0.0",
      "model_name": "LayoutModel",
      "state": {}
     },
     "aac734e4246448d0aa0707ba0aeadacf": {
      "model_module": "@jupyter-widgets/controls",
      "model_module_version": "2.0.0",
      "model_name": "HTMLStyleModel",
      "state": {
       "description_width": "",
       "font_size": null,
       "text_color": null
      }
     },
     "aaf40e0f12c84ecda8d2502d4d07bec1": {
      "model_module": "@jupyter-widgets/base",
      "model_module_version": "2.0.0",
      "model_name": "LayoutModel",
      "state": {
       "display": "inline-flex",
       "flex_flow": "row wrap",
       "width": "1000px"
      }
     },
     "ab0c3fe7a95a42c3b871dc39fe3b1a70": {
      "model_module": "@jupyter-widgets/controls",
      "model_module_version": "2.0.0",
      "model_name": "HBoxModel",
      "state": {
       "children": [
        "IPY_MODEL_2c72f30297b44fb6a44101fd36974466",
        "IPY_MODEL_03d72cb29ffd44ef8bed8f4db9d5250d",
        "IPY_MODEL_5c8560a1a8f3440f93b7b47849e0677c"
       ],
       "layout": "IPY_MODEL_1ed541d6bf284dee9044c26652959fa7"
      }
     },
     "acacda64696d48eb81ca0a973d2d2ebc": {
      "model_module": "@jupyter-widgets/base",
      "model_module_version": "2.0.0",
      "model_name": "LayoutModel",
      "state": {
       "display": "inline-flex",
       "flex_flow": "row wrap",
       "width": "1000px"
      }
     },
     "ad188dd417624d68ac45e33264223f08": {
      "model_module": "@jupyter-widgets/controls",
      "model_module_version": "2.0.0",
      "model_name": "HTMLModel",
      "state": {
       "layout": "IPY_MODEL_60fe1e017f8b448d8253e1336f8e315d",
       "style": "IPY_MODEL_a7b2b7cabef4426d982cc7c84f03e52c",
       "value": " 0/340 [00:00&lt;?, ?it/s]"
      }
     },
     "ad93cde36a7a45a7b0b45316d43abdae": {
      "model_module": "@jupyter-widgets/base",
      "model_module_version": "2.0.0",
      "model_name": "LayoutModel",
      "state": {
       "flex": "2"
      }
     },
     "adf96a5e0d004ddbb7ec56fd3dd26520": {
      "model_module": "@jupyter-widgets/base",
      "model_module_version": "2.0.0",
      "model_name": "LayoutModel",
      "state": {
       "display": "inline-flex",
       "flex_flow": "row wrap",
       "width": "1000px"
      }
     },
     "ae22859279ea4013a2d2c862fd2c0f8e": {
      "model_module": "@jupyter-widgets/base",
      "model_module_version": "2.0.0",
      "model_name": "LayoutModel",
      "state": {}
     },
     "ae4c52dcd9344fc1938b8bc578c1563d": {
      "model_module": "@jupyter-widgets/controls",
      "model_module_version": "2.0.0",
      "model_name": "HTMLModel",
      "state": {
       "layout": "IPY_MODEL_e1160b4255cd45908e07e4baff6031b8",
       "style": "IPY_MODEL_ce9b1593a23b4921a28d520f9e72a602",
       "value": "Epoch 1/10:   0%"
      }
     },
     "aee07e58c41a4d2b806f74367b4cc596": {
      "model_module": "@jupyter-widgets/controls",
      "model_module_version": "2.0.0",
      "model_name": "ProgressStyleModel",
      "state": {
       "description_width": ""
      }
     },
     "af136378e6e148a09b8c6ca846d069a5": {
      "model_module": "@jupyter-widgets/controls",
      "model_module_version": "2.0.0",
      "model_name": "HBoxModel",
      "state": {
       "children": [
        "IPY_MODEL_5885547df47a46ebbcabf94118260355",
        "IPY_MODEL_d1f3500bb1924064a197798c38bc53a1",
        "IPY_MODEL_f72296ffddf142a88e421ed446e939a3"
       ],
       "layout": "IPY_MODEL_0cd17789a7da4e3b9409b9c5c1c2e9f5"
      }
     },
     "afda447116bc4d5b9cde89208caa746f": {
      "model_module": "@jupyter-widgets/base",
      "model_module_version": "2.0.0",
      "model_name": "LayoutModel",
      "state": {}
     },
     "b1d14269cc97487fa2d22d0556fe701f": {
      "model_module": "@jupyter-widgets/base",
      "model_module_version": "2.0.0",
      "model_name": "LayoutModel",
      "state": {}
     },
     "b2143445b87740398b2d510c1e057773": {
      "model_module": "@jupyter-widgets/base",
      "model_module_version": "2.0.0",
      "model_name": "LayoutModel",
      "state": {
       "flex": "2"
      }
     },
     "b2b70aa4eff0471f94e6a6f6b8ec452d": {
      "model_module": "@jupyter-widgets/base",
      "model_module_version": "2.0.0",
      "model_name": "LayoutModel",
      "state": {
       "flex": "2"
      }
     },
     "b2c9234dc98b42de8e2fa4ad23ca9326": {
      "model_module": "@jupyter-widgets/controls",
      "model_module_version": "2.0.0",
      "model_name": "HBoxModel",
      "state": {
       "children": [
        "IPY_MODEL_a3f42c177af54828a4094f38c7199010",
        "IPY_MODEL_d402bf9a9be546d2badfc50f618b3625",
        "IPY_MODEL_0bce70a1db2046f9aa17f8bfa299de07"
       ],
       "layout": "IPY_MODEL_3a14565c19e64c6f814fdc2e4c45c043"
      }
     },
     "b2e970011f124a958055c2068a9b8799": {
      "model_module": "@jupyter-widgets/controls",
      "model_module_version": "2.0.0",
      "model_name": "HBoxModel",
      "state": {
       "children": [
        "IPY_MODEL_07a72213682347b4a2908d160c06d1e5",
        "IPY_MODEL_b4b85226b4ba456790a05046b6be9f84",
        "IPY_MODEL_dfe59a392acf42deb6c26e085daed336"
       ],
       "layout": "IPY_MODEL_1f14e4d0fa8f49ae9edc51c97a7849f7"
      }
     },
     "b35db8ed23ca4717a75def2d28ac6a7e": {
      "model_module": "@jupyter-widgets/controls",
      "model_module_version": "2.0.0",
      "model_name": "HTMLStyleModel",
      "state": {
       "description_width": "",
       "font_size": null,
       "text_color": null
      }
     },
     "b40104ae536f4224babdcd7ddc1f0381": {
      "model_module": "@jupyter-widgets/controls",
      "model_module_version": "2.0.0",
      "model_name": "HTMLStyleModel",
      "state": {
       "description_width": "",
       "font_size": null,
       "text_color": null
      }
     },
     "b4b85226b4ba456790a05046b6be9f84": {
      "model_module": "@jupyter-widgets/controls",
      "model_module_version": "2.0.0",
      "model_name": "FloatProgressModel",
      "state": {
       "bar_style": "success",
       "layout": "IPY_MODEL_2b620a0cdac54edf81653ce166fcaaab",
       "max": 340,
       "style": "IPY_MODEL_d90902ef822b407d8c3cd612dbd1d78a",
       "value": 340
      }
     },
     "b4e76278266940c8bc4e12a12c6d00dd": {
      "model_module": "@jupyter-widgets/controls",
      "model_module_version": "2.0.0",
      "model_name": "HBoxModel",
      "state": {
       "children": [
        "IPY_MODEL_bc43dd28a23143f79c4f22272bb87ff7",
        "IPY_MODEL_fc44f2765cf440208c80cee0838fdbb3",
        "IPY_MODEL_2e3f5864da1b4430bb9e79ef16021415"
       ],
       "layout": "IPY_MODEL_5ecac11d00ef4fbb9b0978ccf0798331"
      }
     },
     "b54914a92c5c402798ba91df65355d68": {
      "model_module": "@jupyter-widgets/controls",
      "model_module_version": "2.0.0",
      "model_name": "HTMLModel",
      "state": {
       "layout": "IPY_MODEL_e816fa38f484488792e662f5b5b4ce31",
       "style": "IPY_MODEL_d07542478cba44769d9d908fa4570d42",
       "value": "Epoch 7/10: 100%"
      }
     },
     "b64754f8e7bb40d591af49bec9a64901": {
      "model_module": "@jupyter-widgets/controls",
      "model_module_version": "2.0.0",
      "model_name": "HTMLStyleModel",
      "state": {
       "description_width": "",
       "font_size": null,
       "text_color": null
      }
     },
     "b7225fcb67fa47e1b4ad954174994d7b": {
      "model_module": "@jupyter-widgets/controls",
      "model_module_version": "2.0.0",
      "model_name": "HTMLModel",
      "state": {
       "layout": "IPY_MODEL_d1bea9da39884c10a307bbcce6c05184",
       "style": "IPY_MODEL_d5a734a76f58483da11f4d6fb858044a",
       "value": "Epoch 10/10: 100%"
      }
     },
     "b76c5ac5aee043e3bdcfbf4f7cc565e9": {
      "model_module": "@jupyter-widgets/controls",
      "model_module_version": "2.0.0",
      "model_name": "HTMLModel",
      "state": {
       "layout": "IPY_MODEL_bd057407b4764ce1a50fac189648c3ef",
       "style": "IPY_MODEL_dc6e8e90678742d68fdf1699cee401ff",
       "value": " 340/340 [00:22&lt;00:00, 14.95it/s, loss=1.35]"
      }
     },
     "b7bfb855b05f4666aeabcc413a12c586": {
      "model_module": "@jupyter-widgets/controls",
      "model_module_version": "2.0.0",
      "model_name": "HTMLStyleModel",
      "state": {
       "description_width": "",
       "font_size": null,
       "text_color": null
      }
     },
     "bbce434901624f83b7865cc8429ab2b1": {
      "model_module": "@jupyter-widgets/controls",
      "model_module_version": "2.0.0",
      "model_name": "FloatProgressModel",
      "state": {
       "bar_style": "danger",
       "layout": "IPY_MODEL_f213104ce09445eab67f21c6374cfc59",
       "max": 340,
       "style": "IPY_MODEL_9a6cb273634e45968aaea2d09a651038"
      }
     },
     "bc410f24fd6e415cb07b5a7ea2291076": {
      "model_module": "@jupyter-widgets/base",
      "model_module_version": "2.0.0",
      "model_name": "LayoutModel",
      "state": {
       "flex": "2"
      }
     },
     "bc43dd28a23143f79c4f22272bb87ff7": {
      "model_module": "@jupyter-widgets/controls",
      "model_module_version": "2.0.0",
      "model_name": "HTMLModel",
      "state": {
       "layout": "IPY_MODEL_c0825a2e60c4448d9cb4697d0fb10db9",
       "style": "IPY_MODEL_053bdca6eda44f6284f654bf17330331",
       "value": "Epoch 3/10: 100%"
      }
     },
     "bc63963f2262412a8da63a5b3a627c7f": {
      "model_module": "@jupyter-widgets/controls",
      "model_module_version": "2.0.0",
      "model_name": "ProgressStyleModel",
      "state": {
       "description_width": ""
      }
     },
     "bd057407b4764ce1a50fac189648c3ef": {
      "model_module": "@jupyter-widgets/base",
      "model_module_version": "2.0.0",
      "model_name": "LayoutModel",
      "state": {}
     },
     "bea8f6e581cc4302b123662f91e3dd22": {
      "model_module": "@jupyter-widgets/controls",
      "model_module_version": "2.0.0",
      "model_name": "HBoxModel",
      "state": {
       "children": [
        "IPY_MODEL_9a9a2f33be034e4b89550ad5771dd672",
        "IPY_MODEL_c6066c781f3e462d9087c7aaeb3454a0",
        "IPY_MODEL_ef38be7f65fa4a65ade1a4494823d03d"
       ],
       "layout": "IPY_MODEL_7e4b5ff73b134b11b49f222ca46e6cf5"
      }
     },
     "bec52dc54b784a08ab5ee1fa2fade1ec": {
      "model_module": "@jupyter-widgets/base",
      "model_module_version": "2.0.0",
      "model_name": "LayoutModel",
      "state": {
       "flex": "2"
      }
     },
     "bfd208628e4845ed901ade407af4c74a": {
      "model_module": "@jupyter-widgets/controls",
      "model_module_version": "2.0.0",
      "model_name": "HTMLModel",
      "state": {
       "layout": "IPY_MODEL_4cc602c2be4e457ca05a008e74196850",
       "style": "IPY_MODEL_8a50ef8b6e214ce886ac2a35ef3ddb78",
       "value": " 0/340 [00:00&lt;?, ?it/s]"
      }
     },
     "c0825a2e60c4448d9cb4697d0fb10db9": {
      "model_module": "@jupyter-widgets/base",
      "model_module_version": "2.0.0",
      "model_name": "LayoutModel",
      "state": {}
     },
     "c3a28be731f04b0ea55b0030c4a457e5": {
      "model_module": "@jupyter-widgets/base",
      "model_module_version": "2.0.0",
      "model_name": "LayoutModel",
      "state": {}
     },
     "c41e94519a4846b782dd5b85812db16c": {
      "model_module": "@jupyter-widgets/controls",
      "model_module_version": "2.0.0",
      "model_name": "HTMLStyleModel",
      "state": {
       "description_width": "",
       "font_size": null,
       "text_color": null
      }
     },
     "c42e6cac17da4465bd3a87a22c7a1743": {
      "model_module": "@jupyter-widgets/controls",
      "model_module_version": "2.0.0",
      "model_name": "FloatProgressModel",
      "state": {
       "bar_style": "success",
       "layout": "IPY_MODEL_71038b4882f54e38879d4cf45ef1080c",
       "max": 340,
       "style": "IPY_MODEL_ed79c44e837c44b18f456db54eef842c",
       "value": 340
      }
     },
     "c5a066e3f86c4f77833129205ae727e3": {
      "model_module": "@jupyter-widgets/controls",
      "model_module_version": "2.0.0",
      "model_name": "HBoxModel",
      "state": {
       "children": [
        "IPY_MODEL_19d942009ec0410ca04e4e6d034b262a",
        "IPY_MODEL_1d52d91760a24640b2610dfa41eb81a7",
        "IPY_MODEL_5399395900504e728cb1f153d55aa09a"
       ],
       "layout": "IPY_MODEL_51144843949f44afb33362b1c5a32aab"
      }
     },
     "c6066c781f3e462d9087c7aaeb3454a0": {
      "model_module": "@jupyter-widgets/controls",
      "model_module_version": "2.0.0",
      "model_name": "FloatProgressModel",
      "state": {
       "bar_style": "success",
       "layout": "IPY_MODEL_5a35919e6a604bd2965664c8a362b6fa",
       "max": 340,
       "style": "IPY_MODEL_bc63963f2262412a8da63a5b3a627c7f",
       "value": 340
      }
     },
     "c6bc10e59dd5434ba9583fdbb75a90ef": {
      "model_module": "@jupyter-widgets/base",
      "model_module_version": "2.0.0",
      "model_name": "LayoutModel",
      "state": {
       "flex": "2"
      }
     },
     "c770a0056d2f44a386c675064187882d": {
      "model_module": "@jupyter-widgets/controls",
      "model_module_version": "2.0.0",
      "model_name": "ProgressStyleModel",
      "state": {
       "description_width": ""
      }
     },
     "c8b8a6adcd774bc394d4eb454689c5e8": {
      "model_module": "@jupyter-widgets/controls",
      "model_module_version": "2.0.0",
      "model_name": "ProgressStyleModel",
      "state": {
       "description_width": ""
      }
     },
     "c8c0530fd53e406092abcffd0f7709a7": {
      "model_module": "@jupyter-widgets/controls",
      "model_module_version": "2.0.0",
      "model_name": "HTMLStyleModel",
      "state": {
       "description_width": "",
       "font_size": null,
       "text_color": null
      }
     },
     "c8cfcb57983d45e58d4c2e45372921aa": {
      "model_module": "@jupyter-widgets/controls",
      "model_module_version": "2.0.0",
      "model_name": "HTMLModel",
      "state": {
       "layout": "IPY_MODEL_b1d14269cc97487fa2d22d0556fe701f",
       "style": "IPY_MODEL_b40104ae536f4224babdcd7ddc1f0381",
       "value": "Epoch 4/10: 100%"
      }
     },
     "ca8b204c8e9342f697be41670031bb5c": {
      "model_module": "@jupyter-widgets/controls",
      "model_module_version": "2.0.0",
      "model_name": "ProgressStyleModel",
      "state": {
       "description_width": ""
      }
     },
     "cbc6af359f9446a3b74e7075804f2cd9": {
      "model_module": "@jupyter-widgets/controls",
      "model_module_version": "2.0.0",
      "model_name": "HTMLStyleModel",
      "state": {
       "description_width": "",
       "font_size": null,
       "text_color": null
      }
     },
     "cc9b32918e6c4db784b6cf84eeac5657": {
      "model_module": "@jupyter-widgets/controls",
      "model_module_version": "2.0.0",
      "model_name": "FloatProgressModel",
      "state": {
       "bar_style": "success",
       "layout": "IPY_MODEL_fcbd4c52c3144c1a845172ab2f007fbd",
       "max": 340,
       "style": "IPY_MODEL_5c2d84a0c9ee4214b6f09f4d7fafd101",
       "value": 340
      }
     },
     "ce31c308869b4c3485c9aa30275ccee7": {
      "model_module": "@jupyter-widgets/controls",
      "model_module_version": "2.0.0",
      "model_name": "FloatProgressModel",
      "state": {
       "bar_style": "danger",
       "layout": "IPY_MODEL_b2b70aa4eff0471f94e6a6f6b8ec452d",
       "max": 340,
       "style": "IPY_MODEL_87c14f2b1eaa49c89ae9cfa8b867266b"
      }
     },
     "ce9b1593a23b4921a28d520f9e72a602": {
      "model_module": "@jupyter-widgets/controls",
      "model_module_version": "2.0.0",
      "model_name": "HTMLStyleModel",
      "state": {
       "description_width": "",
       "font_size": null,
       "text_color": null
      }
     },
     "ceb6725babbc4666b3ba70de4e17d0e8": {
      "model_module": "@jupyter-widgets/controls",
      "model_module_version": "2.0.0",
      "model_name": "HTMLStyleModel",
      "state": {
       "description_width": "",
       "font_size": null,
       "text_color": null
      }
     },
     "cf625a639e0148da8b79289ec664a23a": {
      "model_module": "@jupyter-widgets/controls",
      "model_module_version": "2.0.0",
      "model_name": "HTMLStyleModel",
      "state": {
       "description_width": "",
       "font_size": null,
       "text_color": null
      }
     },
     "cfac2c03696a48b5a9251064e724aba2": {
      "model_module": "@jupyter-widgets/controls",
      "model_module_version": "2.0.0",
      "model_name": "HTMLStyleModel",
      "state": {
       "description_width": "",
       "font_size": null,
       "text_color": null
      }
     },
     "d024fe48c61a454d8403f3e5ad5ed38d": {
      "model_module": "@jupyter-widgets/base",
      "model_module_version": "2.0.0",
      "model_name": "LayoutModel",
      "state": {
       "flex": "2"
      }
     },
     "d07542478cba44769d9d908fa4570d42": {
      "model_module": "@jupyter-widgets/controls",
      "model_module_version": "2.0.0",
      "model_name": "HTMLStyleModel",
      "state": {
       "description_width": "",
       "font_size": null,
       "text_color": null
      }
     },
     "d08a273a89fa48dfb59742bd9910982b": {
      "model_module": "@jupyter-widgets/base",
      "model_module_version": "2.0.0",
      "model_name": "LayoutModel",
      "state": {}
     },
     "d1317d52575b4d61b835a952760358c0": {
      "model_module": "@jupyter-widgets/controls",
      "model_module_version": "2.0.0",
      "model_name": "HTMLStyleModel",
      "state": {
       "description_width": "",
       "font_size": null,
       "text_color": null
      }
     },
     "d1bea9da39884c10a307bbcce6c05184": {
      "model_module": "@jupyter-widgets/base",
      "model_module_version": "2.0.0",
      "model_name": "LayoutModel",
      "state": {}
     },
     "d1f3500bb1924064a197798c38bc53a1": {
      "model_module": "@jupyter-widgets/controls",
      "model_module_version": "2.0.0",
      "model_name": "FloatProgressModel",
      "state": {
       "bar_style": "danger",
       "layout": "IPY_MODEL_e0a822d74c4c4ea9a21633e039389de2",
       "max": 340,
       "style": "IPY_MODEL_5354c331dc00438d9978ddca23c5bb22",
       "value": 236
      }
     },
     "d223b3d232c44f52b42d867a9e1cf8d6": {
      "model_module": "@jupyter-widgets/base",
      "model_module_version": "2.0.0",
      "model_name": "LayoutModel",
      "state": {
       "flex": "2"
      }
     },
     "d2fa845acf1740a8a495bbdd083084f4": {
      "model_module": "@jupyter-widgets/base",
      "model_module_version": "2.0.0",
      "model_name": "LayoutModel",
      "state": {}
     },
     "d402bf9a9be546d2badfc50f618b3625": {
      "model_module": "@jupyter-widgets/controls",
      "model_module_version": "2.0.0",
      "model_name": "FloatProgressModel",
      "state": {
       "bar_style": "danger",
       "layout": "IPY_MODEL_bc410f24fd6e415cb07b5a7ea2291076",
       "max": 340,
       "style": "IPY_MODEL_8bd5b1cfbf4a43a099f0606976d55176"
      }
     },
     "d4ad4cca86824277b8582136cf19e8cb": {
      "model_module": "@jupyter-widgets/base",
      "model_module_version": "2.0.0",
      "model_name": "LayoutModel",
      "state": {}
     },
     "d5a734a76f58483da11f4d6fb858044a": {
      "model_module": "@jupyter-widgets/controls",
      "model_module_version": "2.0.0",
      "model_name": "HTMLStyleModel",
      "state": {
       "description_width": "",
       "font_size": null,
       "text_color": null
      }
     },
     "d5a800bf70e14e1ba8404e55b7336fd6": {
      "model_module": "@jupyter-widgets/controls",
      "model_module_version": "2.0.0",
      "model_name": "HTMLStyleModel",
      "state": {
       "description_width": "",
       "font_size": null,
       "text_color": null
      }
     },
     "d63a64e16aab4cb197d92aea02e004ef": {
      "model_module": "@jupyter-widgets/base",
      "model_module_version": "2.0.0",
      "model_name": "LayoutModel",
      "state": {}
     },
     "d6d0199beb0c4842bb9f29bc0354f158": {
      "model_module": "@jupyter-widgets/controls",
      "model_module_version": "2.0.0",
      "model_name": "HTMLStyleModel",
      "state": {
       "description_width": "",
       "font_size": null,
       "text_color": null
      }
     },
     "d766670d60fd435197c395bae87f06d6": {
      "model_module": "@jupyter-widgets/base",
      "model_module_version": "2.0.0",
      "model_name": "LayoutModel",
      "state": {
       "display": "inline-flex",
       "flex_flow": "row wrap",
       "width": "1000px"
      }
     },
     "d877c9c562144277a854255b14e27c51": {
      "model_module": "@jupyter-widgets/base",
      "model_module_version": "2.0.0",
      "model_name": "LayoutModel",
      "state": {}
     },
     "d90902ef822b407d8c3cd612dbd1d78a": {
      "model_module": "@jupyter-widgets/controls",
      "model_module_version": "2.0.0",
      "model_name": "ProgressStyleModel",
      "state": {
       "description_width": ""
      }
     },
     "db58386349a0478fbc5c6931ff5a3e12": {
      "model_module": "@jupyter-widgets/base",
      "model_module_version": "2.0.0",
      "model_name": "LayoutModel",
      "state": {
       "display": "inline-flex",
       "flex_flow": "row wrap",
       "width": "1000px"
      }
     },
     "dc349e247d3e445286ad5134fb486a99": {
      "model_module": "@jupyter-widgets/controls",
      "model_module_version": "2.0.0",
      "model_name": "HTMLStyleModel",
      "state": {
       "description_width": "",
       "font_size": null,
       "text_color": null
      }
     },
     "dc6e8e90678742d68fdf1699cee401ff": {
      "model_module": "@jupyter-widgets/controls",
      "model_module_version": "2.0.0",
      "model_name": "HTMLStyleModel",
      "state": {
       "description_width": "",
       "font_size": null,
       "text_color": null
      }
     },
     "dcb1c6cf68824dce89db0813d138380d": {
      "model_module": "@jupyter-widgets/controls",
      "model_module_version": "2.0.0",
      "model_name": "HTMLStyleModel",
      "state": {
       "description_width": "",
       "font_size": null,
       "text_color": null
      }
     },
     "decfcb8edbe74475857b487d13ded9ab": {
      "model_module": "@jupyter-widgets/controls",
      "model_module_version": "2.0.0",
      "model_name": "HTMLModel",
      "state": {
       "layout": "IPY_MODEL_1102b4cc81194e11a2009750784ce71e",
       "style": "IPY_MODEL_fb69ef660ed94321aaaa59524ca64ff6",
       "value": " 0/340 [00:00&lt;?, ?it/s]"
      }
     },
     "df5ad05caf0c4f58aea1dc175d6286d9": {
      "model_module": "@jupyter-widgets/controls",
      "model_module_version": "2.0.0",
      "model_name": "FloatProgressModel",
      "state": {
       "bar_style": "success",
       "layout": "IPY_MODEL_b2143445b87740398b2d510c1e057773",
       "max": 340,
       "style": "IPY_MODEL_50c472589ae34c138c83f830fd2c9ad2",
       "value": 340
      }
     },
     "dfe59a392acf42deb6c26e085daed336": {
      "model_module": "@jupyter-widgets/controls",
      "model_module_version": "2.0.0",
      "model_name": "HTMLModel",
      "state": {
       "layout": "IPY_MODEL_afda447116bc4d5b9cde89208caa746f",
       "style": "IPY_MODEL_4997c814e0794de0beff94c530d9b0ee",
       "value": " 340/340 [00:20&lt;00:00, 17.81it/s, loss=5.04]"
      }
     },
     "e0a822d74c4c4ea9a21633e039389de2": {
      "model_module": "@jupyter-widgets/base",
      "model_module_version": "2.0.0",
      "model_name": "LayoutModel",
      "state": {
       "flex": "2"
      }
     },
     "e1160b4255cd45908e07e4baff6031b8": {
      "model_module": "@jupyter-widgets/base",
      "model_module_version": "2.0.0",
      "model_name": "LayoutModel",
      "state": {}
     },
     "e2c11699628a493b845a39bc02b0f10c": {
      "model_module": "@jupyter-widgets/controls",
      "model_module_version": "2.0.0",
      "model_name": "HTMLModel",
      "state": {
       "layout": "IPY_MODEL_d08a273a89fa48dfb59742bd9910982b",
       "style": "IPY_MODEL_cf625a639e0148da8b79289ec664a23a",
       "value": " 340/340 [00:24&lt;00:00, 13.47it/s, loss=3.26]"
      }
     },
     "e3d348f7b26e428a9168c6c7e44e6b74": {
      "model_module": "@jupyter-widgets/base",
      "model_module_version": "2.0.0",
      "model_name": "LayoutModel",
      "state": {}
     },
     "e52cc10e9d3c4d56a5da975ad9a1bafc": {
      "model_module": "@jupyter-widgets/controls",
      "model_module_version": "2.0.0",
      "model_name": "HTMLModel",
      "state": {
       "layout": "IPY_MODEL_2730c7ab83e34d17b673629207824cca",
       "style": "IPY_MODEL_dc349e247d3e445286ad5134fb486a99",
       "value": " 340/340 [00:22&lt;00:00, 16.31it/s, loss=4.39]"
      }
     },
     "e5828fa02b9d47d5a723a7428eae1330": {
      "model_module": "@jupyter-widgets/base",
      "model_module_version": "2.0.0",
      "model_name": "LayoutModel",
      "state": {}
     },
     "e6268a38352d4dca83a2013616c9eca0": {
      "model_module": "@jupyter-widgets/controls",
      "model_module_version": "2.0.0",
      "model_name": "HBoxModel",
      "state": {
       "children": [
        "IPY_MODEL_71974c012e964fb18840eafe6830de9d",
        "IPY_MODEL_3def1efd7e6947979642122affb5d00a",
        "IPY_MODEL_0a636e3a74994d759953e4b5d1ce5727"
       ],
       "layout": "IPY_MODEL_fe2dddb173594445baa6d7489042577e"
      }
     },
     "e7efee8210bf49019d2c0d1c034f3505": {
      "model_module": "@jupyter-widgets/controls",
      "model_module_version": "2.0.0",
      "model_name": "HTMLModel",
      "state": {
       "layout": "IPY_MODEL_7784e093972c46caa1323a6e46912760",
       "style": "IPY_MODEL_78320dfbef2a471f9daeab273cca7a47",
       "value": " 0/340 [00:00&lt;?, ?it/s]"
      }
     },
     "e816fa38f484488792e662f5b5b4ce31": {
      "model_module": "@jupyter-widgets/base",
      "model_module_version": "2.0.0",
      "model_name": "LayoutModel",
      "state": {}
     },
     "e85b9c5e6f374d6db2a5e219ee7fb8cc": {
      "model_module": "@jupyter-widgets/controls",
      "model_module_version": "2.0.0",
      "model_name": "HBoxModel",
      "state": {
       "children": [
        "IPY_MODEL_c8cfcb57983d45e58d4c2e45372921aa",
        "IPY_MODEL_a59bc0113c3d4393a659de5ce51fc333",
        "IPY_MODEL_47e3ab0e64734de88ed36ad9b03eb36b"
       ],
       "layout": "IPY_MODEL_5a49bc5e336d4671a081bfece48b1e87"
      }
     },
     "e8c108d0a0e64fb89dfd528487a981dc": {
      "model_module": "@jupyter-widgets/controls",
      "model_module_version": "2.0.0",
      "model_name": "HTMLStyleModel",
      "state": {
       "description_width": "",
       "font_size": null,
       "text_color": null
      }
     },
     "e95946e2f51b4e198379a8813246beaa": {
      "model_module": "@jupyter-widgets/base",
      "model_module_version": "2.0.0",
      "model_name": "LayoutModel",
      "state": {
       "display": "inline-flex",
       "flex_flow": "row wrap",
       "width": "1000px"
      }
     },
     "ea3f0c0116dc4f159568aa7c597726fa": {
      "model_module": "@jupyter-widgets/base",
      "model_module_version": "2.0.0",
      "model_name": "LayoutModel",
      "state": {}
     },
     "ea97ce80659447a694e8c1775f94675f": {
      "model_module": "@jupyter-widgets/controls",
      "model_module_version": "2.0.0",
      "model_name": "FloatProgressModel",
      "state": {
       "bar_style": "success",
       "layout": "IPY_MODEL_d223b3d232c44f52b42d867a9e1cf8d6",
       "max": 340,
       "style": "IPY_MODEL_6e53c7f7f40f44c19f11fe08ae2ba761",
       "value": 340
      }
     },
     "eb037f65f5ee4e6aada6318a4d5035c8": {
      "model_module": "@jupyter-widgets/controls",
      "model_module_version": "2.0.0",
      "model_name": "HBoxModel",
      "state": {
       "children": [
        "IPY_MODEL_ae4c52dcd9344fc1938b8bc578c1563d",
        "IPY_MODEL_589e16d0f096449dbc38346e17855667",
        "IPY_MODEL_8f8fbeeb2b8e453aaead700150a272aa"
       ],
       "layout": "IPY_MODEL_489d8c03c815401fa47324272a4aa9b6"
      }
     },
     "eb1ed512366e41e79c5c795fde05159f": {
      "model_module": "@jupyter-widgets/base",
      "model_module_version": "2.0.0",
      "model_name": "LayoutModel",
      "state": {
       "flex": "2"
      }
     },
     "eb319083e31d4eb3829ccc46b0b63de2": {
      "model_module": "@jupyter-widgets/controls",
      "model_module_version": "2.0.0",
      "model_name": "FloatProgressModel",
      "state": {
       "bar_style": "danger",
       "layout": "IPY_MODEL_2e4eaa6fd6c74d42890590081786fc9c",
       "max": 340,
       "style": "IPY_MODEL_c770a0056d2f44a386c675064187882d"
      }
     },
     "ec8a01f7761645b29cab2baf6d829cf5": {
      "model_module": "@jupyter-widgets/controls",
      "model_module_version": "2.0.0",
      "model_name": "HTMLModel",
      "state": {
       "layout": "IPY_MODEL_60dfc02fcc0149d080b4b922cc59392a",
       "style": "IPY_MODEL_24b156967e8c43d8ade7a52bca27637a",
       "value": "Epoch 8/10: 100%"
      }
     },
     "eca4948d432f4cd1b71469bc60e8570c": {
      "model_module": "@jupyter-widgets/base",
      "model_module_version": "2.0.0",
      "model_name": "LayoutModel",
      "state": {
       "flex": "2"
      }
     },
     "ece1136744804dd589427182737b3148": {
      "model_module": "@jupyter-widgets/base",
      "model_module_version": "2.0.0",
      "model_name": "LayoutModel",
      "state": {
       "display": "inline-flex",
       "flex_flow": "row wrap",
       "width": "1000px"
      }
     },
     "ed159421022241a39613be83a91ac2fb": {
      "model_module": "@jupyter-widgets/controls",
      "model_module_version": "2.0.0",
      "model_name": "HTMLModel",
      "state": {
       "layout": "IPY_MODEL_2e96dc26c4e447fea97c8166b276bc8f",
       "style": "IPY_MODEL_2d98aa9df17b402693ed758a00597a97",
       "value": "Epoch 1/10:   0%"
      }
     },
     "ed79c44e837c44b18f456db54eef842c": {
      "model_module": "@jupyter-widgets/controls",
      "model_module_version": "2.0.0",
      "model_name": "ProgressStyleModel",
      "state": {
       "description_width": ""
      }
     },
     "ef38be7f65fa4a65ade1a4494823d03d": {
      "model_module": "@jupyter-widgets/controls",
      "model_module_version": "2.0.0",
      "model_name": "HTMLModel",
      "state": {
       "layout": "IPY_MODEL_9da05f8cf7804a2ebef7a39d7486097c",
       "style": "IPY_MODEL_16f4aa4351694a74b7b12e3e4d47603c",
       "value": " 340/340 [00:23&lt;00:00, 14.34it/s, loss=3.44]"
      }
     },
     "f0dddeb772e8421cbce9a85256a730e7": {
      "model_module": "@jupyter-widgets/base",
      "model_module_version": "2.0.0",
      "model_name": "LayoutModel",
      "state": {
       "display": "inline-flex",
       "flex_flow": "row wrap",
       "width": "1000px"
      }
     },
     "f15b372411cc444bac1a57bea949dbbc": {
      "model_module": "@jupyter-widgets/base",
      "model_module_version": "2.0.0",
      "model_name": "LayoutModel",
      "state": {}
     },
     "f213104ce09445eab67f21c6374cfc59": {
      "model_module": "@jupyter-widgets/base",
      "model_module_version": "2.0.0",
      "model_name": "LayoutModel",
      "state": {
       "flex": "2"
      }
     },
     "f34be32be3664b86acc39f0d1fe777de": {
      "model_module": "@jupyter-widgets/controls",
      "model_module_version": "2.0.0",
      "model_name": "HTMLModel",
      "state": {
       "layout": "IPY_MODEL_1a82c45e7c374cdbbbaee37be5d7bc31",
       "style": "IPY_MODEL_84d2aed8413848a08ab4eb927a029752",
       "value": " 340/340 [00:22&lt;00:00, 15.73it/s, loss=1.74]"
      }
     },
     "f63fa985f6b84eda937264605f196019": {
      "model_module": "@jupyter-widgets/base",
      "model_module_version": "2.0.0",
      "model_name": "LayoutModel",
      "state": {
       "display": "inline-flex",
       "flex_flow": "row wrap",
       "width": "1000px"
      }
     },
     "f67e15111b6849fe90605bc7ac53e055": {
      "model_module": "@jupyter-widgets/controls",
      "model_module_version": "2.0.0",
      "model_name": "HTMLStyleModel",
      "state": {
       "description_width": "",
       "font_size": null,
       "text_color": null
      }
     },
     "f68b6dc1f94544529f6cbf73aa993835": {
      "model_module": "@jupyter-widgets/controls",
      "model_module_version": "2.0.0",
      "model_name": "ProgressStyleModel",
      "state": {
       "description_width": ""
      }
     },
     "f6f124287a134da9b916635be723f664": {
      "model_module": "@jupyter-widgets/controls",
      "model_module_version": "2.0.0",
      "model_name": "HTMLModel",
      "state": {
       "layout": "IPY_MODEL_a07b2921e13b403f9fae5ff564f70c9e",
       "style": "IPY_MODEL_0d28e48e7fda4479ad808920f688a6b0",
       "value": " 340/340 [00:20&lt;00:00, 17.05it/s, loss=0.757]"
      }
     },
     "f72296ffddf142a88e421ed446e939a3": {
      "model_module": "@jupyter-widgets/controls",
      "model_module_version": "2.0.0",
      "model_name": "HTMLModel",
      "state": {
       "layout": "IPY_MODEL_04d084882fda4f53b11d1a961831c46e",
       "style": "IPY_MODEL_f67e15111b6849fe90605bc7ac53e055",
       "value": " 236/340 [00:17&lt;00:07, 13.97it/s, loss=1.6]"
      }
     },
     "f85627f91e4d427bbe573c517f94a735": {
      "model_module": "@jupyter-widgets/base",
      "model_module_version": "2.0.0",
      "model_name": "LayoutModel",
      "state": {}
     },
     "fa34c74928ae40afbcd43ca3f4362f1f": {
      "model_module": "@jupyter-widgets/base",
      "model_module_version": "2.0.0",
      "model_name": "LayoutModel",
      "state": {
       "display": "inline-flex",
       "flex_flow": "row wrap",
       "width": "1000px"
      }
     },
     "fac49d89b0024c78a8db6e9e0e6f825a": {
      "model_module": "@jupyter-widgets/base",
      "model_module_version": "2.0.0",
      "model_name": "LayoutModel",
      "state": {}
     },
     "fafd47a773494cdf9212deda59d04d1e": {
      "model_module": "@jupyter-widgets/controls",
      "model_module_version": "2.0.0",
      "model_name": "HTMLModel",
      "state": {
       "layout": "IPY_MODEL_1512fc3fbcaf406a89a715c851eccff5",
       "style": "IPY_MODEL_1a08976f9e94478783b2939981062796",
       "value": "Epoch 1/10: 100%"
      }
     },
     "fb69ef660ed94321aaaa59524ca64ff6": {
      "model_module": "@jupyter-widgets/controls",
      "model_module_version": "2.0.0",
      "model_name": "HTMLStyleModel",
      "state": {
       "description_width": "",
       "font_size": null,
       "text_color": null
      }
     },
     "fc44f2765cf440208c80cee0838fdbb3": {
      "model_module": "@jupyter-widgets/controls",
      "model_module_version": "2.0.0",
      "model_name": "FloatProgressModel",
      "state": {
       "bar_style": "success",
       "layout": "IPY_MODEL_4a35e641142f4728bb6f6919110d37cd",
       "max": 340,
       "style": "IPY_MODEL_11c4042d7ead41c4a24e47a73ae6c930",
       "value": 340
      }
     },
     "fc71d67aded54a3fb90ab6c52e50eeaa": {
      "model_module": "@jupyter-widgets/base",
      "model_module_version": "2.0.0",
      "model_name": "LayoutModel",
      "state": {}
     },
     "fcbd4c52c3144c1a845172ab2f007fbd": {
      "model_module": "@jupyter-widgets/base",
      "model_module_version": "2.0.0",
      "model_name": "LayoutModel",
      "state": {
       "flex": "2"
      }
     },
     "fd1111e2f8a24e91a5148611099321ed": {
      "model_module": "@jupyter-widgets/controls",
      "model_module_version": "2.0.0",
      "model_name": "HTMLStyleModel",
      "state": {
       "description_width": "",
       "font_size": null,
       "text_color": null
      }
     },
     "fe136a340a0f431683bcaa4f6ea92deb": {
      "model_module": "@jupyter-widgets/base",
      "model_module_version": "2.0.0",
      "model_name": "LayoutModel",
      "state": {}
     },
     "fe2dddb173594445baa6d7489042577e": {
      "model_module": "@jupyter-widgets/base",
      "model_module_version": "2.0.0",
      "model_name": "LayoutModel",
      "state": {
       "display": "inline-flex",
       "flex_flow": "row wrap",
       "width": "1000px"
      }
     }
    },
    "version_major": 2,
    "version_minor": 0
   }
  }
 },
 "nbformat": 4,
 "nbformat_minor": 5
}
