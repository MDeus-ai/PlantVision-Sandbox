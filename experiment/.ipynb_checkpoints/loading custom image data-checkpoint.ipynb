{
 "cells": [
  {
   "cell_type": "markdown",
   "id": "cf253ead-9bee-4197-9ba6-0de8894a4ce6",
   "metadata": {},
   "source": [
    "<div style='background: pink; font-size: 74px; font-weight: bold'>LOADING CUSTOM IMAGE DATASETS</div>"
   ]
  },
  {
   "cell_type": "code",
   "execution_count": 2,
   "id": "1e4193bc-2328-474d-a1ba-eb9bb944e525",
   "metadata": {},
   "outputs": [],
   "source": [
    "import torch # Import Pytorch\n",
    "from torch.utils.data import Dataset # The base class to be inherited by the dataloading function"
   ]
  },
  {
   "cell_type": "markdown",
   "id": "db55d63f-5903-4ed3-859f-337e8bc40215",
   "metadata": {},
   "source": [
    "<div style='background: pink; font-size: 34px'>Custom dataloading function</div>"
   ]
  },
  {
   "cell_type": "code",
   "execution_count": 4,
   "id": "9cabca7a-298f-47b9-b25d-d18bd79fb708",
   "metadata": {},
   "outputs": [],
   "source": [
    "# KEY POINTS\n",
    "# CustomDataset must override __len__(), and __getitem__()\n",
    "# __len__() returns the size of the dataset e.g., len(dDataset)\n",
    "#__getitem__() for indexing such that dataset[i] is the ith example\n",
    "\n",
    "class CustomDataset(Dataset): # Inherit the dataset class\n",
    "    def __init__(self, image_paths):\n",
    "        self.image_paths = image_paths\n",
    " \n",
    "    def __len__(self):\n",
    "        return len(self.image_paths)\n",
    "\n",
    "    def __getitem__(self, idx): # Returns a tuple\n",
    "        image_filepath = self.image_paths[idx]\n",
    "        \n",
    "        label = image_filepath.split('/')[-2]\n",
    "        label = class_to_idx[label]\n",
    "        if self.transform is not None:\n",
    "            image = self.transform(image=image)[\"image\"]\n",
    "        \n",
    "        return image, label\n",
    "\n",
    "\n",
    "\n",
    "    "
   ]
  },
  {
   "cell_type": "markdown",
   "id": "665d9205-c7c2-49d8-a98c-411c0864c40f",
   "metadata": {},
   "source": [
    "<div style='background: gray; font-size: 34px'>1). Example one (Loading tabular data)</div>"
   ]
  },
  {
   "cell_type": "code",
   "execution_count": null,
   "id": "a30a46ee-83fd-4046-b706-212cda82c962",
   "metadata": {},
   "outputs": [],
   "source": [
    "import pandas as pd\n",
    "\n",
    "# Custom data loader\n",
    "class TabDataLoader(Dataset):\n",
    "    def __len__(self, data_directory):\n",
    "        self.dataset = pd.read_csv(\"')"
   ]
  }
 ],
 "metadata": {
  "kernelspec": {
   "display_name": "Python 3 (ipykernel)",
   "language": "python",
   "name": "python3"
  },
  "language_info": {
   "codemirror_mode": {
    "name": "ipython",
    "version": 3
   },
   "file_extension": ".py",
   "mimetype": "text/x-python",
   "name": "python",
   "nbconvert_exporter": "python",
   "pygments_lexer": "ipython3",
   "version": "3.12.6"
  },
  "widgets": {
   "application/vnd.jupyter.widget-state+json": {
    "state": {},
    "version_major": 2,
    "version_minor": 0
   }
  }
 },
 "nbformat": 4,
 "nbformat_minor": 5
}
