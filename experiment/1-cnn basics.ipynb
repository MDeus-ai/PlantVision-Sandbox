{
 "cells": [
  {
   "cell_type": "markdown",
   "id": "01eb73b5-d7b3-44a0-ba98-d8eb48a11300",
   "metadata": {},
   "source": [
    "<div style='background: cyan; font-size: 74px; font-weight: bold'>CNN BASICS</div>"
   ]
  },
  {
   "cell_type": "code",
   "execution_count": 1,
   "id": "1105e12e-53a6-4e17-bc70-f45e1a70950c",
   "metadata": {},
   "outputs": [],
   "source": [
    "import torch\n",
    "from tqdm.auto import tqdm\n",
    "import torch.nn as nn\n",
    "from torch.utils.data import DataLoader\n",
    "from torchvision import transforms\n",
    "import torchvision.datasets as datasets"
   ]
  },
  {
   "cell_type": "markdown",
   "id": "d2b15898-4be5-4f55-a9e1-fd87ba9cddfe",
   "metadata": {},
   "source": [
    "<div style='background: cyan; font-size: 74px; font-weight: bold'>DATA INGESTION</div>"
   ]
  },
  {
   "cell_type": "code",
   "execution_count": 2,
   "id": "0df81244-149c-48d1-acc3-9f74e9838370",
   "metadata": {},
   "outputs": [],
   "source": [
    "transforms = transforms.Compose([\n",
    "    transforms.Resize((24, 24)),\n",
    "    transforms.Grayscale(), # Convert an RGB to a grey channel (blank and white)\n",
    "    transforms.ToTensor()\n",
    "])"
   ]
  },
  {
   "cell_type": "code",
   "execution_count": 3,
   "id": "e8347579-008f-4dbc-ab4a-a4c72a348b60",
   "metadata": {},
   "outputs": [],
   "source": [
    "img_dataset = datasets.ImageFolder(root='../datasets/processed/', transform=transforms)\n",
    "loader = DataLoader(dataset=img_dataset, batch_size=32, shuffle=True)"
   ]
  },
  {
   "cell_type": "markdown",
   "id": "6222ac38-1d6b-471f-82b5-d5e10b0df6d9",
   "metadata": {},
   "source": [
    "<div style='background: cyan; font-size: 74px; font-weight: bold'>MODEL DEFINITION (MLP)</div>"
   ]
  },
  {
   "cell_type": "code",
   "execution_count": 4,
   "id": "7dd0c0a4-77ec-42b0-b66e-7b04ed21bc43",
   "metadata": {},
   "outputs": [],
   "source": [
    "class Mlp(nn.Module):\n",
    "    def __init__(self, input_size=24*24, hidden_size=128, output_size=38):\n",
    "        super().__init__()\n",
    "        self.layer_1 = nn.Linear(in_features=input_size, out_features=hidden_size)\n",
    "        self.relu_1 = nn.ReLU()\n",
    "        self.layer_2 = nn.Linear(in_features=hidden_size, out_features=output_size) # Output -> [batch_size, num_classes]\n",
    "        # self.softmax = nn.Softmax(dim=1)\n",
    "    def forward(self, x):\n",
    "        x = x.view(x.size(0), -1) # Flatten the inputs\n",
    "        x = self.relu_1(self.layer_1(x))\n",
    "        x = self.layer_2(x)\n",
    "        return x"
   ]
  },
  {
   "cell_type": "markdown",
   "id": "c627cc57-87bd-49bc-b448-740ad7a978d0",
   "metadata": {},
   "source": [
    "<div style='background: cyan; font-size: 74px; font-weight: bold'>TRAINING LOOP</div>"
   ]
  },
  {
   "cell_type": "code",
   "execution_count": 5,
   "id": "2b09718d-b977-45ac-8a3a-4edacfdb6187",
   "metadata": {},
   "outputs": [],
   "source": [
    "simple_mlp = Mlp()\n",
    "criterion = nn.CrossEntropyLoss() # Also handles softmax internally\n",
    "optimizer = torch.optim.Adam(simple_mlp.parameters(), lr=0.001) # Update model params"
   ]
  },
  {
   "cell_type": "code",
   "execution_count": 6,
   "id": "e1e2c3c2-ef9b-46a0-98be-569c847ae565",
   "metadata": {
    "scrolled": true
   },
   "outputs": [
    {
     "data": {
      "application/vnd.jupyter.widget-view+json": {
       "model_id": "fa8bf7787e6c4b3081d6bb01eb4de9a5",
       "version_major": 2,
       "version_minor": 0
      },
      "text/plain": [
       "Epoch 1/10:   0%|                                                                                             …"
      ]
     },
     "metadata": {},
     "output_type": "display_data"
    },
    {
     "name": "stdout",
     "output_type": "stream",
     "text": [
      "   Epoch 1, - Avg Loss: 3.1668\n"
     ]
    },
    {
     "data": {
      "application/vnd.jupyter.widget-view+json": {
       "model_id": "b4aec5d5555f482db24e603d16132b71",
       "version_major": 2,
       "version_minor": 0
      },
      "text/plain": [
       "Epoch 2/10:   0%|                                                                                             …"
      ]
     },
     "metadata": {},
     "output_type": "display_data"
    },
    {
     "name": "stdout",
     "output_type": "stream",
     "text": [
      "   Epoch 2, - Avg Loss: 2.8790\n"
     ]
    },
    {
     "data": {
      "application/vnd.jupyter.widget-view+json": {
       "model_id": "f593f7badf35488a9873d1f624c0aa02",
       "version_major": 2,
       "version_minor": 0
      },
      "text/plain": [
       "Epoch 3/10:   0%|                                                                                             …"
      ]
     },
     "metadata": {},
     "output_type": "display_data"
    },
    {
     "name": "stdout",
     "output_type": "stream",
     "text": [
      "   Epoch 3, - Avg Loss: 2.7249\n"
     ]
    },
    {
     "data": {
      "application/vnd.jupyter.widget-view+json": {
       "model_id": "6bcf04c33c6347629e8a4304eb3f828f",
       "version_major": 2,
       "version_minor": 0
      },
      "text/plain": [
       "Epoch 4/10:   0%|                                                                                             …"
      ]
     },
     "metadata": {},
     "output_type": "display_data"
    },
    {
     "name": "stdout",
     "output_type": "stream",
     "text": [
      "   Epoch 4, - Avg Loss: 2.6015\n"
     ]
    },
    {
     "data": {
      "application/vnd.jupyter.widget-view+json": {
       "model_id": "274ae3325a6e475b98622eb7778d305e",
       "version_major": 2,
       "version_minor": 0
      },
      "text/plain": [
       "Epoch 5/10:   0%|                                                                                             …"
      ]
     },
     "metadata": {},
     "output_type": "display_data"
    },
    {
     "name": "stdout",
     "output_type": "stream",
     "text": [
      "   Epoch 5, - Avg Loss: 2.5371\n"
     ]
    },
    {
     "data": {
      "application/vnd.jupyter.widget-view+json": {
       "model_id": "06bfba8d755246c7844555f18fdaea13",
       "version_major": 2,
       "version_minor": 0
      },
      "text/plain": [
       "Epoch 6/10:   0%|                                                                                             …"
      ]
     },
     "metadata": {},
     "output_type": "display_data"
    },
    {
     "name": "stdout",
     "output_type": "stream",
     "text": [
      "   Epoch 6, - Avg Loss: 2.4580\n"
     ]
    },
    {
     "data": {
      "application/vnd.jupyter.widget-view+json": {
       "model_id": "f2e802e83d454f99b75449f03ce41b66",
       "version_major": 2,
       "version_minor": 0
      },
      "text/plain": [
       "Epoch 7/10:   0%|                                                                                             …"
      ]
     },
     "metadata": {},
     "output_type": "display_data"
    },
    {
     "name": "stdout",
     "output_type": "stream",
     "text": [
      "   Epoch 7, - Avg Loss: 2.4018\n"
     ]
    },
    {
     "data": {
      "application/vnd.jupyter.widget-view+json": {
       "model_id": "b8bec62516a84e9cac0356d263e86f70",
       "version_major": 2,
       "version_minor": 0
      },
      "text/plain": [
       "Epoch 8/10:   0%|                                                                                             …"
      ]
     },
     "metadata": {},
     "output_type": "display_data"
    },
    {
     "name": "stdout",
     "output_type": "stream",
     "text": [
      "   Epoch 8, - Avg Loss: 2.3594\n"
     ]
    },
    {
     "data": {
      "application/vnd.jupyter.widget-view+json": {
       "model_id": "abea29ebdbeb49c186015ad59fbf306c",
       "version_major": 2,
       "version_minor": 0
      },
      "text/plain": [
       "Epoch 9/10:   0%|                                                                                             …"
      ]
     },
     "metadata": {},
     "output_type": "display_data"
    },
    {
     "name": "stdout",
     "output_type": "stream",
     "text": [
      "   Epoch 9, - Avg Loss: 2.3135\n"
     ]
    },
    {
     "data": {
      "application/vnd.jupyter.widget-view+json": {
       "model_id": "b0382c9234714564be292ad87c46c3da",
       "version_major": 2,
       "version_minor": 0
      },
      "text/plain": [
       "Epoch 10/10:   0%|                                                                                            …"
      ]
     },
     "metadata": {},
     "output_type": "display_data"
    },
    {
     "name": "stdout",
     "output_type": "stream",
     "text": [
      "   Epoch 10, - Avg Loss: 2.2776\n"
     ]
    }
   ],
   "source": [
    "# Training Loop\n",
    "num_epochs = 10\n",
    "\n",
    "for epoch in range(num_epochs):\n",
    "    simple_mlp.train() # Mostly for models with batch-norm\n",
    "    running_loss = 0.0\n",
    "\n",
    "    progress_bar = tqdm(loader, ncols=1000, desc=f\"Epoch {epoch+1}/{num_epochs}\") # For showing progress bars\n",
    "    for imgs, labels in progress_bar:\n",
    "        outputs = simple_mlp(imgs) # Forward pass, data ingestion\n",
    "        loss = criterion(outputs, labels) # Loss calculation\n",
    "\n",
    "        optimizer.zero_grad() # Set gradients to zero, cause grads from the previous epoch are retained by default\n",
    "        loss.backward() # perform backpropagation\n",
    "        optimizer.step() # Update weights\n",
    "\n",
    "        progress_bar.set_postfix(loss=loss.item())\n",
    "\n",
    "        running_loss += loss.item()\n",
    "    epoch_loss = running_loss / len(loader)\n",
    "    print(f\"   Epoch {epoch+1}, - Avg Loss: {epoch_loss:.4f}\") # Track loss for each epoch"
   ]
  },
  {
   "cell_type": "code",
   "execution_count": 7,
   "id": "7394500f-39a4-41aa-afbf-37d38a5dda38",
   "metadata": {},
   "outputs": [],
   "source": [
    "# logit = torch.tensor([[0.9, 1.2, 3.5, 2.6],\n",
    "#                       [0.01, 0.78, 2.3, 8.1],\n",
    "#                       [1.9, 2.81, 5.5, 3.01]]\n",
    "#                       )\n",
    "# #apply softmax\n",
    "# softmax = nn.Softmax(dim=1)\n",
    "# logit_proba = softmax(logit)\n",
    "# pred_args = torch.argmax(logit, dim=1)\n",
    "# ground_truth_labels = torch.tensor([[2, 1, 2]])\n",
    "# pred = (ground_truth_labels==pred_args)\n",
    "# pred"
   ]
  },
  {
   "cell_type": "markdown",
   "id": "377b8b78-0087-4bac-9907-88d9626c9b81",
   "metadata": {},
   "source": [
    "<div style='background: cyan; font-size: 74px; font-weight: bold'>MODEL DEFINITION (CNN)</div>"
   ]
  },
  {
   "cell_type": "code",
   "execution_count": 8,
   "id": "e6d86ead-9b15-44c6-913d-3450bc1a759e",
   "metadata": {},
   "outputs": [],
   "source": [
    "from torchvision import transforms\n",
    "transforms_rgb = transforms.Compose([\n",
    "    transforms.Resize((24, 24)),\n",
    "    transforms.ToTensor()\n",
    "])"
   ]
  },
  {
   "cell_type": "code",
   "execution_count": null,
   "id": "55088437-0d75-4438-b6b7-44e777ff3277",
   "metadata": {},
   "outputs": [
    {
     "data": {
      "application/vnd.jupyter.widget-view+json": {
       "model_id": "ec9e7baa5b4f4aa2a64c8c3292370d41",
       "version_major": 2,
       "version_minor": 0
      },
      "text/plain": [
       "Epoch 1/10:   0%|                                                                                             …"
      ]
     },
     "metadata": {},
     "output_type": "display_data"
    }
   ],
   "source": [
    "\"\"\"\n",
    "IMPORTANT!!!!\n",
    "For a JxK image and an MxM filter/kernel\n",
    "Conv2d's output is calculated as (J-M+1) X (K-M+1) for zero padding\n",
    "for padding applied, the output is calculated as ((J+2P-M)+1) x ((K+2P-M)+1)\n",
    "\n",
    "MaxPool2d layer's output is calculated as (..., (J-M+1)/2, (K-M+1)/2) if there's zero padding\n",
    "\"\"\"\n",
    "class CNN(nn.Module):\n",
    "    def __init__(self, input_size=24*24, hidden_size=64, output_size=38):\n",
    "        super().__init__()\n",
    "        self.conv1 = nn.Conv2d(in_channels=3, out_channels=5, kernel_size=3) # output->(5, 22, 22)\n",
    "        self.relu1 = nn.ReLU()\n",
    "        self.conv2 = nn.Conv2d(in_channels=5, out_channels=10, kernel_size=3) # output->(10, 20, 20)\n",
    "        self.relu2 = nn.ReLU()\n",
    "\n",
    "        self.pool = nn.MaxPool2d(kernel_size=2, stride=2) # output ->(10, 10, 10)\n",
    "\n",
    "        self.layer_1 = nn.Linear(in_features=10*10*10, out_features=hidden_size)\n",
    "        self.relu3 = nn.ReLU()\n",
    "        self.layer_2 = nn.Linear(in_features=hidden_size, out_features=output_size)\n",
    "\n",
    "    def forward(self, x):\n",
    "        x = self.relu1(self.conv1(x))\n",
    "        x = self.relu2(self.conv2(x))\n",
    "\n",
    "        x = self.pool(x)\n",
    "        x = x.view(x.size(0), -1)\n",
    "        x = self.relu3(self.layer_1(x))\n",
    "        x = self.layer_2(x)\n",
    "        return x\n",
    "\n",
    "\n",
    "# Data prep\n",
    "img_dataset_rgb = datasets.ImageFolder(root='../datasets/processed/', transform=transforms_rgb)\n",
    "loader_rgb = DataLoader(dataset=img_dataset_rgb, batch_size=32, shuffle=True)\n",
    "\n",
    "# cnn model instance\n",
    "cnn = CNN()\n",
    "criterion1 = nn.CrossEntropyLoss() # Also handles softmax internally\n",
    "optimizer1 = torch.optim.Adam(cnn.parameters(), lr=0.001) # Update model params\n",
    "\n",
    "# Training Loop\n",
    "num_epochs = 10\n",
    "\n",
    "for epoch in range(num_epochs):\n",
    "    simple_mlp.train()\n",
    "    running_loss = 0.0\n",
    "\n",
    "    progress_bar = tqdm(loader_rgb, ncols=1000, desc=f\"Epoch {epoch+1}/{num_epochs}\")\n",
    "    for imgs, labels in progress_bar:\n",
    "        outputs = cnn(imgs)\n",
    "        loss = criterion1(outputs, labels)\n",
    "\n",
    "        optimizer1.zero_grad()\n",
    "        loss.backward()\n",
    "        optimizer1.step()\n",
    "\n",
    "        progress_bar.set_postfix(loss=loss.item())\n",
    "\n",
    "        running_loss += loss.item()\n",
    "    epoch_loss = running_loss / len(loader)\n",
    "    print(f\"   Epoch {epoch+1}, - Avg Loss: {epoch_loss:.4f}\")"
   ]
  },
  {
   "cell_type": "code",
   "execution_count": null,
   "id": "9fb94a4f-4ada-45d3-9d64-c1fddc6166d2",
   "metadata": {},
   "outputs": [],
   "source": []
  }
 ],
 "metadata": {
  "kernelspec": {
   "display_name": "Python 3 (ipykernel)",
   "language": "python",
   "name": "python3"
  },
  "language_info": {
   "codemirror_mode": {
    "name": "ipython",
    "version": 3
   },
   "file_extension": ".py",
   "mimetype": "text/x-python",
   "name": "python",
   "nbconvert_exporter": "python",
   "pygments_lexer": "ipython3",
   "version": "3.13.5"
  },
  "widgets": {
   "application/vnd.jupyter.widget-state+json": {
    "state": {},
    "version_major": 2,
    "version_minor": 0
   }
  }
 },
 "nbformat": 4,
 "nbformat_minor": 5
}
